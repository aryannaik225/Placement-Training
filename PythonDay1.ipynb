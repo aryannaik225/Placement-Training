{
 "cells": [
  {
   "cell_type": "code",
   "execution_count": 1,
   "metadata": {},
   "outputs": [
    {
     "name": "stdout",
     "output_type": "stream",
     "text": [
      "Oh hi  so you are from \n"
     ]
    }
   ],
   "source": [
    "#op who are you:\n",
    "# hi name, where are you from?:\n",
    "# oh hi name so you are from place\n",
    "\n",
    "name = input(\"Who are you:\")\n",
    "place = input(\"Hi \"+name+\", where are you from?: \")\n",
    "print(\"Oh hi \"+name+\" so you are from\",place)\n"
   ]
  },
  {
   "cell_type": "code",
   "execution_count": 3,
   "metadata": {},
   "outputs": [
    {
     "name": "stdout",
     "output_type": "stream",
     "text": [
      "You have 250 paise\n"
     ]
    }
   ],
   "source": [
    "#convert given Rs. and Paise in Paise only\n",
    "#2.5INR = 250 Paise\n",
    "# o/p in paise\n",
    "# process: multiply inr into 100\n",
    "# input : inr\n",
    "\n",
    "inr = float(input(\"Enter amount in inr\"))\n",
    "paise = int(inr*100)\n",
    "print(\"You have\",paise,\"paise\")"
   ]
  },
  {
   "cell_type": "code",
   "execution_count": 4,
   "metadata": {},
   "outputs": [
    {
     "name": "stdout",
     "output_type": "stream",
     "text": [
      "You have 12 rupees and 45 paise\n"
     ]
    }
   ],
   "source": [
    "#convert given Paise only in Rs. and Paise\n",
    "# 250 Paise = 2.5INR\n",
    "# o/p in inr and paise\n",
    "# process: divide paise by 100\n",
    "# input : paise\n",
    "\n",
    "paise = int(input(\"Enter amount in paise: \"))\n",
    "paise2 = paise%100\n",
    "rupee = paise//100\n",
    "print(\"You have\",rupee,\"rupees and\",paise2,\"paise\")"
   ]
  },
  {
   "cell_type": "code",
   "execution_count": 6,
   "metadata": {},
   "outputs": [
    {
     "name": "stdout",
     "output_type": "stream",
     "text": [
      "Total seconds = 58825\n"
     ]
    }
   ],
   "source": [
    "# convert given hours, mins and sec in seconds only\n",
    "# o/p = ------ seconds\n",
    "# process: h*3600+m*60+s\n",
    "# i/p: h/m/s\n",
    "\n",
    "# hours = int(input(\"Enter number of hours: \"))\n",
    "# mins = int(input(\"Enter number of minutes: \"))\n",
    "# secs = int(input(\"Enter number of seconds: \"))\n",
    "hours,mins,secs = int(input(\"Hours: \")),int(input(\"Minutes: \")),int(input(\"Seconds: \"))\n",
    "seconds = (hours*3600)+(mins*60)+secs\n",
    "print(\"Total seconds =\",seconds)"
   ]
  },
  {
   "cell_type": "code",
   "execution_count": 10,
   "metadata": {},
   "outputs": [
    {
     "name": "stdout",
     "output_type": "stream",
     "text": [
      "Hours: 16 \n",
      "Minutes: 20 \n",
      "Seconds: 25\n"
     ]
    }
   ],
   "source": [
    "# upar ka ulta\n",
    "# convert given seconds only in hours, minutes, seconds\n",
    "# o/p = -- hours -- mins -- seconds\n",
    "# process: s//3600; s%3600; \n",
    "# i/p = seconds\n",
    "\n",
    "secs = int(input(\"Enter time only in seconds: \"))\n",
    "hours = secs//3600\n",
    "remain = secs%3600\n",
    "mins = remain//60\n",
    "secs = remain%60\n",
    "print(\"Hours:\",hours,\"\\nMinutes:\",mins,\"\\nSeconds:\",secs)"
   ]
  },
  {
   "cell_type": "code",
   "execution_count": 15,
   "metadata": {},
   "outputs": [
    {
     "name": "stdout",
     "output_type": "stream",
     "text": [
      "Time One\n",
      "Time One==> 2 : 33 : 48\n",
      "Time Two\n",
      "Time Two==> 5 : 54 : 52\n",
      "Addition ==> 8 : 28 : 40\n"
     ]
    }
   ],
   "source": [
    "# add 2 times in hh:mm:ss\n",
    "# 2:33:48 + 5:54:52\n",
    "\n",
    "def secsToHours(s):\n",
    "  h = s//3600\n",
    "  remain = s%3600\n",
    "  m = remain//60\n",
    "  s = remain%60\n",
    "  print(\"Addition ==>\",h,\":\",m,\":\",s)\n",
    "\n",
    "def hoursToSec(h,m,s):\n",
    "  seconds = (h*3600)+(m*60)+s\n",
    "  return seconds\n",
    "\n",
    "print(\"Time One\")\n",
    "h1,m1,s1 = int(input(\"Hours: \")),int(input(\"Minutes: \")),int(input(\"Seconds: \"))\n",
    "print(\"Time One==>\",h1,\":\",m1,\":\",s1)\n",
    "print(\"Time Two\")\n",
    "h2,m2,s2 = int(input(\"Hours: \")),int(input(\"Minutes: \")),int(input(\"Seconds: \"))\n",
    "print(\"Time Two==>\",h2,\":\",m2,\":\",s2)\n",
    "\n",
    "resultSec = hoursToSec(h1,m1,s1)+hoursToSec(h2,m2,s2)\n",
    "secsToHours(resultSec)\n"
   ]
  },
  {
   "cell_type": "code",
   "execution_count": 12,
   "metadata": {},
   "outputs": [
    {
     "name": "stdout",
     "output_type": "stream",
     "text": [
      "20\n",
      "5\n"
     ]
    }
   ],
   "source": [
    "# double the data in x=1000\n",
    "# also half it\n",
    "# do not use any arithematic operator\n",
    "\n",
    "var = int(input(\"Enter a number: \"))\n",
    "print(var<<1)\n",
    "print(var>>1)"
   ]
  },
  {
   "cell_type": "code",
   "execution_count": null,
   "metadata": {},
   "outputs": [
    {
     "name": "stdout",
     "output_type": "stream",
     "text": [
      "-15 is negative\n"
     ]
    }
   ],
   "source": [
    "# check number +ve or -ve or zero\n",
    "\n",
    "num = int(input(\"Enter a number: \"))\n",
    "if num>0:\n",
    "  print(num,\"is positive\")\n",
    "elif num<0:\n",
    "  print(num,\"is negative\")\n",
    "else: \n",
    "  print(num,\"is zero\")\n"
   ]
  },
  {
   "cell_type": "code",
   "execution_count": null,
   "metadata": {},
   "outputs": [
    {
     "name": "stdout",
     "output_type": "stream",
     "text": [
      "Total Bill: 4658 \n",
      "Discount Percentage: 5%\n",
      "Discount: 232.9 \n",
      "Final Amount: 4425.1\n"
     ]
    }
   ],
   "source": [
    "# give discount on bill\n",
    "# ask for bill amount and \n",
    "# 2% off if bill upto 2000\n",
    "# 5% off if bill upto 5000\n",
    "# 10% off if bill upto 10000 and above\n",
    "# bill, discount and final amount\n",
    "\n",
    "bill = int(input(\"Enter you bill amount: \"))\n",
    "if bill>0 and bill<=2000:\n",
    "  dis = (2*bill)/100\n",
    "  print(\"Total Bill:\",bill,\"\\nDiscount Percentage: 2%\\nDiscount:\",dis,\"\\nFinal Amount:\",(bill-dis)) \n",
    "elif bill>2000 and bill<=5000:\n",
    "  dis = (5*bill)/100\n",
    "  print(\"Total Bill:\",bill,\"\\nDiscount Percentage: 5%\\nDiscount:\",dis,\"\\nFinal Amount:\",(bill-dis))\n",
    "elif bill>5000:\n",
    "  dis = (10*bill)/100\n",
    "  print(\"Total Bill:\",bill,\"\\nDiscount Percentage: 10%\\nDiscount:\",dis,\"\\nFinal Amount:\",(bill-dis))\n",
    "else:\n",
    "  print(\"Enter valid amount\")\n",
    "  \n"
   ]
  },
  {
   "cell_type": "code",
   "execution_count": 2,
   "metadata": {},
   "outputs": [
    {
     "name": "stdout",
     "output_type": "stream",
     "text": [
      "1, 2, 3, 4, 5\n"
     ]
    }
   ],
   "source": [
    "# print 1 to n where n>0 some number\n",
    "\n",
    "n = int(input(\"Enter a number: \"))\n",
    "i=1\n",
    "while i<n:\n",
    "  print(i, end=', ')\n",
    "  i+=1\n",
    "print(i)"
   ]
  },
  {
   "cell_type": "code",
   "execution_count": 5,
   "metadata": {},
   "outputs": [
    {
     "name": "stdout",
     "output_type": "stream",
     "text": [
      "2.0, 2.5, 3.0, 3.5, 4.0, 4.5, 5.0\n"
     ]
    }
   ],
   "source": [
    "# Accenture Interview Question\n",
    "# Take start, end and step from user and print it in increasing order.\n",
    "# start = 2\n",
    "# end = 5\n",
    "# step = 0.5\n",
    "\n",
    "start = float(input(\"Start: \"))\n",
    "end = float(input(\"End: \"))\n",
    "step = float(input(\"Step: \"))\n",
    "\n",
    "while start<end:\n",
    "  print(start, end=\", \")\n",
    "  start+=step\n",
    "print(start)"
   ]
  },
  {
   "cell_type": "code",
   "execution_count": 8,
   "metadata": {},
   "outputs": [
    {
     "name": "stdout",
     "output_type": "stream",
     "text": [
      "2, 1, 0, -1, -2\n"
     ]
    }
   ],
   "source": [
    "# read start and end from user and print the range\n",
    "# start:2 end:5   2,3,4,5  counter\n",
    "# start:2 end:-2  2,1,0,-1,2 countdown\n",
    "\n",
    "start = int(input(\"Start: \"))\n",
    "end = int(input(\"End: \"))\n",
    "\n",
    "if start<end:\n",
    "  while start<end:\n",
    "    print(start, end=\", \")\n",
    "    start+=1\n",
    "  print(start)\n",
    "else:\n",
    "  while start>end:\n",
    "    print(start, end=\", \")\n",
    "    start-=1\n",
    "  print(start)"
   ]
  },
  {
   "cell_type": "code",
   "execution_count": 13,
   "metadata": {},
   "outputs": [
    {
     "name": "stdout",
     "output_type": "stream",
     "text": [
      "2,3,4,5\n"
     ]
    }
   ],
   "source": [
    "# Tech Mahindra Code\n",
    "# read start and end from user and print the range\n",
    "# start:2 end:5   2,3,4,5  counter\n",
    "# start:2 end:-2  2,1,0,-1,2 countdown\n",
    "\n",
    "start = int(input(\"Start: \"))\n",
    "end = int(input(\"End: \"))\n",
    "if start>end:\n",
    "  step=-1\n",
    "else:\n",
    "  step=1\n",
    "\n",
    "for i in range(start, end, step):\n",
    "  print(i, end=\",\")\n",
    "print(i+step)"
   ]
  },
  {
   "cell_type": "code",
   "execution_count": null,
   "metadata": {},
   "outputs": [
    {
     "name": "stdout",
     "output_type": "stream",
     "text": [
      "1=>\n",
      "2=>ying \n",
      "3=>yang \n",
      "4=>ying \n",
      "5=>zing \n",
      "6=>ying yang \n",
      "7=>\n",
      "8=>ying \n",
      "9=>yang \n",
      "10=>ying zing \n",
      "11=>\n",
      "12=>ying yang \n",
      "13=>\n",
      "14=>ying \n",
      "15=>yang zing \n",
      "16=>ying \n",
      "17=>\n",
      "18=>ying yang \n",
      "19=>\n",
      "20=>ying zing \n",
      "21=>yang \n",
      "22=>ying \n",
      "23=>\n",
      "24=>ying yang \n",
      "25=>zing \n",
      "26=>ying \n",
      "27=>yang \n",
      "28=>ying \n",
      "29=>\n",
      "30=>ying yang zing \n",
      "31=>\n",
      "32=>ying \n",
      "33=>yang \n",
      "34=>ying \n",
      "35=>zing \n",
      "36=>ying yang \n",
      "37=>\n",
      "38=>ying \n",
      "39=>yang \n",
      "40=>ying zing \n",
      "41=>\n",
      "42=>ying yang \n",
      "43=>\n",
      "44=>ying \n",
      "45=>yang zing \n",
      "46=>ying \n",
      "47=>\n",
      "48=>ying yang \n",
      "49=>\n",
      "50=>ying zing \n"
     ]
    }
   ],
   "source": [
    "# Some interview question\n",
    "# i also saw this in hackkerrank\n",
    "# ying_yang_zing \n",
    "# take a range from user:  start, end\n",
    "# print ying if number is perfectly divisible by 2\n",
    "# print yang if number is perfectly divisible by 3\n",
    "# print zing if number is perfectly divisible by 5\n",
    "\n",
    "start = int(input(\"Start: \"))\n",
    "end = int(input(\"End: \"))\n",
    "\n",
    "for i in range(start, end+1):\n",
    "  print(i, end=\"=>\")\n",
    "  if i%2==0:\n",
    "    print(\"ying\", end=\" \")\n",
    "  if i%3==0:\n",
    "    print(\"yang\", end=\" \")\n",
    "  if i%5==0:\n",
    "    print(\"zing\", end=\" \")\n",
    "  print(\"\")"
   ]
  },
  {
   "cell_type": "code",
   "execution_count": 19,
   "metadata": {},
   "outputs": [
    {
     "name": "stdout",
     "output_type": "stream",
     "text": [
      "Old value: -1 \n",
      "New value: 25\n",
      "Improved by 0\n",
      "Old value: 25 \n",
      "New value: 35\n",
      "Improved by 0\n",
      "Old value: 35 \n",
      "New value: 45\n",
      "Improved by 0\n",
      "Old value: 45 \n",
      "New value: 55\n",
      "Improved by 0\n",
      "Old value: 55 \n",
      "New value: 65\n",
      "Improved by 0\n",
      "Old value: 65 \n",
      "New value: 55\n",
      "Loss of 10\n",
      "Loss detected, bankrupted\n"
     ]
    }
   ],
   "source": [
    "# take a new value of a share every turn\n",
    "# continue if share value is increasing\n",
    "# stop if share value decreases\n",
    "# 22 23 25 28 36 37 20(stop)\n",
    "\n",
    "old = -1\n",
    "while True:\n",
    "  new = int(input(\"Enter new share value: \"))\n",
    "  print(\"Old value:\",old,\"\\nNew value:\",new)\n",
    "  if new<old:\n",
    "    print(\"Loss of\",(old-new))\n",
    "    print(\"Loss detected, bankrupted\")\n",
    "    break\n",
    "  old = new\n",
    "  print(\"Improved by\",(new-old))\n"
   ]
  },
  {
   "cell_type": "code",
   "execution_count": 20,
   "metadata": {},
   "outputs": [
    {
     "name": "stdout",
     "output_type": "stream",
     "text": [
      "*\n",
      "**\n",
      "***\n",
      "****\n",
      "*****\n"
     ]
    }
   ],
   "source": [
    "# print the pattern using only one for loop\n",
    "# *\n",
    "# **\n",
    "# *** and so on\n",
    "\n",
    "n = int(input(\"Enter a number: \"))\n",
    "for i in range(1,n+1):\n",
    "  print(\"*\"*i)"
   ]
  },
  {
   "cell_type": "code",
   "execution_count": 21,
   "metadata": {},
   "outputs": [
    {
     "name": "stdout",
     "output_type": "stream",
     "text": [
      "*******\n",
      "*****\n",
      "***\n",
      "*\n"
     ]
    }
   ],
   "source": [
    "# print the following pattern\n",
    "# *******\n",
    "# *****\n",
    "# ***\n",
    "# *\n",
    "\n",
    "n = int(input(\"Enter a number: \"))\n",
    "for i in range(n,0,-2):\n",
    "  print(\"*\"*i)"
   ]
  },
  {
   "cell_type": "code",
   "execution_count": 26,
   "metadata": {},
   "outputs": [
    {
     "name": "stdout",
     "output_type": "stream",
     "text": [
      "      *\n",
      "     **\n",
      "    ***\n",
      "   ****\n",
      "  *****\n",
      " ******\n"
     ]
    }
   ],
   "source": [
    "# print the following pattern\n",
    "#     *\n",
    "#    **\n",
    "#   ***\n",
    "\n",
    "n = int(input(\"Enter a number: \"))\n",
    "for i in range (1,n+1):\n",
    "  print(\" \"*(n+1-i), end=\"\")\n",
    "  print(\"*\"*i)"
   ]
  },
  {
   "cell_type": "code",
   "execution_count": 28,
   "metadata": {},
   "outputs": [
    {
     "name": "stdout",
     "output_type": "stream",
     "text": [
      "                    * \n",
      "                   * * \n",
      "                  * * * \n",
      "                 * * * * \n",
      "                * * * * * \n",
      "               * * * * * * \n",
      "              * * * * * * * \n",
      "             * * * * * * * * \n",
      "            * * * * * * * * * \n",
      "           * * * * * * * * * * \n",
      "          * * * * * * * * * * * \n",
      "         * * * * * * * * * * * * \n",
      "        * * * * * * * * * * * * * \n",
      "       * * * * * * * * * * * * * * \n",
      "      * * * * * * * * * * * * * * * \n",
      "     * * * * * * * * * * * * * * * * \n",
      "    * * * * * * * * * * * * * * * * * \n",
      "   * * * * * * * * * * * * * * * * * * \n",
      "  * * * * * * * * * * * * * * * * * * * \n",
      " * * * * * * * * * * * * * * * * * * * * \n"
     ]
    }
   ],
   "source": [
    "# christmas tree\n",
    "\n",
    "n = int(input(\"Enter a number: \"))\n",
    "for i in range (1,n+1):\n",
    "  print(\" \"*(n+1-i), end=\"\")\n",
    "  print(\"* \"*i)\n"
   ]
  },
  {
   "cell_type": "code",
   "execution_count": 30,
   "metadata": {},
   "outputs": [
    {
     "name": "stdout",
     "output_type": "stream",
     "text": [
      "What do you want?\n",
      "Press 1 for Tea === 10$\n",
      "Press 2 for Coffee === 40$\n",
      "Press 3 for Water === 20$\n",
      "Press 4 for confirming your order\n",
      "Ordering Tea\n",
      "Total Amount till now: 10\n",
      "Ordering Tea\n",
      "Total Amount till now: 20\n",
      "Ordering Coffee\n",
      "Total Amount till now: 60\n",
      "Ordering Water\n",
      "Total Amount till now: 80\n",
      "Enter Valid Input\n",
      "Ordering Tea\n",
      "Total Amount till now: 90\n",
      "Ordering Coffee\n",
      "Total Amount till now: 130\n",
      "Ordering Coffee\n",
      "Total Amount till now: 170\n",
      "Thank you for ordering\n",
      "Your Total Amount: 170\n"
     ]
    }
   ],
   "source": [
    "# menu for tea stall 1.tea 10 2.coffee 40 3.water 20\n",
    "# generate menu and allow user to select item and pay for charge\n",
    "\n",
    "print(\"What do you want?\\nPress 1 for Tea === 10$\\nPress 2 for Coffee === 40$\\nPress 3 for Water === 20$\\nPress 4 for confirming your order\")\n",
    "amt = 0\n",
    "while True:\n",
    "  choice = input((\"Your choice: \"))\n",
    "  if choice == '1':\n",
    "    print(\"Ordering Tea\\nTotal Amount till now:\",(amt+10))\n",
    "    amt+=10\n",
    "  elif choice == '2':\n",
    "    print(\"Ordering Coffee\\nTotal Amount till now:\",(amt+40))\n",
    "    amt+=40\n",
    "  elif choice == '3':\n",
    "    print(\"Ordering Water\\nTotal Amount till now:\",(amt+20))\n",
    "    amt+=20\n",
    "  elif choice == '4':\n",
    "    print(\"Thank you for ordering\")\n",
    "    break\n",
    "  else:\n",
    "    print(\"Enter Valid Input\")\n",
    "\n",
    "print(\"Your Total Amount:\",amt)\n",
    "\n",
    "    "
   ]
  }
 ],
 "metadata": {
  "kernelspec": {
   "display_name": "Python 3",
   "language": "python",
   "name": "python3"
  },
  "language_info": {
   "codemirror_mode": {
    "name": "ipython",
    "version": 3
   },
   "file_extension": ".py",
   "mimetype": "text/x-python",
   "name": "python",
   "nbconvert_exporter": "python",
   "pygments_lexer": "ipython3",
   "version": "3.12.7"
  }
 },
 "nbformat": 4,
 "nbformat_minor": 2
}
