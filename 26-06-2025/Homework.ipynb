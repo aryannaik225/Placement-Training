{
 "cells": [
  {
   "cell_type": "markdown",
   "id": "4563c4ad",
   "metadata": {},
   "source": [
    "**LeetCode Questions** <br>\n",
    "1. Q-100 same tree \n",
    "2. Q-101 symmetric tree \n",
    "3. Q-110 Balanced tree\n",
    "4. Q-111 min depth of binary tree \n",
    "5. Q-104 max depth of binary tree \n",
    "6. Q-112 path sum \n",
    "7. Q-113 path sum II \n",
    "8. Q-297 Serialize and Deserialize Binary Tree"
   ]
  }
 ],
 "metadata": {
  "language_info": {
   "name": "python"
  }
 },
 "nbformat": 4,
 "nbformat_minor": 5
}
