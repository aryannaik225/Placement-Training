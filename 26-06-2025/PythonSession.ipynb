{
 "cells": [
  {
   "cell_type": "markdown",
   "id": "71b6979b",
   "metadata": {},
   "source": [
    "### Graph"
   ]
  },
  {
   "cell_type": "code",
   "execution_count": 6,
   "id": "ccf167ab",
   "metadata": {},
   "outputs": [
    {
     "name": "stdout",
     "output_type": "stream",
     "text": [
      "{'a': ['b', 'd', 'c'], 'b': ['a', 'c', 'd'], 'd': ['a', 'b', 'c'], 'c': ['a', 'b', 'd']}\n",
      "A:  ['b', 'd', 'c']\n",
      "B:  ['a', 'c', 'd']\n",
      "C:  ['a', 'b', 'd']\n",
      "D:  ['a', 'b', 'c']\n"
     ]
    }
   ],
   "source": [
    "# Undirected Graph\n",
    "\n",
    "class Graph:\n",
    "  def __init__(self):\n",
    "    self.graph = {}\n",
    "\n",
    "  def addedges(self, u, v):\n",
    "    if u not in self.graph:\n",
    "      self.graph[u]= []\n",
    "    if v not in self.graph:\n",
    "      self.graph[v] = []\n",
    "\n",
    "    self.graph[u].append(v)\n",
    "    self.graph[v].append(u)\n",
    "\n",
    "x = Graph()\n",
    "x.addedges(\"a\", \"b\")\n",
    "x.addedges(\"a\", \"d\")\n",
    "x.addedges(\"a\", \"c\")\n",
    "x.addedges(\"b\", \"c\")\n",
    "x.addedges(\"b\", \"d\")\n",
    "x.addedges(\"c\", \"d\")\n",
    "\n",
    "print(x.graph)\n",
    "print(\"A: \",x.graph[\"a\"])\n",
    "print(\"B: \",x.graph[\"b\"])\n",
    "print(\"C: \",x.graph[\"c\"])\n",
    "print(\"D: \",x.graph[\"d\"])"
   ]
  },
  {
   "cell_type": "code",
   "execution_count": 7,
   "id": "79882c4d",
   "metadata": {},
   "outputs": [
    {
     "name": "stdout",
     "output_type": "stream",
     "text": [
      "{'a': ['b', 'd', 'c'], 'b': ['c', 'd'], 'd': [], 'c': ['d']}\n",
      "A:  ['b', 'd', 'c']\n",
      "B:  ['c', 'd']\n",
      "C:  ['d']\n",
      "D:  []\n"
     ]
    }
   ],
   "source": [
    "# Directed Graph\n",
    "\n",
    "class Graph:\n",
    "  def __init__(self):\n",
    "    self.graph = {}\n",
    "\n",
    "  def addedges(self, u, v):\n",
    "    if u not in self.graph:\n",
    "      self.graph[u]= []\n",
    "    if v not in self.graph:\n",
    "      self.graph[v] = []\n",
    "\n",
    "    self.graph[u].append(v)\n",
    "\n",
    "x = Graph()\n",
    "x.addedges(\"a\", \"b\")\n",
    "x.addedges(\"a\", \"d\")\n",
    "x.addedges(\"a\", \"c\")\n",
    "x.addedges(\"b\", \"c\")\n",
    "x.addedges(\"b\", \"d\")\n",
    "x.addedges(\"c\", \"d\")\n",
    "\n",
    "print(x.graph)\n",
    "print(\"A: \",x.graph[\"a\"])\n",
    "print(\"B: \",x.graph[\"b\"])\n",
    "print(\"C: \",x.graph[\"c\"])\n",
    "print(\"D: \",x.graph[\"d\"])"
   ]
  },
  {
   "cell_type": "code",
   "execution_count": null,
   "id": "30792979",
   "metadata": {},
   "outputs": [
    {
     "name": "stdout",
     "output_type": "stream",
     "text": [
      "a b d c e \n",
      "a d c b e \n",
      "\n",
      "path from a to e ['a', 'b', 'e']\n",
      "\n",
      "path from a to c ['a', 'b', 'c']\n"
     ]
    }
   ],
   "source": [
    "# BFS for Graph\n",
    "\n",
    "\n",
    "class Graph:\n",
    "  def __init__(self):\n",
    "    self.graph = {}\n",
    "\n",
    "  def addedges(self, u, v):\n",
    "    if u not in self.graph:\n",
    "      self.graph[u]= []\n",
    "    if v not in self.graph:\n",
    "      self.graph[v] = []\n",
    "\n",
    "    self.graph[u].append(v)\n",
    "    self.graph[v].append(u)\n",
    "\n",
    "\n",
    "  def bfs(self, start_node):\n",
    "    visited = []\n",
    "    queue = []\n",
    "    if not start_node:\n",
    "      return\n",
    "    queue.append(start_node)\n",
    "    while queue:\n",
    "      start_node = queue.pop(0)\n",
    "      if start_node not in visited:\n",
    "        visited.append(start_node)\n",
    "      for i in self.graph[start_node]:\n",
    "        if i not in visited:\n",
    "          queue.append(i)\n",
    "\n",
    "    return visited      \n",
    "      \n",
    "    \n",
    "  def dfs(self, start_node):\n",
    "    visited = []\n",
    "    queue = []\n",
    "    if not start_node:\n",
    "      return\n",
    "    queue.append(start_node)\n",
    "    while queue:\n",
    "      start_node = queue.pop()\n",
    "      if start_node not in visited:\n",
    "        visited.append(start_node)\n",
    "      for i in self.graph[start_node]:\n",
    "        if i not in visited:\n",
    "          queue.append(i)\n",
    "\n",
    "    return visited    \n",
    "\n",
    "\n",
    "  def findpath(self,s,d):\n",
    "      visited=set()\n",
    "      path=[]\n",
    "      def dfs(current):\n",
    "          visited.add(current)\n",
    "          path.append(current)\n",
    "          if current == d:\n",
    "              return True\n",
    "          for neighbor in self.graph.get(current, []):\n",
    "              if neighbor not in visited:\n",
    "                  if dfs(neighbor):\n",
    "                      return True\n",
    "          path.pop()\n",
    "          return False\n",
    "      ele=dfs(s)\n",
    "      if ele:\n",
    "          print(\"\")\n",
    "          print(f\"path from {s} to {d}\",path)\n",
    "      else:\n",
    "          print(\"no path\")\n",
    "    \n",
    "\n",
    "\n",
    "x = Graph()\n",
    "x.addedges(\"a\", \"b\")\n",
    "x.addedges(\"a\", \"d\")\n",
    "x.addedges(\"b\", \"c\")\n",
    "x.addedges(\"b\", \"e\")\n",
    "x.addedges(\"d\", \"c\")\n",
    "\n",
    "for i in (x.bfs('a')):\n",
    "  print(i, end=' ')\n",
    "print(\"\")\n",
    "\n",
    "for i in (x.dfs('a')):\n",
    "  print(i, end=' ')\n",
    "print(\"\")\n",
    "\n",
    "x.findpath('a', 'e')\n",
    "x.findpath('a', 'c')"
   ]
  },
  {
   "cell_type": "code",
   "execution_count": null,
   "id": "d10743bb",
   "metadata": {},
   "outputs": [
    {
     "name": "stdout",
     "output_type": "stream",
     "text": [
      "0 0 0 0 0 \n",
      "0 0 0 0 0 \n",
      "0 0 0 0 0 \n",
      "0 0 0 0 0 \n",
      "0 0 0 0 0 \n",
      "Adjacency Matrix after adding edges:\n",
      "0 1 0 1 0 \n",
      "1 0 1 1 0 \n",
      "0 1 0 1 0 \n",
      "1 1 1 0 0 \n",
      "0 0 0 0 0 \n"
     ]
    }
   ],
   "source": [
    "# Adjacency Matrix\n",
    "\n",
    "matrix = [[0]*5 for _ in range(5)]\n"
   ]
  }
 ],
 "metadata": {
  "kernelspec": {
   "display_name": "Python 3",
   "language": "python",
   "name": "python3"
  },
  "language_info": {
   "codemirror_mode": {
    "name": "ipython",
    "version": 3
   },
   "file_extension": ".py",
   "mimetype": "text/x-python",
   "name": "python",
   "nbconvert_exporter": "python",
   "pygments_lexer": "ipython3",
   "version": "3.12.7"
  }
 },
 "nbformat": 4,
 "nbformat_minor": 5
}
