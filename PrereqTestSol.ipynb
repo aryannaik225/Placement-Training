{
 "cells": [
  {
   "cell_type": "code",
   "execution_count": 7,
   "metadata": {},
   "outputs": [
    {
     "name": "stdout",
     "output_type": "stream",
     "text": [
      "3\n"
     ]
    }
   ],
   "source": [
    "# Word Count\n",
    "# Write a function that takes a string and a word as input, and returns the number of occurences of that word in the string.\n",
    "# The search should be case-insensitive.\n",
    "\n",
    "# Input-Output Examples\n",
    "# Input: \"Hello world, hello!\",\"hello\"\n",
    "# Output: 2\n",
    "\n",
    "# Input: \"This is a test. This test is only a test.\",\"test\"\n",
    "# Output: 3\n",
    "\n",
    "str1, str2 = eval(input())\n",
    "str1 = str1.lower()\n",
    "str2 = str2.lower()\n",
    "print(str1.count(str2))"
   ]
  },
  {
   "cell_type": "code",
   "execution_count": null,
   "metadata": {},
   "outputs": [
    {
     "name": "stdout",
     "output_type": "stream",
     "text": [
      "True\n"
     ]
    }
   ],
   "source": [
    "# Find Letter\n",
    "# Write a function that checks if a specific letter exists in a given word. The function should return True if\n",
    "# the letter is found and False otherwise.\n",
    "\n",
    "\"\"\"\n",
    "Input:  hello\n",
    "        e\n",
    "Output: True\n",
    "\"\"\"\n",
    "\n",
    "s = input()\n",
    "k = input()\n",
    "print(k in s)"
   ]
  },
  {
   "cell_type": "code",
   "execution_count": 9,
   "metadata": {},
   "outputs": [
    {
     "name": "stdout",
     "output_type": "stream",
     "text": [
      "20\n"
     ]
    }
   ],
   "source": [
    "# Sum of digits\n",
    "# Write a function that takes a positive integer and returns the sum of its digits.\n",
    "# Example\n",
    "# If the input is 123, the output should be 6 (1+2+3)\n",
    "\n",
    "n = int(input())\n",
    "sum=0\n",
    "while n!=0:\n",
    "  sum+=n%10\n",
    "  n=n//10\n",
    "print(sum)"
   ]
  },
  {
   "cell_type": "code",
   "execution_count": 11,
   "metadata": {},
   "outputs": [
    {
     "name": "stdout",
     "output_type": "stream",
     "text": [
      "-15\n"
     ]
    }
   ],
   "source": [
    "# Smallest Integer\n",
    "\n",
    "# Given an unsorted array of integers, write a function to find the smallest integer in that array.\n",
    "# Example\n",
    "# Input: [3, 5, 1, 8, 2]\n",
    "# Output: 1\n",
    "\n",
    "arr = eval(input())\n",
    "arr = sorted(arr)\n",
    "print(arr[0])"
   ]
  },
  {
   "cell_type": "code",
   "execution_count": 12,
   "metadata": {},
   "outputs": [
    {
     "name": "stdout",
     "output_type": "stream",
     "text": [
      "24\n"
     ]
    }
   ],
   "source": [
    "# Max Product of Three\n",
    "# Given an array of integers, implement a function to find the maximum product that can be obtained by multiplying\n",
    "# any three numbers from the array.\n",
    "\n",
    "# Example\n",
    "# Input: [1, 2, 3]\n",
    "# Output: 6\n",
    "\n",
    "# Input: [1, 2, 3, 4]\n",
    "# Output: 24\n",
    "\n",
    "arr = eval(input())\n",
    "arr = sorted(arr)\n",
    "prod = arr[-1]*arr[-2]*arr[-3]\n",
    "print(prod)"
   ]
  },
  {
   "cell_type": "code",
   "execution_count": 2,
   "metadata": {},
   "outputs": [
    {
     "data": {
      "text/plain": [
       "True"
      ]
     },
     "execution_count": 2,
     "metadata": {},
     "output_type": "execute_result"
    }
   ],
   "source": [
    "# Anagram Checker\n",
    "\n",
    "# Implement a function are_anagrams(str1, str2) that checks if two strings are anagrams of each other \n",
    "# without using sorting\n",
    "\n",
    "# Input: \"listen\", \"silent\"\n",
    "# Output: True\n",
    "\n",
    "\n",
    "# def are_anagrams(str1, str2):\n",
    "#   if len(str1)!=len(str2):\n",
    "#     return False\n",
    "  \n",
    "#   count1 = {}\n",
    "#   count2 = {}\n",
    "\n",
    "#   for c1, c2 in zip(str1, str2):\n",
    "#     count1[c1] = count1.get(c1, 0) + 1\n",
    "#     count2[c2] = count2.get(c2, 0) + 1\n",
    "\n",
    "#   return count1==count2\n",
    "\n",
    "# str1, str2 = eval(input())\n",
    "# print(are_anagrams(str1, str2))\n",
    "\n",
    "def anagram(s1, s2):\n",
    "  if len(s1)!=len(s2):\n",
    "    return False\n",
    "  else:\n",
    "    a = list(s1)\n",
    "    b = list(s2)\n",
    "    for i in range(len(a)):\n",
    "      for j in range(len(b)):\n",
    "        if a[i]==b[j]:\n",
    "          b.pop(j)\n",
    "          break\n",
    "    if len(b)!=0:\n",
    "      return False\n",
    "    else:\n",
    "      return True\n",
    "    \n",
    "s1, s2 = eval(input())\n",
    "anagram(s1, s2)"
   ]
  },
  {
   "cell_type": "code",
   "execution_count": 19,
   "metadata": {},
   "outputs": [
    {
     "name": "stdout",
     "output_type": "stream",
     "text": [
      "6\n"
     ]
    }
   ],
   "source": [
    "# Max Subarray Sum\n",
    "\n",
    "# Given an array of integers, write a function to calculate the maximum sim of any subarray. A subarray is a \n",
    "# contiguous part of any array. You need to return the maximum sum that can be obtained from any contiguous subarray \n",
    "# in the given array.\n",
    "\n",
    "# Input: [1, -2, 3, 4, -1]\n",
    "# Output: 7\n",
    "\n",
    "\n",
    "def max_sub_array(arr):\n",
    "  if sorted(arr)[-1]<=0:\n",
    "    return 0\n",
    "  else:\n",
    "    sum = []\n",
    "    s=0\n",
    "    for i in range(len(arr)):\n",
    "      if arr[i]<0:\n",
    "        sum.append(s)\n",
    "        s=0\n",
    "      else:\n",
    "        s+=arr[i]\n",
    "    sum.append(s)\n",
    "  sum = sorted(sum)\n",
    "  return sum[-1]\n",
    "\n",
    "arr = eval(input())\n",
    "print(max_sub_array(arr))\n",
    "  \n"
   ]
  },
  {
   "cell_type": "code",
   "execution_count": 20,
   "metadata": {},
   "outputs": [
    {
     "name": "stdout",
     "output_type": "stream",
     "text": [
      "123\n"
     ]
    }
   ],
   "source": [
    "# Digit from array\n",
    "\n",
    "# if the input array is [1, 2, 3] the output should be 123\n",
    "\n",
    "n = eval(input())\n",
    "\n",
    "sum=0\n",
    "for i in range(len(n)):\n",
    "  sum=(sum*10)+n[i]\n",
    "print(sum)"
   ]
  },
  {
   "cell_type": "code",
   "execution_count": 21,
   "metadata": {},
   "outputs": [
    {
     "name": "stdout",
     "output_type": "stream",
     "text": [
      "olleh\n"
     ]
    }
   ],
   "source": [
    "# Reverse String\n",
    "# hello\n",
    "# olleh\n",
    "\n",
    "str = input()\n",
    "print(str[::-1])"
   ]
  },
  {
   "cell_type": "code",
   "execution_count": 25,
   "metadata": {},
   "outputs": [
    {
     "name": "stdout",
     "output_type": "stream",
     "text": [
      "5\n"
     ]
    }
   ],
   "source": [
    "# Climbing Stairs\n",
    "\n",
    "# Write a function to determine the number of ways to climb n stairs if you can take 1 or 2 steps at a time.\n",
    "\n",
    "# Input: 2\n",
    "# Output: 2\n",
    "# (Ways: [1+1], [2])\n",
    "\n",
    "def climb_stairs(n):\n",
    "    if n <= 2:\n",
    "        return n\n",
    "\n",
    "    first = 1 \n",
    "    second = 2 \n",
    "    \n",
    "    for i in range(3, n+1):\n",
    "        current = first + second\n",
    "        first = second\n",
    "        second = current\n",
    "    \n",
    "    return second\n",
    "\n",
    "n = int(input(\"Enter the number of stairs: \"))\n",
    "print(climb_stairs(n))\n"
   ]
  }
 ],
 "metadata": {
  "kernelspec": {
   "display_name": "Python 3",
   "language": "python",
   "name": "python3"
  },
  "language_info": {
   "codemirror_mode": {
    "name": "ipython",
    "version": 3
   },
   "file_extension": ".py",
   "mimetype": "text/x-python",
   "name": "python",
   "nbconvert_exporter": "python",
   "pygments_lexer": "ipython3",
   "version": "3.12.7"
  }
 },
 "nbformat": 4,
 "nbformat_minor": 2
}
