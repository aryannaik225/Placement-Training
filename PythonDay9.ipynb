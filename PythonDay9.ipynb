{
 "cells": [
  {
   "cell_type": "code",
   "execution_count": 27,
   "metadata": {},
   "outputs": [],
   "source": [
    "# List\n",
    "# - Insertion Order Preserved\n",
    "# - Duplicate values are allowed"
   ]
  },
  {
   "cell_type": "code",
   "execution_count": 28,
   "metadata": {},
   "outputs": [],
   "source": [
    "# Tuple\n",
    "# - It is just an immutable version of list\n",
    "# - Insertion order is preserved\n",
    "# - Duplicate values are allowed\n",
    "\n",
    "\n",
    "# - When the input is given as \n",
    "# 1,2,3,4,5\n",
    "# without any parenthesis, it is technically a tuple"
   ]
  },
  {
   "cell_type": "code",
   "execution_count": 30,
   "metadata": {},
   "outputs": [
    {
     "name": "stdout",
     "output_type": "stream",
     "text": [
      "(1, 2, 3, 4, 5) <class 'tuple'>\n"
     ]
    }
   ],
   "source": [
    "# 1,2,3,4,5\n",
    "\n",
    "t = eval(input())\n",
    "print(t, type(t))"
   ]
  },
  {
   "cell_type": "code",
   "execution_count": 6,
   "metadata": {},
   "outputs": [
    {
     "name": "stdout",
     "output_type": "stream",
     "text": [
      "[10, 20, 30, 40]\n",
      "<class 'list'>\n",
      "10\n",
      "40\n"
     ]
    }
   ],
   "source": [
    "t = (40,10,30,20)\n",
    "print(sorted(t))\n",
    "print(type(sorted(t)))\n",
    "print(min(t))\n",
    "print(max(t))"
   ]
  },
  {
   "cell_type": "code",
   "execution_count": 31,
   "metadata": {},
   "outputs": [
    {
     "ename": "NameError",
     "evalue": "name 'cmp' is not defined",
     "output_type": "error",
     "traceback": [
      "\u001b[1;31m---------------------------------------------------------------------------\u001b[0m",
      "\u001b[1;31mNameError\u001b[0m                                 Traceback (most recent call last)",
      "Cell \u001b[1;32mIn[31], line 10\u001b[0m\n\u001b[0;32m      7\u001b[0m t1 \u001b[38;5;241m=\u001b[39m (\u001b[38;5;241m10\u001b[39m,\u001b[38;5;241m20\u001b[39m,\u001b[38;5;241m30\u001b[39m)\n\u001b[0;32m      8\u001b[0m t2 \u001b[38;5;241m=\u001b[39m (\u001b[38;5;241m40\u001b[39m,\u001b[38;5;241m50\u001b[39m,\u001b[38;5;241m60\u001b[39m)\n\u001b[1;32m---> 10\u001b[0m \u001b[38;5;28mprint\u001b[39m(\u001b[43mcmp\u001b[49m(t1,t2))\n\u001b[0;32m     12\u001b[0m \u001b[38;5;66;03m# probably stopped working after Python3\u001b[39;00m\n",
      "\u001b[1;31mNameError\u001b[0m: name 'cmp' is not defined"
     ]
    }
   ],
   "source": [
    "# cmp() function\n",
    "# It compares the elements of both tuples.\n",
    "# If both tuples are equal tehn returns 0\n",
    "# If the first tuple is less than second tuple then it returns -1\n",
    "# If the first tuple is greater than second tuple then it returns +1\n",
    "\n",
    "t1 = (10,20,30)\n",
    "t2 = (40,50,60)\n",
    "\n",
    "print(cmp(t1,t2))\n",
    "\n",
    "# probably stopped working after Python3"
   ]
  },
  {
   "cell_type": "code",
   "execution_count": 12,
   "metadata": {},
   "outputs": [
    {
     "name": "stdout",
     "output_type": "stream",
     "text": [
      "(1, 123, 13, 12, 3, 123)\n",
      "<class 'tuple'>\n",
      "275\n",
      "45.833333333333336\n"
     ]
    }
   ],
   "source": [
    "t = 1,123,13,12,3,123\n",
    "\n",
    "print(t)\n",
    "print(type(t))\n",
    "sum=0\n",
    "for x in t:\n",
    "  sum+=x\n",
    "\n",
    "print(sum)\n",
    "print((sum/len(t)))\n"
   ]
  },
  {
   "cell_type": "code",
   "execution_count": null,
   "metadata": {},
   "outputs": [
    {
     "name": "stdout",
     "output_type": "stream",
     "text": [
      "[1, 2, 3, 4, 5, 6]\n"
     ]
    }
   ],
   "source": [
    "# MergeSort Algorithm\n",
    "# Question given by sir\n",
    "\n",
    "# Merge two sorted lists\n",
    "# Write a function to merge two sorted lists into a single sorted list.\n",
    "# Logic = Use two pointers to iterate through the lists and merge them.\n",
    "# Sample Input: [1,3,5] and [2,4,6]\n",
    "# Expected Output: [1, 2, 3, 4, 5, 6]\n",
    "\n",
    "# s1 = [1,3,5]\n",
    "# s2 = [2,4,6]\n",
    "\n",
    "s1 = list(map(int, input().split()))\n",
    "s2 = list(map(int, input().split()))\n",
    "\n",
    "\n",
    "s1.sort()\n",
    "s2.sort()\n",
    "\n",
    "i = 0\n",
    "j = 0\n",
    "\n",
    "res = []\n",
    "\n",
    "while i!=len(s1) or j!=len(s2):\n",
    "  if i==len(s1) and j!=len(s2):\n",
    "    res.append(s2[j])\n",
    "    j+=1\n",
    "  elif i!=len(s1) and j==len(s2):\n",
    "    res.append(s1[i])\n",
    "    i+=1\n",
    "  else:\n",
    "    if s1[i]<s2[j]:\n",
    "      res.append(s1[i])\n",
    "      i+=1\n",
    "    elif s1[i]>s2[j]:\n",
    "      res.append(s2[j])\n",
    "      j+=1\n",
    "    else:\n",
    "      res.append(s1[i])\n",
    "      i+=1\n",
    "\n",
    "print(res)\n",
    "    \n",
    "\n"
   ]
  },
  {
   "cell_type": "code",
   "execution_count": 23,
   "metadata": {},
   "outputs": [
    {
     "name": "stdout",
     "output_type": "stream",
     "text": [
      "{33, 22, 55, 11, 44}\n",
      "{33, 22, 55, 444, 11, 44}\n",
      "{'555', 33, 22, 55, 444, 11, 44}\n",
      "{'555', 33, 'Raj', 22, 55, 444, 11, 44}\n",
      "{33, 'Raj', 11, 44, '555', 22, 55, 444}\n",
      "{'555', 33, 'Raj', 22, 55, 444, 11, 44}\n",
      "555\n"
     ]
    }
   ],
   "source": [
    "# SET add function\n",
    "s = {11,22,33,44,55}\n",
    "print(s)\n",
    "s.add(444)\n",
    "print(s)\n",
    "s.add('555')\n",
    "print(s)\n",
    "s.add('Raj')\n",
    "print(s)\n",
    "\n",
    "s1 = s.copy()\n",
    "s2 = s\n",
    "print(s1)\n",
    "print(s2)\n",
    "print(s.pop())"
   ]
  },
  {
   "cell_type": "code",
   "execution_count": null,
   "metadata": {},
   "outputs": [
    {
     "name": "stdout",
     "output_type": "stream",
     "text": [
      "[1, 2, 3, 4, 5, 6]\n"
     ]
    }
   ],
   "source": [
    "# Write a program to eliminate duplicates present in the list\n",
    "\n",
    "l = list(map(int, input().split()))\n",
    "print(list(set(l)))"
   ]
  },
  {
   "cell_type": "code",
   "execution_count": 33,
   "metadata": {},
   "outputs": [
    {
     "name": "stdout",
     "output_type": "stream",
     "text": [
      "{101: 'ashish', 102: 'raj', 103: 'Rohit'}\n",
      "<class 'dict'>\n",
      "ashish\n"
     ]
    }
   ],
   "source": [
    "# d = {}\n",
    "# d = dict()\n",
    "d = {101: 'ashish', 102: 'raj', 103: 'Rohit'}\n",
    "print(d)\n",
    "print(type(d))\n",
    "print(d[101])"
   ]
  },
  {
   "cell_type": "code",
   "execution_count": 37,
   "metadata": {},
   "outputs": [
    {
     "name": "stdout",
     "output_type": "stream",
     "text": [
      "A \t 99\n",
      "B \t 65\n",
      "C \t 78\n"
     ]
    }
   ],
   "source": [
    "# Write a program to enter name and percentage marks in a dictionary and display information on the screen\n",
    "\n",
    "rec = {}\n",
    "\n",
    "n = int(input(\"Enter number of students: \"))\n",
    "i = 1\n",
    "while i<=n:\n",
    "  name = input(\"Enter Student Name: \")\n",
    "  marks = input(\"Enter % of Marks of Student: \")\n",
    "  rec[name] = int(marks)\n",
    "  i+=1\n",
    "\n",
    "for x in rec:\n",
    "  print(x,\"\\t\",rec[x])"
   ]
  },
  {
   "cell_type": "code",
   "execution_count": 41,
   "metadata": {},
   "outputs": [
    {
     "name": "stdout",
     "output_type": "stream",
     "text": [
      "{'A': 99, 'B': 65, 'C': 78}\n",
      "{'A': 99, 'B': 65, 'C': 78, 'D': 75}\n",
      "{'A': 99, 'B': 54, 'C': 78, 'D': 75}\n",
      "{'A': [99, 98], 'B': 54, 'C': 78, 'D': 75}\n"
     ]
    }
   ],
   "source": [
    "# updating a dictionary\n",
    "d = {'A': 99, 'B': 65, 'C': 78}\n",
    "print(d)\n",
    "d['D'] = 75\n",
    "print(d)\n",
    "d['B'] = 54\n",
    "print(d)\n",
    "d['A'] = [99,98]\n",
    "print(d)"
   ]
  },
  {
   "cell_type": "code",
   "execution_count": 46,
   "metadata": {},
   "outputs": [
    {
     "name": "stdout",
     "output_type": "stream",
     "text": [
      "{'A': [99, 98], 'B': 54, 'C': 78, 'D': 75}\n",
      "{'A': [99, 98], 'B': 54, 'D': 75}\n"
     ]
    }
   ],
   "source": [
    "# del function\n",
    "d = {'A': [99, 98], 'B': 54, 'C': 78, 'D': 75}\n",
    "print(d)\n",
    "del d['C']\n",
    "print(d)\n",
    "# del d\n",
    "# deletes the whole dictionary\n"
   ]
  },
  {
   "cell_type": "code",
   "execution_count": 50,
   "metadata": {},
   "outputs": [
    {
     "name": "stdout",
     "output_type": "stream",
     "text": [
      "ashish\n",
      "ashish\n",
      "None\n",
      "ashish\n",
      "Guest\n",
      "\n",
      "dict_keys([100, 200, 300])\n",
      "100\n",
      "200\n",
      "300\n",
      "\n",
      "dict_values(['ashish', 'prashant', 'sandip'])\n",
      "ashish\n",
      "prashant\n",
      "sandip\n"
     ]
    }
   ],
   "source": [
    "d = {100: 'ashish', 200: 'prashant', 300: 'sandip'}\n",
    "print(d[100])\n",
    "print(d.get(100))\n",
    "print(d.get(400))\n",
    "print(d.get(100,\"Guest\"))\n",
    "print(d.get(400,\"Guest\"))\n",
    "\n",
    "print()\n",
    "print(d.keys())\n",
    "for k in d.keys():\n",
    "  print(k)\n",
    "\n",
    "print()\n",
    "print(d.values())\n",
    "for k in d.values():\n",
    "  print(k)"
   ]
  },
  {
   "cell_type": "code",
   "execution_count": 51,
   "metadata": {},
   "outputs": [
    {
     "name": "stdout",
     "output_type": "stream",
     "text": [
      "100 --> ashish\n",
      "200 --> prashant\n",
      "300 --> sandip\n"
     ]
    }
   ],
   "source": [
    "d = {100: 'ashish', 200: 'prashant', 300: 'sandip'}\n",
    "for k,y in d.items():\n",
    "  print(k,\"-->\",y)"
   ]
  },
  {
   "cell_type": "code",
   "execution_count": 55,
   "metadata": {},
   "outputs": [
    {
     "name": "stdout",
     "output_type": "stream",
     "text": [
      "{'A': 90000, 'B': 50000, 'C': 69000}\n",
      "209000\n"
     ]
    }
   ],
   "source": [
    "# Write a program to take dictionary from the keyboard and print the sum of values\n",
    "\n",
    "n = int(input(\"Enter number of employees: \"))\n",
    "d = {}\n",
    "for _ in range(n):\n",
    "  name = input(\"Enter the name of employee: \")\n",
    "  salary = int(input(\"Enter the salary of {0}\".format(name)))\n",
    "  d[name] = salary\n",
    "print(d)\n",
    "\n",
    "sum = 0\n",
    "for x in d.values():\n",
    "  sum+=x\n",
    "print(sum)"
   ]
  },
  {
   "cell_type": "code",
   "execution_count": 57,
   "metadata": {},
   "outputs": [
    {
     "name": "stdout",
     "output_type": "stream",
     "text": [
      "True\n"
     ]
    }
   ],
   "source": [
    "# Check if a key exists in a dictionary\n",
    "# - Write a function to check if a key exists in a dictionary\n",
    "# Logic: Use the in operator or the get() method\n",
    "# Sample Input: Dictionary: {'name': 'Alice', 'age': 30}, Key: 'age'\n",
    "# Expected Output: Key Exists\n",
    "\n",
    "n = int(input())\n",
    "d = {}\n",
    "for _ in range(n):\n",
    "  name = input()\n",
    "  value = input()\n",
    "  d[name] = value\n",
    "\n",
    "key = input()\n",
    "print(key in d.keys())"
   ]
  },
  {
   "cell_type": "code",
   "execution_count": 59,
   "metadata": {},
   "outputs": [
    {
     "name": "stdout",
     "output_type": "stream",
     "text": [
      "\n",
      "name : Alice\n",
      "age : 64\n"
     ]
    }
   ],
   "source": [
    "# Iterate over dictionary keys and values\n",
    "n = int(input())\n",
    "d = {}\n",
    "for _ in range(n):\n",
    "  name = input()\n",
    "  value = input()\n",
    "  d[name] = value\n",
    "\n",
    "print()\n",
    "for k,v in d.items():\n",
    "  print(k,\":\",v)\n"
   ]
  },
  {
   "cell_type": "code",
   "execution_count": 65,
   "metadata": {},
   "outputs": [
    {
     "name": "stdout",
     "output_type": "stream",
     "text": [
      "{'name': 'Alice', 'age': 64}\n"
     ]
    }
   ],
   "source": [
    "#  Merge two Dictionaries\n",
    "\n",
    "d1 = {'name': 'Alice'}\n",
    "d2 = {'age': 64}\n",
    "\n",
    "d1.update(d2)\n",
    "print(d1)"
   ]
  },
  {
   "cell_type": "code",
   "execution_count": 67,
   "metadata": {},
   "outputs": [
    {
     "name": "stdout",
     "output_type": "stream",
     "text": [
      "99\n"
     ]
    }
   ],
   "source": [
    "# Find the key with the maximum value in a dictionary\n",
    "\n",
    "d = {'A': 99, 'B': 65, 'C': 78, 'D': 75}\n",
    "print(max(d.values()))"
   ]
  },
  {
   "cell_type": "code",
   "execution_count": 69,
   "metadata": {},
   "outputs": [
    {
     "name": "stdout",
     "output_type": "stream",
     "text": [
      "{99: 'A', 65: 'B', 78: 'C', 75: 'D'}\n"
     ]
    }
   ],
   "source": [
    "# Reverse a dictionary\n",
    "# Create a new dictionary with reversed key-value pairs\n",
    "\n",
    "d = {'A': 99, 'B': 65, 'C': 78, 'D': 75}\n",
    "res = {}\n",
    "\n",
    "for k,v in d.items():\n",
    "  res[v] = k\n",
    "\n",
    "print(res)\n",
    "\n",
    "\n"
   ]
  },
  {
   "cell_type": "code",
   "execution_count": null,
   "metadata": {},
   "outputs": [
    {
     "name": "stdout",
     "output_type": "stream",
     "text": [
      "Marks obtained in semester 0\n",
      "Marks obtained in semester 1\n",
      "Marks obtained in semester 2\n",
      "Maximum mark in 1 semester: 70\n",
      "Maximum mark in 2 semester: 98\n",
      "Maximum mark in 3 semester: 89\n"
     ]
    }
   ],
   "source": [
    "n = int(input(\"Enter no. of semester: \"))\n",
    "rec = []\n",
    "ns = []\n",
    "for i in range(n):\n",
    "  ns.append(int(input(\"Enter no of subjects in semester {0}: \".format(i+1))))\n",
    "\n",
    "for i in range(n):\n",
    "  print(\"Marks obtained in semester {0}\".format(i))\n",
    "  myl = []\n",
    "  n2 = ns[i]\n",
    "  for j in range(n2):\n",
    "    myl.append(int(input()))\n",
    "  \n",
    "  rec.append(max(myl))\n",
    "\n",
    "for i in range(len(rec)):\n",
    "  print(\"Maximum mark in {0} semester: {1}\".format(i+1, rec[i]))\n"
   ]
  },
  {
   "cell_type": "code",
   "execution_count": 22,
   "metadata": {},
   "outputs": [
    {
     "name": "stdout",
     "output_type": "stream",
     "text": [
      "3\n"
     ]
    }
   ],
   "source": [
    "# Edit Distance\n",
    "# Given two strings s and t. Return the minimum number of operations required to convert s to t.\n",
    "# Example 1:\n",
    "# Input:\n",
    "# s = 'ycce', t = 'ycsce'\n",
    "# Output: 1\n",
    "# Explanation: One operation is required inserting 's' between two 'c's of s\n",
    "\n",
    "# Example 2:\n",
    "# Input:\n",
    "# s = 'h4c', t = 'h4c'\n",
    "# Output:\n",
    "# 0\n",
    "# Explaination: Both strings are same\n",
    "\n",
    "\n",
    "# s,t = input().split()\n",
    "\n",
    "# if s == t:\n",
    "#   print(0)\n",
    "\n",
    "# else:\n",
    "#   i = 0\n",
    "#   j = 0\n",
    "#   count = 0\n",
    "#   while i!=len(s) or j!=len(t):\n",
    "#     if s[i] == t[j]:\n",
    "#       i+=1\n",
    "#       j+=1\n",
    "#     else:\n",
    "#       count+=1\n",
    "#       j+=1\n",
    "\n",
    "#   print(count)\n",
    "\n",
    "\n",
    "s,t = input().split()\n",
    "\n",
    "if s == t:\n",
    "  print(0)\n",
    "\n",
    "else:\n",
    "  s1 = list(s)\n",
    "  s2 = list(t)\n",
    "\n",
    "  for i in s1:\n",
    "    if i in s2:\n",
    "      s2.remove(i)\n",
    "  \n",
    "  print(len(s2))\n"
   ]
  },
  {
   "cell_type": "code",
   "execution_count": null,
   "metadata": {},
   "outputs": [],
   "source": [
    "# Functions\n",
    "# Function is a self contained block which is designed and run separately and returns the result to the main function\n",
    "\n",
    "# Ways to reuse a code\n",
    "# - Functions\n",
    "# - Package\n",
    "# - Inheritance\n",
    "\n"
   ]
  },
  {
   "cell_type": "code",
   "execution_count": 24,
   "metadata": {},
   "outputs": [
    {
     "name": "stdout",
     "output_type": "stream",
     "text": [
      "70\n",
      "10\n"
     ]
    }
   ],
   "source": [
    "# function wihtout parameters and without return\n",
    "def add():\n",
    "  a = 30\n",
    "  b = 40\n",
    "  res = a+b\n",
    "  print(res)\n",
    "\n",
    "# function with parameter and without return\n",
    "def subtract(a,b):\n",
    "  res = a-b\n",
    "  print(res)\n",
    "\n",
    "# function with parameter and with return\n",
    "def multiply(a,b):\n",
    "  res = a*b\n",
    "  return res\n",
    "\n",
    "# main function\n",
    "if __name__ == '__main__':\n",
    "  add()\n",
    "  print(subtract(40,30))"
   ]
  },
  {
   "cell_type": "code",
   "execution_count": 27,
   "metadata": {},
   "outputs": [
    {
     "name": "stdout",
     "output_type": "stream",
     "text": [
      "Addition: 55\n",
      "Subtraction: 45\n",
      "Multiplication: 250\n",
      "Division: 10\n"
     ]
    }
   ],
   "source": [
    "# Multiple values return function\n",
    "\n",
    "def arithematic(x,y):\n",
    "  res1 = x+y\n",
    "  res2 = x-y\n",
    "  res3 = x*y\n",
    "  res4 = x//y\n",
    "\n",
    "  return res1, res2, res3, res4\n",
    "\n",
    "a = int(input())\n",
    "b = int(input())\n",
    "\n",
    "r1, r2, r3, r4 = arithematic(a,b)\n",
    "print(\"Addition:\",r1)\n",
    "print(\"Subtraction:\",r2)\n",
    "print(\"Multiplication:\",r3)\n",
    "print(\"Division:\",r4)"
   ]
  },
  {
   "cell_type": "code",
   "execution_count": 28,
   "metadata": {},
   "outputs": [
    {
     "name": "stdout",
     "output_type": "stream",
     "text": [
      "1. Add\n",
      "2. Subtract\n",
      "3. Multiplication\n",
      "4. Division\n",
      "5. Exit\n",
      "35\n",
      "1. Add\n",
      "2. Subtract\n",
      "3. Multiplication\n",
      "4. Division\n",
      "5. Exit\n"
     ]
    }
   ],
   "source": [
    "def add(a,b):\n",
    "  print(a+b)\n",
    "\n",
    "def subtract(a,b):\n",
    "  print(a-b)\n",
    "\n",
    "def multiply(a,b):\n",
    "  print(a*b)\n",
    "\n",
    "def division(a,b):\n",
    "  print(a//b)\n",
    "\n",
    "while True:\n",
    "  a = int(input(\"Enter first value: \"))\n",
    "  b = int(input(\"Enter second value: \"))\n",
    "  print(\"1. Add\\n2. Subtract\\n3. Multiplication\\n4. Division\\n5. Exit\")\n",
    "  choice = int(input(\"Enter your choice: \"))\n",
    "\n",
    "  if choice == 1:\n",
    "    add(a,b)\n",
    "  elif choice == 2:\n",
    "    subtract(a,b)\n",
    "  elif choice == 3:\n",
    "    multiply(a,b)\n",
    "  elif choice == 4:\n",
    "    division(a,b)\n",
    "  elif choice == 5:\n",
    "    break\n",
    "  else:\n",
    "    print(\"Enter valid choice\")\n"
   ]
  },
  {
   "cell_type": "code",
   "execution_count": 30,
   "metadata": {},
   "outputs": [
    {
     "name": "stdout",
     "output_type": "stream",
     "text": [
      "1. Armstrong\n",
      "2. Palindrome\n",
      "3. Reverse\n",
      "4. Factorial\n",
      "5. Exit\n",
      "153 is not a palindrome\n",
      "1. Armstrong\n",
      "2. Palindrome\n",
      "3. Reverse\n",
      "4. Factorial\n",
      "5. Exit\n",
      "153 is an amrstrong number\n",
      "1. Armstrong\n",
      "2. Palindrome\n",
      "3. Reverse\n",
      "4. Factorial\n",
      "5. Exit\n",
      "8008 is a palindrome\n",
      "1. Armstrong\n",
      "2. Palindrome\n",
      "3. Reverse\n",
      "4. Factorial\n",
      "5. Exit\n",
      "96874 reverse is: 47869\n",
      "1. Armstrong\n",
      "2. Palindrome\n",
      "3. Reverse\n",
      "4. Factorial\n",
      "5. Exit\n",
      "Factorial of 5 is 120\n",
      "1. Armstrong\n",
      "2. Palindrome\n",
      "3. Reverse\n",
      "4. Factorial\n",
      "5. Exit\n"
     ]
    }
   ],
   "source": [
    "# Create functions armstrong, reverse, palindrome and factorial with return values (menu driven program)\n",
    "\n",
    "def reverse(a):\n",
    "  res = str(a)\n",
    "  return res[::-1]\n",
    "\n",
    "\n",
    "\n",
    "\n",
    "def armstrong(num):\n",
    "  n = num\n",
    "\n",
    "  sum=0\n",
    "  remain = []\n",
    "  count=0\n",
    "\n",
    "  while num!=0:\n",
    "    remain.append(num%10)\n",
    "    num=num//10\n",
    "    count+=1\n",
    "\n",
    "  for i in range(count):\n",
    "    sum+=remain[i]**count\n",
    "\n",
    "  if n == sum:\n",
    "    return True\n",
    "  else:\n",
    "    return False\n",
    "\n",
    "\n",
    "\n",
    "\n",
    "def palindrome(num):\n",
    "  n=num\n",
    "  rev = 0\n",
    "  while num > 0:\n",
    "    rem = num % 10\n",
    "    rev = (rev*10)+rem\n",
    "    num = num//10\n",
    "\n",
    "  if n == rev:\n",
    "    return True\n",
    "  else:\n",
    "    return False\n",
    "\n",
    "\n",
    "\n",
    "\n",
    "def factorial(num):\n",
    "  n = num\n",
    "  fact = 1\n",
    "  while num!=0:\n",
    "    fact*=num\n",
    "    num-=1\n",
    "  return fact\n",
    "\n",
    "\n",
    "if __name__ == '__main__':\n",
    "  while True:\n",
    "    a = int(input(\"Enter a number: \"))\n",
    "    print(\"1. Armstrong\\n2. Palindrome\\n3. Reverse\\n4. Factorial\\n5. Exit\")\n",
    "    choice = int(input(\"Enter your choice: \"))\n",
    "\n",
    "    if choice == 1:\n",
    "      if armstrong(a):\n",
    "        print(a,\"is an amrstrong number\")\n",
    "      else:\n",
    "        print(a,\"is not an armstrong number\")\n",
    "    elif choice == 2:\n",
    "      if palindrome(a):\n",
    "        print(a,\"is a palindrome\")\n",
    "      else:\n",
    "        print(a,\"is not a palindrome\")\n",
    "    elif choice == 3:\n",
    "      print(a,\"reverse is:\",reverse(a))\n",
    "    elif choice == 4:\n",
    "      print(\"Factorial of {0} is {1}\".format(a, factorial(a)))\n",
    "    elif choice == 5:\n",
    "      break\n",
    "    else:\n",
    "      print(\"Enter valid choice\")"
   ]
  },
  {
   "cell_type": "code",
   "execution_count": 31,
   "metadata": {},
   "outputs": [
    {
     "name": "stdout",
     "output_type": "stream",
     "text": [
      "X = 10\n",
      "Y = 20\n",
      "Result:  30\n",
      "X = 33\n",
      "Y = 20\n",
      "Result:  53\n"
     ]
    }
   ],
   "source": [
    "# Keyword Argument\n",
    "\n",
    "def add(x,y):\n",
    "  print(\"X =\", x)\n",
    "  print(\"Y =\", y)\n",
    "  print(\"Result: \", x+y)\n",
    "\n",
    "add(x=10, y=20)\n",
    "add(y=20, x=33)\n"
   ]
  },
  {
   "cell_type": "code",
   "execution_count": 32,
   "metadata": {},
   "outputs": [
    {
     "name": "stdout",
     "output_type": "stream",
     "text": [
      "X = 22\n",
      "Y = 55\n",
      "Result:  77\n",
      "X = 44\n",
      "Y = 1\n",
      "Result:  45\n"
     ]
    }
   ],
   "source": [
    "# Default Argument\n",
    "\n",
    "def add(x, y=55):\n",
    "  print(\"X =\", x)\n",
    "  print(\"Y =\", y)\n",
    "  print(\"Result: \", x+y)\n",
    "\n",
    "add(22)\n",
    "add(44,1)"
   ]
  },
  {
   "cell_type": "code",
   "execution_count": 34,
   "metadata": {},
   "outputs": [
    {
     "data": {
      "text/plain": [
       "100"
      ]
     },
     "execution_count": 34,
     "metadata": {},
     "output_type": "execute_result"
    }
   ],
   "source": [
    "# Variable length argument\n",
    "\n",
    "def add(*n):\n",
    "  res = 0\n",
    "  for i in n:\n",
    "    res+=i\n",
    "  return res\n",
    "\n",
    "add(10,30,20,40)"
   ]
  },
  {
   "cell_type": "code",
   "execution_count": 36,
   "metadata": {},
   "outputs": [
    {
     "name": "stdout",
     "output_type": "stream",
     "text": [
      "[(1, 1, 1), (1, 1, 1), (1, 1, 1), (1, 1, 1), (1, 1, 1), (1, 1, 1)]\n"
     ]
    }
   ],
   "source": [
    "from itertools import permutations\n",
    "\n",
    "x = [1,1,1]\n",
    "\n",
    "res = permutations(x, 3)\n",
    "print(list(res))"
   ]
  }
 ],
 "metadata": {
  "kernelspec": {
   "display_name": "Python 3",
   "language": "python",
   "name": "python3"
  },
  "language_info": {
   "codemirror_mode": {
    "name": "ipython",
    "version": 3
   },
   "file_extension": ".py",
   "mimetype": "text/x-python",
   "name": "python",
   "nbconvert_exporter": "python",
   "pygments_lexer": "ipython3",
   "version": "3.12.7"
  }
 },
 "nbformat": 4,
 "nbformat_minor": 2
}
