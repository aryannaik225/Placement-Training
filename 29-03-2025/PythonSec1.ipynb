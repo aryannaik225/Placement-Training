{
 "cells": [
  {
   "cell_type": "code",
   "execution_count": null,
   "metadata": {},
   "outputs": [],
   "source": [
    "# Sir to teach member variable in python (OOP related something)"
   ]
  },
  {
   "cell_type": "code",
   "execution_count": 5,
   "metadata": {},
   "outputs": [
    {
     "name": "stdout",
     "output_type": "stream",
     "text": [
      "0 => 8\n",
      "1 => 1\n",
      "2 => 9\n",
      "3 => 7\n",
      "4 => 2\n",
      "5 => 5\n",
      "6 => 6\n",
      "0 8\n",
      "1 1\n",
      "2 9\n",
      "3 7\n",
      "4 2\n",
      "5 5\n",
      "6 6\n"
     ]
    }
   ],
   "source": [
    "arr = [8, 1, 9, 7, 2, 5, 6]\n",
    "\n",
    "for i in arr:\n",
    "  print(f\"{arr.index(i)} => {i}\")\n",
    "\n",
    "\n",
    "for i, data in enumerate(arr):\n",
    "  print(i, data)"
   ]
  },
  {
   "cell_type": "markdown",
   "metadata": {},
   "source": [
    "- In C programming, the calculation of any two integers is always an integer.\n",
    "\n",
    "```C\n",
    "float ans = 7/2;\n",
    "printf(\"%f\", &ans);\n",
    "```\n",
    "\n",
    "will give output -> 3.0000 and not 3.5"
   ]
  },
  {
   "cell_type": "code",
   "execution_count": 7,
   "metadata": {},
   "outputs": [
    {
     "name": "stdout",
     "output_type": "stream",
     "text": [
      "18 exists at index 6\n"
     ]
    }
   ],
   "source": [
    "# Binary Search\n",
    "\n",
    "def binary_search(arr, key):\n",
    "  start = 0\n",
    "  end = len(arr) - 1\n",
    "\n",
    "  while start <= end:\n",
    "    mid = (start + end) // 2\n",
    "\n",
    "    if arr[mid] == key:\n",
    "      return mid\n",
    "    elif arr[mid] > key:\n",
    "      end = mid - 1\n",
    "    else:\n",
    "      start = mid + 1\n",
    "\n",
    "  return -1\n",
    "\n",
    "\n",
    "arr = [1, 2, 3, 4, 8, 12, 18, 19, 200]\n",
    "k = 18\n",
    "index = binary_search(arr, k)\n",
    "\n",
    "if index == -1:\n",
    "  print(f\"{k} does not exist in the given array\")\n",
    "else:\n",
    "  print(f\"{k} exists at index {index}\")\n"
   ]
  },
  {
   "cell_type": "code",
   "execution_count": 9,
   "metadata": {},
   "outputs": [
    {
     "name": "stdout",
     "output_type": "stream",
     "text": [
      "18 exists at index 6\n"
     ]
    }
   ],
   "source": [
    "# binary search using recursion\n",
    "\n",
    "def binary_search(arr, key, start, end):\n",
    "  \n",
    "  if start >= end:\n",
    "    return -1\n",
    "  \n",
    "  else:\n",
    "    mid = (start+end)//2\n",
    "    if arr[mid] == key:\n",
    "      return mid\n",
    "    elif arr[mid] > key:\n",
    "      return binary_search(arr, key, start, mid-1)\n",
    "    else:\n",
    "      return binary_search(arr, key, mid+1, end)\n",
    "    \n",
    "arr = [1, 2, 3, 4, 8, 12, 18, 19, 200]\n",
    "k = 18\n",
    "start = 0\n",
    "end = len(arr)-1\n",
    "index = binary_search(arr, k, start, end)\n",
    "\n",
    "if index == -1:\n",
    "  print(f\"{k} does not exist in the given array\")\n",
    "else:\n",
    "  print(f\"{k} exists at index {index}\")"
   ]
  },
  {
   "cell_type": "code",
   "execution_count": null,
   "metadata": {},
   "outputs": [],
   "source": [
    "# Solve Leetcode Problem number 875\n",
    "# https://leetcode.com/problems/koko-eating-bananas/description/"
   ]
  },
  {
   "cell_type": "code",
   "execution_count": 6,
   "metadata": {},
   "outputs": [
    {
     "name": "stdout",
     "output_type": "stream",
     "text": [
      "[1, 2, 5, 6, 7, 8, 9]\n"
     ]
    }
   ],
   "source": [
    "def merge_sort(arr):\n",
    "  return divide(arr)\n",
    "\n",
    "def divide(arr):\n",
    "  if len(arr) <= 1:\n",
    "    return arr\n",
    "  \n",
    "  mid = len(arr) // 2\n",
    "  left_arr = divide(arr[:mid])\n",
    "  right_arr = divide(arr[mid:])\n",
    "\n",
    "  return merge(left_arr, right_arr)\n",
    "\n",
    "\n",
    "def merge(left_arr, right_arr):\n",
    "  i = 0\n",
    "  j = 0\n",
    "  sorted_arr = []\n",
    "\n",
    "  while i<len(left_arr) and j<len(right_arr):\n",
    "    if left_arr[i]<=right_arr[j]:\n",
    "      sorted_arr.append(left_arr[i])\n",
    "      i+=1\n",
    "    else:\n",
    "      sorted_arr.append(right_arr[j])\n",
    "      j+=1\n",
    "\n",
    "  \n",
    "  sorted_arr.extend(left_arr[i:])\n",
    "  sorted_arr.extend(right_arr[j:])\n",
    "\n",
    "  return sorted_arr\n",
    "\n",
    "\n",
    "arr = [8, 1, 9, 7, 2, 5, 6]\n",
    "print(merge_sort(arr))\n"
   ]
  },
  {
   "cell_type": "code",
   "execution_count": 2,
   "metadata": {},
   "outputs": [
    {
     "name": "stdout",
     "output_type": "stream",
     "text": [
      "[3, 4, 5]\n"
     ]
    }
   ],
   "source": [
    "arr = [1,2,3,4,5]\n",
    "print(arr[2:])"
   ]
  }
 ],
 "metadata": {
  "kernelspec": {
   "display_name": "Python 3",
   "language": "python",
   "name": "python3"
  },
  "language_info": {
   "codemirror_mode": {
    "name": "ipython",
    "version": 3
   },
   "file_extension": ".py",
   "mimetype": "text/x-python",
   "name": "python",
   "nbconvert_exporter": "python",
   "pygments_lexer": "ipython3",
   "version": "3.12.7"
  }
 },
 "nbformat": 4,
 "nbformat_minor": 2
}
