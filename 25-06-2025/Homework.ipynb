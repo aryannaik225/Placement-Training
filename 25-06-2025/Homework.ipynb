{
 "cells": [
  {
   "cell_type": "markdown",
   "id": "a6830be9",
   "metadata": {},
   "source": [
    "### Homework topics\n",
    "- Linked List reversal\n",
    "- Binary Search Tree - Insertion, Deletion, Display, Search\n",
    "- Inorder, Preorder, Postorder\n",
    "- Linked List Leetcode\n",
    "- Hash Cycle Leetcode Question\n",
    "- Middle Element Leetcode Question\n",
    "- AVL Tree - All rotations\n",
    "\n",
    "<br>\n",
    "\n",
    "1. Display Even and Odd numbers of a tree\n",
    "2. Find the minimum and maximum of a tree\n",
    "3. Middle Element (Inorder and then middle one)\n",
    "4. Second largest element in a tree\n",
    "\n",
    "##### Recurrsion Problems\n",
    "- Count number of zeros in a digit (Input:1000, Output: 3)\n",
    "- Binary Search \n",
    "- Linear Search\n",
    "- Preorder, Inorder, Postorder using recursion"
   ]
  }
 ],
 "metadata": {
  "language_info": {
   "name": "python"
  }
 },
 "nbformat": 4,
 "nbformat_minor": 5
}
