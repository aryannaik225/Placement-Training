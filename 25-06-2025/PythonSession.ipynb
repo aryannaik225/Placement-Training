{
 "cells": [
  {
   "cell_type": "markdown",
   "id": "b4a37d38",
   "metadata": {},
   "source": [
    "### Preorder, Inorder, Postorder"
   ]
  },
  {
   "cell_type": "code",
   "execution_count": null,
   "id": "2ee0406d",
   "metadata": {},
   "outputs": [
    {
     "name": "stdout",
     "output_type": "stream",
     "text": [
      "100 50 43 20 89 67 78 120 109 125 123 130 132 \n",
      "20 43 50 67 78 89 100 109 120 123 125 130 132 \n"
     ]
    }
   ],
   "source": [
    "class Node:\n",
    "    def __init__(self, data):\n",
    "        self.data = data\n",
    "        self.left = None\n",
    "        self.right = None\n",
    "\n",
    "class BinarySearchTree:\n",
    "    def __init__(self):\n",
    "        self.root = None\n",
    "\n",
    "    def insert(self, value):\n",
    "        new_node = Node(value)\n",
    "        if self.root is None:\n",
    "            self.root = new_node\n",
    "            return\n",
    "\n",
    "        curr_node = self.root\n",
    "        while True:\n",
    "            if value <= curr_node.data:\n",
    "                if curr_node.left is None:\n",
    "                    curr_node.left = new_node\n",
    "                    return\n",
    "                curr_node = curr_node.left\n",
    "            else:\n",
    "                if curr_node.right is None:\n",
    "                    curr_node.right = new_node\n",
    "                    return\n",
    "                curr_node = curr_node.right\n",
    "\n",
    "\n",
    "    def preorder(self):\n",
    "      # Create a stack\n",
    "      # Push a node\n",
    "      # Pop a node, as you pop.. push its descendor nodes, in order of right then left\n",
    "      # Continue till the stack is empty\n",
    "      stack = []\n",
    "      curr_node = self.root\n",
    "      stack.append(curr_node)\n",
    "\n",
    "      while stack:\n",
    "        curr_node=stack.pop()\n",
    "        if curr_node.right:\n",
    "          stack.append(curr_node.right)\n",
    "        if curr_node.left:\n",
    "          stack.append(curr_node.left)\n",
    "        \n",
    "        print(f'{curr_node.data}', end=' ')\n",
    "      \n",
    "      print(\"\")\n",
    "\n",
    "\n",
    "    def inorder(self):\n",
    "      # Put root in stack\n",
    "      # Push its left in stack... keep pushing the left till it is not None\n",
    "      # Once left is none, pop.. and then check if the popped node has node in right, if yes then push that and again go to its left end\n",
    "      # Process continues till stack is empty\n",
    "      stack = []\n",
    "      curr_node = self.root\n",
    "\n",
    "      while stack or curr_node:\n",
    "        while curr_node:\n",
    "          stack.append(curr_node)\n",
    "          curr_node = curr_node.left\n",
    "        \n",
    "        curr_node = stack.pop()\n",
    "        print(curr_node.data, end=' ')\n",
    "\n",
    "        curr_node = curr_node.right\n",
    "      \n",
    "      print(\"\")\n",
    "          \n",
    "\n",
    "           \n",
    "\n",
    "    def postorder(self):\n",
    "      # Put root in stack\n",
    "      # Push its left in stack, keep pushing till left there is something.\n",
    "      # Once left is none, pop it.. and check if its root.. basically stack[-1] has a right.. if yes push it and go to its left most...\n",
    "      # If right is not there then pop it \n",
    "      # Process continues till stack is empty\n",
    "      pass\n",
    "\n",
    "\n",
    "\n",
    "\n",
    "bst = BinarySearchTree()\n",
    "\n",
    "values = [100, 50, 120, 89, 67, 43, 20, 78, 125, 130, 132, 123, 109]\n",
    "for val in values:\n",
    "    bst.insert(val)\n",
    "\n",
    "bst.preorder()\n",
    "bst.inorder()"
   ]
  },
  {
   "cell_type": "markdown",
   "id": "e4866a51",
   "metadata": {},
   "source": [
    "## <u>AVL Tree (Self Balancing Tree)</u>\n",
    "\n",
    "\n",
    "- Balance Factor => Height(left subtree) - Height(right subtree)\n",
    "- If BF is not within [-1, 0, -1] then we need to do AVL Rotation\n",
    "\n",
    "#### Rotations\n",
    "1. **Left Rotation** (LL Rotation) <br>\n",
    "Rotates towards Right side <br>\n",
    "\n",
    "2. **Right Rotation** (RR Rotation) <br>\n",
    "Rotates towards Left side <br>"
   ]
  },
  {
   "cell_type": "code",
   "execution_count": null,
   "id": "31a8f8aa",
   "metadata": {},
   "outputs": [],
   "source": [
    "# AVL Tree\n",
    "class Node:\n",
    "    def __init__(self, data):\n",
    "        self.data = data\n",
    "        self.left = None\n",
    "        self.right = None\n",
    "        self.height = 0\n",
    "        self.left_height = 0\n",
    "        self.right_height = 0\n",
    "        self.balance_factor = 0\n",
    "\n",
    "class BinarySearchTree:\n",
    "    def __init__(self):\n",
    "        self.root = None\n",
    "\n",
    "    def cal_height(self, root):\n",
    "        if root is None:\n",
    "            return 0\n",
    "        else:\n",
    "            left_height = self.cal_height(root.left)\n",
    "            right_height = self.cal_height(root.right)\n",
    "            return 1 + max(left_height, right_height)\n",
    "    \n",
    "\n",
    "    def insert_norm(self, val):\n",
    "        new_node = Node(val)\n",
    "        if self.root is None:\n",
    "            self.root = new_node\n",
    "            return\n",
    "\n",
    "        curr_node = self.root\n",
    "        while True:\n",
    "            if val <= curr_node.data:\n",
    "                if curr_node.left is None:\n",
    "                    curr_node.left = new_node\n",
    "                    return\n",
    "                curr_node = curr_node.left\n",
    "            else:\n",
    "                if curr_node.right is None:\n",
    "                    curr_node.right = new_node\n",
    "                    return\n",
    "                curr_node = curr_node.right\n",
    "\n",
    "\n",
    "    def balance_factor(self):\n",
    "        queue=[]\n",
    "        queue.append(self.root)\n",
    "        while queue:\n",
    "            if queue[0].left:\n",
    "                queue.append(queue[0].left)\n",
    "            if queue[0].right:\n",
    "                queue.append(queue[0].right)\n",
    "            node = queue.pop()\n",
    "            node.height = self.cal_height(node)\n",
    "            node.left_height = self.cal_height(node.left)\n",
    "            node.right_height = self.cal_height(node.right)\n",
    "            node.balance_factor = node.left_height - node.right_height\n",
    "\n",
    "\n",
    "    def insert(self, val):\n",
    "        self.insert_norm(val)\n",
    "        self.balance_factor()\n",
    "       \n",
    "\n",
    "\n",
    "\n",
    "\n",
    "        \n",
    "\n",
    "\n",
    "\n",
    "bst = BinarySearchTree()\n",
    "\n",
    "values = [100, 50, 120, 89, 67, 43, 20, 78, 125, 130, 132, 123, 109]\n",
    "for val in values:\n",
    "    bst.insert(val)"
   ]
  },
  {
   "cell_type": "code",
   "execution_count": 10,
   "id": "189e31e3",
   "metadata": {},
   "outputs": [
    {
     "name": "stdout",
     "output_type": "stream",
     "text": [
      "Disc travel from A to C\n",
      "Disc travel from A to B\n",
      "Disc travel from C to B\n",
      "Disc travel from A to C\n",
      "Disc travel from B to A\n",
      "Disc travel from B to C\n",
      "Disc travel from A to C\n"
     ]
    }
   ],
   "source": [
    "# Tower of Hanoi\n",
    "\n",
    "def tower_of_hanoi(num, from_rod, to_rod, temp_rod):\n",
    "  if num == 0:\n",
    "    return num\n",
    "  tower_of_hanoi(num-1, from_rod, temp_rod, to_rod)\n",
    "  print(f\"Disc travel from {from_rod} to {to_rod}\")\n",
    "  tower_of_hanoi(num-1, temp_rod, to_rod, from_rod)\n",
    "\n",
    "numb = int(input(\"Enter number of rings: \"))\n",
    "tower_of_hanoi(numb, 'A', 'C', 'B')"
   ]
  },
  {
   "cell_type": "code",
   "execution_count": 11,
   "id": "82e738d8",
   "metadata": {},
   "outputs": [
    {
     "name": "stdout",
     "output_type": "stream",
     "text": [
      "Factorial of 5 is 120\n"
     ]
    }
   ],
   "source": [
    "# Factorial\n",
    "def fact(n):\n",
    "  if n==1 or n==0:\n",
    "    return n\n",
    "  return n*fact(n-1)\n",
    "\n",
    "num = int(input(\"Enter a number: \"))\n",
    "print(f\"Factorial of {num} is {fact(num)}\")"
   ]
  },
  {
   "cell_type": "code",
   "execution_count": 16,
   "id": "a23f0cce",
   "metadata": {},
   "outputs": [
    {
     "name": "stdout",
     "output_type": "stream",
     "text": [
      "1024\n"
     ]
    }
   ],
   "source": [
    "# Power using recursion\n",
    "def power(num, num2):\n",
    "  if num2 == 0:\n",
    "    return 1\n",
    "  return num*power(num, num2-1)\n",
    "\n",
    "print(power(2,10))"
   ]
  },
  {
   "cell_type": "code",
   "execution_count": 18,
   "id": "b6c8763d",
   "metadata": {},
   "outputs": [
    {
     "name": "stdout",
     "output_type": "stream",
     "text": [
      "13\n"
     ]
    }
   ],
   "source": [
    "def fibonacci(num):\n",
    "  n = 0\n",
    "  n1 = 0\n",
    "  n2 = 1\n",
    "  while n!=num:\n",
    "    if n == 0:\n",
    "      res = 0\n",
    "    else:\n",
    "      res = n1 + n2\n",
    "      n1 = n2\n",
    "      n2 = res\n",
    "    n+=1\n",
    "\n",
    "  return res\n",
    "\n",
    "print(fibonacci(7))"
   ]
  },
  {
   "cell_type": "code",
   "execution_count": 19,
   "id": "3b65922a",
   "metadata": {},
   "outputs": [
    {
     "name": "stdout",
     "output_type": "stream",
     "text": [
      "132\n"
     ]
    }
   ],
   "source": [
    "# Maximum element in a list using recursion\n",
    "\n",
    "def max_element(mylist):\n",
    "  if len(mylist)==0:\n",
    "    return 0\n",
    "  else:\n",
    "    n = mylist.pop()\n",
    "    return max(n, max_element(mylist))\n",
    "\n",
    "mylist = [100, 50, 120, 89, 67, 43, 20, 78, 125, 130, 132, 123, 109]\n",
    "print(max_element(mylist))"
   ]
  },
  {
   "cell_type": "code",
   "execution_count": 20,
   "id": "9d3d1e18",
   "metadata": {},
   "outputs": [
    {
     "name": "stdout",
     "output_type": "stream",
     "text": [
      "15\n"
     ]
    }
   ],
   "source": [
    "# Multiply two numbers without multiplication operator using recursion\n",
    "\n",
    "def multiply(num1, num2):\n",
    "  if num2==0:\n",
    "    return 0\n",
    "  else:\n",
    "    return num1 + multiply(num1, num2-1)\n",
    "\n",
    "print(multiply(5,3))\n",
    "    "
   ]
  },
  {
   "cell_type": "code",
   "execution_count": 22,
   "id": "01eb6e24",
   "metadata": {},
   "outputs": [
    {
     "name": "stdout",
     "output_type": "stream",
     "text": [
      "50\n"
     ]
    }
   ],
   "source": [
    "# Binary Search using recursion\n",
    "def binary_search(values, key, start, end):\n",
    "  if start>end:\n",
    "    return -1\n",
    "  middle = (start+end)//2\n",
    "\n",
    "  if values[middle] == key:\n",
    "    return values[middle]\n",
    "  elif key < values[middle]:\n",
    "    return binary_search(values, key, start, middle-1)\n",
    "  else:\n",
    "    return binary_search(values, key, middle+1, end)\n",
    "\n",
    "\n",
    "values = [20, 43, 50, 67, 78, 89, 100, 109, 120, 123, 125, 130, 132]\n",
    "key = int(input(\"Which number to search: \"))\n",
    "start = 0\n",
    "end = len(values)-1\n",
    "print(binary_search(values, key, start, end))"
   ]
  },
  {
   "cell_type": "code",
   "execution_count": null,
   "id": "b26302b6",
   "metadata": {},
   "outputs": [],
   "source": []
  }
 ],
 "metadata": {
  "kernelspec": {
   "display_name": "Python 3",
   "language": "python",
   "name": "python3"
  },
  "language_info": {
   "codemirror_mode": {
    "name": "ipython",
    "version": 3
   },
   "file_extension": ".py",
   "mimetype": "text/x-python",
   "name": "python",
   "nbconvert_exporter": "python",
   "pygments_lexer": "ipython3",
   "version": "3.12.7"
  }
 },
 "nbformat": 4,
 "nbformat_minor": 5
}
