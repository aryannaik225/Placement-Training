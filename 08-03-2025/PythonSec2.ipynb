{
 "cells": [
  {
   "cell_type": "markdown",
   "metadata": {},
   "source": [
    "## Object Oriented Programming\n",
    "Class is a model of a real-world object"
   ]
  },
  {
   "cell_type": "code",
   "execution_count": 8,
   "metadata": {},
   "outputs": [
    {
     "name": "stdout",
     "output_type": "stream",
     "text": [
      "Aryan\n",
      "{'name': 'Aryan', 'age': 19}\n",
      "This is a person\n"
     ]
    }
   ],
   "source": [
    "class Person:\n",
    "  def __init__(self, name, age):\n",
    "    self.name = name\n",
    "    self.age = age\n",
    "\n",
    "  def __str__(self):\n",
    "    return 'This is a person'\n",
    "\n",
    "p1 = Person('Aryan', 19) # __init__ is called\n",
    "print(p1.name)\n",
    "print(p1.__dict__)\n",
    "print(p1)"
   ]
  },
  {
   "cell_type": "markdown",
   "metadata": {},
   "source": [
    "when you type `mylist.append(a)`, here `append` is an object and hence is called with a dot, like how in\n",
    "```python\n",
    "print(p1.name)\n",
    "```\n",
    "here we called .name\n",
    "``\n",
    "``\n",
    "``\n",
    "``\n",
    "- `__init__` -> initializing the variables\n",
    "- `__str__` -> string / runs when the object is called directly\n",
    "- `__dict__` -> dictionary"
   ]
  },
  {
   "cell_type": "code",
   "execution_count": 9,
   "metadata": {},
   "outputs": [
    {
     "name": "stdout",
     "output_type": "stream",
     "text": [
      "Bruno\n",
      "{'name': 'Bruno', 'breed': 'Shitzu'}\n",
      "This is a dog\n"
     ]
    }
   ],
   "source": [
    "class Dog:\n",
    "  def __init__(self, name, breed):\n",
    "    self.name = name\n",
    "    self.breed = breed\n",
    "\n",
    "  def __str__(self):\n",
    "    return 'This is a dog'\n",
    "  \n",
    "d1 = Dog('Bruno', 'Shitzu')\n",
    "print(d1.name)\n",
    "print(d1.__dict__)\n",
    "print(d1)"
   ]
  },
  {
   "cell_type": "code",
   "execution_count": 11,
   "metadata": {},
   "outputs": [
    {
     "name": "stdout",
     "output_type": "stream",
     "text": [
      "6 of Spade\n",
      "2 of Heart\n"
     ]
    }
   ],
   "source": [
    "class Card:\n",
    "  def __init__ (self, rank, suit):\n",
    "    self.rank = rank\n",
    "    self.suit = suit\n",
    "\n",
    "  def __str__ (self):\n",
    "    return f\"{self.rank} of {self.suit}\"\n",
    "  \n",
    "c1 = Card(6, 'Spade')\n",
    "c2 = Card(2, 'Heart')\n",
    "print(c1)\n",
    "print(c2)"
   ]
  },
  {
   "cell_type": "markdown",
   "metadata": {},
   "source": [
    "**What are dunder method?**\n",
    "\n",
    "Dunder methods are methods with double underscore... like __init__ or __str__"
   ]
  },
  {
   "cell_type": "code",
   "execution_count": 1,
   "metadata": {},
   "outputs": [],
   "source": [
    "class Stack:\n",
    "  def __init__(self, top, size):\n",
    "    self.top = top\n",
    "    self.size = size\n",
    "  "
   ]
  },
  {
   "cell_type": "markdown",
   "metadata": {},
   "source": [
    "### Static\n",
    "Static variables does not belong to the object. They belong to the class"
   ]
  },
  {
   "cell_type": "code",
   "execution_count": 5,
   "metadata": {},
   "outputs": [
    {
     "name": "stdout",
     "output_type": "stream",
     "text": [
      "homo sapiens\n"
     ]
    }
   ],
   "source": [
    "class Human:\n",
    "  species = \"homo sapiens\"\n",
    "\n",
    "h1 = Human()\n",
    "print(Human.species)"
   ]
  },
  {
   "cell_type": "code",
   "execution_count": null,
   "metadata": {},
   "outputs": [
    {
     "name": "stdout",
     "output_type": "stream",
     "text": [
      "11\n",
      "-1\n",
      "30\n",
      "0.8333333333333334\n",
      "15625\n"
     ]
    }
   ],
   "source": [
    "# Static Method\n",
    "\n",
    "class Math:\n",
    "  @staticmethod # used to convert methods into static\n",
    "  def add(a, b):\n",
    "    return a+b\n",
    "  \n",
    "  def subtract(a,b):\n",
    "    return a-b\n",
    "\n",
    "  def pow(a,b):\n",
    "    return a**b\n",
    "  \n",
    "  def multiply(a,b):\n",
    "    return a*b\n",
    "\n",
    "  def division(a,b):\n",
    "    return a/b\n",
    "\n",
    "\n",
    "print(Math.add(5,6))\n",
    "print(Math.subtract(5,6))\n",
    "print(Math.multiply(5,6))\n",
    "print(Math.division(5,6))\n",
    "print(Math.pow(5,6))"
   ]
  },
  {
   "cell_type": "markdown",
   "metadata": {},
   "source": [
    "#### Encapsulation"
   ]
  },
  {
   "cell_type": "code",
   "execution_count": null,
   "metadata": {},
   "outputs": [
    {
     "ename": "AttributeError",
     "evalue": "'Car' object has no attribute '__maxspeed'",
     "output_type": "error",
     "traceback": [
      "\u001b[1;31m---------------------------------------------------------------------------\u001b[0m",
      "\u001b[1;31mAttributeError\u001b[0m                            Traceback (most recent call last)",
      "Cell \u001b[1;32mIn[12], line 7\u001b[0m\n\u001b[0;32m      4\u001b[0m     \u001b[38;5;28mself\u001b[39m\u001b[38;5;241m.\u001b[39mbrand \u001b[38;5;241m=\u001b[39m \u001b[38;5;124m'\u001b[39m\u001b[38;5;124mAudi\u001b[39m\u001b[38;5;124m'\u001b[39m\n\u001b[0;32m      6\u001b[0m c1 \u001b[38;5;241m=\u001b[39m Car()\n\u001b[1;32m----> 7\u001b[0m \u001b[38;5;28mprint\u001b[39m(\u001b[43mc1\u001b[49m\u001b[38;5;241;43m.\u001b[39;49m\u001b[43m__maxspeed\u001b[49m)\n",
      "\u001b[1;31mAttributeError\u001b[0m: 'Car' object has no attribute '__maxspeed'"
     ]
    }
   ],
   "source": [
    "class Car:\n",
    "  def __init__(self):\n",
    "    self.__maxspeed = 150   # private variable\n",
    "    self.brand = 'Audi'    # public variable\n",
    "\n",
    "c1 = Car()\n",
    "print(c1.__maxspeed)"
   ]
  },
  {
   "cell_type": "code",
   "execution_count": 16,
   "metadata": {},
   "outputs": [
    {
     "name": "stdout",
     "output_type": "stream",
     "text": [
      "Squirtle\n",
      "23\n",
      "Squirtle has evolved!!\n",
      "28\n",
      "{'name': 'Squirtle', '_Pokemon__HP': 28, 'level': 2, 'type': 'water'}\n"
     ]
    }
   ],
   "source": [
    "# Make a Pokemon class, where all objects have these.\n",
    "# 1. name, that is public\n",
    "# 2. HP, that is private\n",
    "# 3. level, that is public\n",
    "# 4. level_up() that updates level\n",
    "# 5. evolve(), that evolves pokemon, increase HP by 5\n",
    "# All Pokemons belong to a common type, water.\n",
    "\n",
    "class Pokemon:\n",
    "  \n",
    "  def __init__ (self, name, HP, type):\n",
    "    self.name = name\n",
    "    self.__HP = HP\n",
    "    self.level = 1\n",
    "    self.type = type\n",
    "\n",
    "  def level_up(self):\n",
    "    self.level += 1\n",
    "\n",
    "  def evolve(self):\n",
    "    self.__HP += 5\n",
    "    return f\"{self.name} has evolved!!\"\n",
    "\n",
    "  def get_health(self):\n",
    "    return self.__HP\n",
    "  \n",
    "  def __str__(self):\n",
    "    return self.name\n",
    "  \n",
    "p1 = Pokemon('Squirtle', 23, 'water')\n",
    "print(p1)\n",
    "print(p1.get_health())\n",
    "print(p1.evolve())\n",
    "print(p1.get_health())\n",
    "p1.level_up()\n",
    "print(p1.__dict__)\n",
    "\n",
    "  \n",
    "\n",
    "  "
   ]
  },
  {
   "cell_type": "markdown",
   "metadata": {},
   "source": [
    "#### Inheritance"
   ]
  },
  {
   "cell_type": "code",
   "execution_count": 20,
   "metadata": {},
   "outputs": [
    {
     "name": "stdout",
     "output_type": "stream",
     "text": [
      "True\n",
      "False\n",
      "True\n"
     ]
    }
   ],
   "source": [
    "class Animal:\n",
    "  pass\n",
    "\n",
    "class Dog(Animal):\n",
    "  pass\n",
    "\n",
    "jimmy = Dog()\n",
    "print(isinstance(jimmy, Dog))\n",
    "print(issubclass(Animal, Dog))\n",
    "print(issubclass(Dog, Animal))"
   ]
  },
  {
   "cell_type": "code",
   "execution_count": 26,
   "metadata": {},
   "outputs": [
    {
     "name": "stdout",
     "output_type": "stream",
     "text": [
      "{'name': 'Windows', 'version': 11, 'year': 2024}\n",
      "MobileOS\n"
     ]
    }
   ],
   "source": [
    "class OperaingSystem:\n",
    "  def __init__(self, name, version, year):\n",
    "    self.name = name\n",
    "    self.version = version\n",
    "    self.year = year\n",
    "\n",
    "  def __str__(self):\n",
    "    return 'Operaing System'\n",
    "\n",
    "class MobileOS(OperaingSystem):\n",
    "  def __str__(self):\n",
    "    return 'MobileOS'\n",
    "\n",
    "mo = MobileOS('Windows', 11, 2024)\n",
    "print(mo.__dict__)\n",
    "print(mo)"
   ]
  },
  {
   "cell_type": "code",
   "execution_count": 30,
   "metadata": {},
   "outputs": [
    {
     "name": "stdout",
     "output_type": "stream",
     "text": [
      "{'side1': 3, 'side2': 4, 'side3': 5}\n",
      "This is a general Traingle\n",
      "{'side1': 4, 'side2': 5, 'side3': 5}\n",
      "This is an Isosceles Triangle\n",
      "{'side1': 4, 'side2': 4, 'side3': 4}\n",
      "This is an Equilateral Triangle\n",
      "{'side1': 3, 'side2': 4, 'side3': 5}\n",
      "This is a Scalar Triangle\n"
     ]
    }
   ],
   "source": [
    "# Make a Triangle Class and have different child classes for different types of class\n",
    "\n",
    "class Triangle:\n",
    "\n",
    "  def __init__(self, side1, side2, side3):\n",
    "    self.side1 = side1\n",
    "    self.side2 = side2\n",
    "    self.side3 = side3\n",
    "\n",
    "  def __str__(self):\n",
    "    return 'This is a general Traingle'\n",
    "\n",
    "class Isosceles(Triangle):\n",
    "\n",
    "  def __init__(self, side1, side2):\n",
    "    super().__init__(side1, side2, side2)  # super is used to call the parent's init\n",
    "\n",
    "  def __str__(self):\n",
    "    return 'This is an Isosceles Triangle'\n",
    "\n",
    "class Equilateral(Triangle):\n",
    "\n",
    "  def __init__(self, side):\n",
    "    super().__init__(side, side, side)\n",
    "\n",
    "  def __str__(self):\n",
    "    return 'This is an Equilateral Triangle'\n",
    "\n",
    "class Scalar(Triangle):\n",
    "  def __str__(self):\n",
    "    return 'This is a Scalar Triangle'\n",
    "  \n",
    "\n",
    "t1 = Triangle(3,4,5)\n",
    "t2 = Isosceles(4,5)\n",
    "t3 = Equilateral(4)\n",
    "t4 = Scalar(3,4,5)\n",
    "\n",
    "print(t1.__dict__)\n",
    "print(t1)\n",
    "print(t2.__dict__)\n",
    "print(t2)\n",
    "print(t3.__dict__)\n",
    "print(t3)\n",
    "print(t4.__dict__)\n",
    "print(t4)"
   ]
  }
 ],
 "metadata": {
  "kernelspec": {
   "display_name": "Python 3",
   "language": "python",
   "name": "python3"
  },
  "language_info": {
   "codemirror_mode": {
    "name": "ipython",
    "version": 3
   },
   "file_extension": ".py",
   "mimetype": "text/x-python",
   "name": "python",
   "nbconvert_exporter": "python",
   "pygments_lexer": "ipython3",
   "version": "3.12.7"
  }
 },
 "nbformat": 4,
 "nbformat_minor": 2
}
