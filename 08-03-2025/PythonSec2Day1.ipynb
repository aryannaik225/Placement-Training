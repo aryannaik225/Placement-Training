{
 "cells": [
  {
   "cell_type": "code",
   "execution_count": 1,
   "metadata": {},
   "outputs": [
    {
     "name": "stdout",
     "output_type": "stream",
     "text": [
      "4\n"
     ]
    }
   ],
   "source": [
    "# Vahayaad Method ~Sir\n",
    "# Calculating the number of special characters in a string\n",
    "# Input : gasgg54@#vsccd!s*\n",
    "# Output : 4\n",
    "\n",
    "str1 = 'gasgg54@#vsccd!s*'\n",
    "\n",
    "count = 0\n",
    "for i in str1:\n",
    "  if i.isalnum()==False:\n",
    "    count += 1\n",
    "\n",
    "print(count)\n"
   ]
  },
  {
   "cell_type": "code",
   "execution_count": 2,
   "metadata": {},
   "outputs": [
    {
     "name": "stdout",
     "output_type": "stream",
     "text": [
      "4\n",
      "4\n"
     ]
    }
   ],
   "source": [
    "# Better method using filter\n",
    "\n",
    "print(len(list(filter(lambda x: x.isalnum()==False, 'gasgg54@#vsccd!s*'))))\n",
    "\n",
    "print(len(list(filter(lambda x: not x.isalnum(), 'gasgg54@#vsccd!s*'))))\n"
   ]
  },
  {
   "cell_type": "code",
   "execution_count": 3,
   "metadata": {},
   "outputs": [
    {
     "name": "stdout",
     "output_type": "stream",
     "text": [
      "[1, 2, 3]\n",
      "[2, 6, 6, 9]\n",
      "[114, 97, 117, 110, 97, 107]\n"
     ]
    }
   ],
   "source": [
    "# map(function, iterable)\n",
    "\n",
    "print(list(map(int, ['1', '2', '3'])))\n",
    "\n",
    "# Map is an inbuilt for loop\n",
    "\n",
    "print(list(map(round, [1.5, 6.5, 5.6, 9.1])))\n",
    "print(list(map(ord, \"raunak\")))"
   ]
  },
  {
   "cell_type": "code",
   "execution_count": 4,
   "metadata": {},
   "outputs": [
    {
     "name": "stdout",
     "output_type": "stream",
     "text": [
      "25\n"
     ]
    }
   ],
   "source": [
    "# lambda function\n",
    "\n",
    "def f(x): \n",
    "  return x**2\n",
    "\n",
    "print(f(5))\n",
    "\n",
    "# lambda x: x**2\n",
    "# does the same thing"
   ]
  },
  {
   "cell_type": "code",
   "execution_count": 5,
   "metadata": {},
   "outputs": [
    {
     "name": "stdout",
     "output_type": "stream",
     "text": [
      "[1, 4, 9, 16, 25, 36, 49, 64, 81, 100]\n"
     ]
    }
   ],
   "source": [
    "# Square every element in a list using map\n",
    "\n",
    "print(list(map(lambda x: x**2, [1, 2, 3, 4, 5, 6, 7, 8, 9, 10])))"
   ]
  },
  {
   "cell_type": "code",
   "execution_count": 6,
   "metadata": {},
   "outputs": [
    {
     "name": "stdout",
     "output_type": "stream",
     "text": [
      "[2, 4, 6, 8, 10, 12, 14, 16, 18, 20]\n"
     ]
    }
   ],
   "source": [
    "# double every element in a list\n",
    "\n",
    "print(list(map(lambda x: x*2, [1, 2, 3, 4, 5, 6, 7, 8, 9, 10])))"
   ]
  },
  {
   "cell_type": "code",
   "execution_count": 7,
   "metadata": {},
   "outputs": [
    {
     "name": "stdout",
     "output_type": "stream",
     "text": [
      "RAUNAK\n"
     ]
    }
   ],
   "source": [
    "# Convert every character to upper\n",
    "# Dont use upper() or any similar\n",
    "# use only ord() and chr()\n",
    "# print(\"\".join(['a', 'b']))\n",
    "\n",
    "print(\"\".join(list(map(lambda x: chr(ord(x) - 32), 'raunak'))))\n",
    "\n",
    "# the join function was used to convert the list into string\n"
   ]
  },
  {
   "cell_type": "code",
   "execution_count": 8,
   "metadata": {},
   "outputs": [
    {
     "name": "stdout",
     "output_type": "stream",
     "text": [
      "[('cat', 3), ('grass', 5), ('door', 4)]\n"
     ]
    }
   ],
   "source": [
    "# Input: ['cat', 'grass', 'door']\n",
    "# Output: [('cat', 3), ('grass', 5), ('door', 4)]\n",
    "\n",
    "print(list(map(lambda x: (x,len(x)), ['cat', 'grass', 'door'])))\n",
    "# was converted to tuple by default"
   ]
  },
  {
   "cell_type": "code",
   "execution_count": 9,
   "metadata": {},
   "outputs": [
    {
     "name": "stdout",
     "output_type": "stream",
     "text": [
      "[2, 4]\n"
     ]
    }
   ],
   "source": [
    "# Filter function\n",
    "# filter(f, iterable)\n",
    "\n",
    "print(list(filter(lambda x: x%2==0, [1,2,3,4,5])))\n"
   ]
  },
  {
   "cell_type": "code",
   "execution_count": 10,
   "metadata": {},
   "outputs": [
    {
     "name": "stdout",
     "output_type": "stream",
     "text": [
      "oh what a lovely day\n"
     ]
    }
   ],
   "source": [
    "# Remove punctuations in a string using filter\n",
    "\n",
    "import string\n",
    "\n",
    "# print(string.punctuation)\n",
    "print(\"\".join(list(filter(lambda x: x not in string.punctuation, \"oh, what a lovely day!\"))))"
   ]
  },
  {
   "cell_type": "code",
   "execution_count": 11,
   "metadata": {},
   "outputs": [
    {
     "name": "stdout",
     "output_type": "stream",
     "text": [
      "Iamlearningpython\n",
      "Iamlearningpython\n"
     ]
    }
   ],
   "source": [
    "# remove all spaces from a string\n",
    "# the middle spaces i mean!!!\n",
    "\n",
    "\n",
    "s = 'I am learning python'\n",
    "print(\"\".join(list(filter(lambda x: not x.isspace(), s))))\n",
    "print(''.join(s.split()))"
   ]
  },
  {
   "cell_type": "code",
   "execution_count": 12,
   "metadata": {},
   "outputs": [
    {
     "name": "stdout",
     "output_type": "stream",
     "text": [
      "5\n"
     ]
    }
   ],
   "source": [
    "# count vowels using map/filter???\n",
    "\n",
    "print(len(list(filter(lambda x: x in 'aeiouAEIOU', 'education'))))"
   ]
  },
  {
   "cell_type": "markdown",
   "metadata": {},
   "source": [
    "**Counter Module**"
   ]
  },
  {
   "cell_type": "code",
   "execution_count": 13,
   "metadata": {},
   "outputs": [],
   "source": [
    "# Collections module\n",
    "from collections import Counter"
   ]
  },
  {
   "cell_type": "code",
   "execution_count": 14,
   "metadata": {},
   "outputs": [
    {
     "name": "stdout",
     "output_type": "stream",
     "text": [
      "Counter({'a': 2, 'r': 1, 'u': 1, 'n': 1, 'k': 1})\n"
     ]
    }
   ],
   "source": [
    "# Count letter frequency\n",
    "\n",
    "c = Counter('raunak')\n",
    "print(c)"
   ]
  },
  {
   "cell_type": "code",
   "execution_count": 15,
   "metadata": {},
   "outputs": [
    {
     "name": "stdout",
     "output_type": "stream",
     "text": [
      "Counter({'This': 1, 'is': 1, 'python': 1})\n"
     ]
    }
   ],
   "source": [
    "w = Counter('This is python'.split())\n",
    "print(w)"
   ]
  },
  {
   "cell_type": "markdown",
   "metadata": {},
   "source": [
    "## File Handling"
   ]
  },
  {
   "cell_type": "code",
   "execution_count": 16,
   "metadata": {},
   "outputs": [],
   "source": [
    "# open -> opened the file\n",
    "# w -> gave us permission to write in the file\n",
    "\n",
    "with open('sample.txt', 'w') as f:\n",
    "  f.write('Welcome to my session!')"
   ]
  },
  {
   "cell_type": "code",
   "execution_count": 17,
   "metadata": {},
   "outputs": [
    {
     "name": "stdout",
     "output_type": "stream",
     "text": [
      "Welcome to my session!\n"
     ]
    }
   ],
   "source": [
    "# r gives us permission to read the while\n",
    "# if nothing is typed, you are by default given the permission to read\n",
    "with open('sample.txt') as f:\n",
    "  print(f.read())"
   ]
  },
  {
   "cell_type": "code",
   "execution_count": 23,
   "metadata": {},
   "outputs": [],
   "source": [
    "with open('sample1.txt', 'w') as f:\n",
    "  # f.writelines(['This is the first line'])\n",
    "  lines = ['first line\\n', 'second line']\n",
    "  f.writelines(lines)\n"
   ]
  },
  {
   "cell_type": "code",
   "execution_count": 30,
   "metadata": {},
   "outputs": [
    {
     "name": "stdout",
     "output_type": "stream",
     "text": [
      "22\n",
      "0\n"
     ]
    }
   ],
   "source": [
    "# read number of characters from a file\n",
    "\n",
    "with open('sample1.txt') as f:\n",
    "  print(len(f.read())) # gives the number of words, including \\n\n",
    "  print(len(f.readlines())) # gives the number of lines"
   ]
  },
  {
   "cell_type": "code",
   "execution_count": null,
   "metadata": {},
   "outputs": [
    {
     "name": "stdout",
     "output_type": "stream",
     "text": [
      "first line second line\n"
     ]
    }
   ],
   "source": [
    "# remove \\n\n",
    "with open('sample1.txt') as f:\n",
    "  print(' '.join(list(map(lambda x: x.strip('\\n'), f.readlines()))))\n"
   ]
  },
  {
   "cell_type": "code",
   "execution_count": 37,
   "metadata": {},
   "outputs": [
    {
     "name": "stdout",
     "output_type": "stream",
     "text": [
      "on!\n"
     ]
    }
   ],
   "source": [
    "# print the last three characters from a file\n",
    "with open('sample.txt') as f:\n",
    "  myl = f.read()\n",
    "  print(myl[-3:])"
   ]
  },
  {
   "cell_type": "code",
   "execution_count": 54,
   "metadata": {},
   "outputs": [],
   "source": [
    "# take names from the user\n",
    "# write them on multiple lines\n",
    "# make another file, add 'is coding'\n",
    "# and add that to the names\n",
    "\n",
    "with open('names.txt', 'w') as f:\n",
    "  names = list(map(str, input().split()))\n",
    "  f.writelines(list(map(lambda x: x+'\\n', names)))\n",
    "\n",
    "with open('namesIsCoding.txt', 'w') as f:\n",
    "  namesIsCoding = map(lambda x: x+' is coding\\n', names)\n",
    "  f.writelines(namesIsCoding)"
   ]
  },
  {
   "cell_type": "markdown",
   "metadata": {},
   "source": [
    "## Error catching"
   ]
  },
  {
   "cell_type": "code",
   "execution_count": null,
   "metadata": {},
   "outputs": [
    {
     "name": "stdout",
     "output_type": "stream",
     "text": [
      "invalid literal for int() with base 10: 'A'\n"
     ]
    }
   ],
   "source": [
    "try: \n",
    "  number = int(input('Enter a number: '))\n",
    "except Exception as e:\n",
    "  print(e)\n",
    "else:\n",
    "  # executes along with try during no exceptions\n",
    "  print('No exception')"
   ]
  },
  {
   "cell_type": "code",
   "execution_count": 60,
   "metadata": {},
   "outputs": [
    {
     "name": "stdout",
     "output_type": "stream",
     "text": [
      "division by zero!\n",
      "executing finally done\n"
     ]
    }
   ],
   "source": [
    "try:\n",
    "  x,y = 2,0\n",
    "  result = x/y\n",
    "except ZeroDivisionError:\n",
    "  print('division by zero!')\n",
    "else:\n",
    "  print('result is', result)\n",
    "finally:\n",
    "  print('executing finally done')"
   ]
  },
  {
   "cell_type": "code",
   "execution_count": 64,
   "metadata": {},
   "outputs": [
    {
     "name": "stdout",
     "output_type": "stream",
     "text": [
      "17:23:00\n"
     ]
    }
   ],
   "source": [
    "#!/bin/python3\n",
    "\n",
    "import math\n",
    "import os\n",
    "import random\n",
    "import re\n",
    "import sys\n",
    "\n",
    "#\n",
    "# Complete the 'timeConversion' function below.\n",
    "#\n",
    "# The function is expected to return a STRING.\n",
    "# The function accepts STRING s as parameter.\n",
    "#\n",
    "\n",
    "def timeConversion(s):\n",
    "    # Write your code here\n",
    "    if s[-2:] == 'AM':\n",
    "        if s[:2] == '12':\n",
    "            return '00' + s[2:-2]\n",
    "        return s[:-2]\n",
    "    elif s[-2:] == 'PM':\n",
    "        if s[:2] == '12':\n",
    "            return s[:-2]\n",
    "        return str(int(s[:2]) + 12) + s[2:-2]\n",
    "\n",
    "if __name__ == '__main__':\n",
    "\n",
    "    s = input()\n",
    "\n",
    "    result = timeConversion(s)\n",
    "    print(result)\n"
   ]
  }
 ],
 "metadata": {
  "kernelspec": {
   "display_name": "Python 3",
   "language": "python",
   "name": "python3"
  },
  "language_info": {
   "codemirror_mode": {
    "name": "ipython",
    "version": 3
   },
   "file_extension": ".py",
   "mimetype": "text/x-python",
   "name": "python",
   "nbconvert_exporter": "python",
   "pygments_lexer": "ipython3",
   "version": "3.12.7"
  }
 },
 "nbformat": 4,
 "nbformat_minor": 2
}
