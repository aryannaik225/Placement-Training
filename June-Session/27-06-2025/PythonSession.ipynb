{
 "cells": [
  {
   "cell_type": "markdown",
   "id": "73737612",
   "metadata": {},
   "source": [
    "Topics taught today\n",
    "- Dijkstra Algorithm\n",
    "- Bellman Ford Algorithm\n",
    "- Topological Search Algorithm"
   ]
  },
  {
   "cell_type": "markdown",
   "id": "33758d06",
   "metadata": {},
   "source": [
    "### Dijkstra Algorithm\n",
    "Greedy Algorithm <br>\n",
    "Used to find the shortest path <br>\n"
   ]
  },
  {
   "cell_type": "code",
   "execution_count": 12,
   "id": "9575b4c7",
   "metadata": {},
   "outputs": [
    {
     "name": "stdout",
     "output_type": "stream",
     "text": [
      "Shortest distance from A to A is 0 via path: A\n",
      "Shortest distance from A to B is 1 via path: A → B\n",
      "Shortest distance from A to C is -1 via path: A → B → C\n"
     ]
    }
   ],
   "source": [
    "def dijkstra(graph, start):\n",
    "  dist = {node: float('inf') for node in graph}\n",
    "  prev = {node: None for node in graph}\n",
    "  dist[start] = 0\n",
    "  visited = set()\n",
    "\n",
    "  while len(visited) < len(graph):\n",
    "    min_node = None\n",
    "    for node in graph:\n",
    "      if node not in visited:\n",
    "        if min_node is None or dist[node] < dist[min_node]:\n",
    "          min_node = node\n",
    "    \n",
    "    if min_node is None:\n",
    "      break\n",
    "\n",
    "    visited.add(min_node)\n",
    "\n",
    "    for neighbor, weight in graph[min_node]:\n",
    "      if neighbor not in visited:\n",
    "        new_dist = dist[min_node] + weight\n",
    "        if new_dist < dist[neighbor]:\n",
    "          dist[neighbor] = new_dist\n",
    "          prev[neighbor] = min_node\n",
    "\n",
    "  return dist, prev\n",
    "\n",
    "\n",
    "def reconstruct_path(prev, node):\n",
    "  path = []\n",
    "  while node is not None:\n",
    "    path.append(node)\n",
    "    node = prev[node]\n",
    "  return path[::-1]\n",
    "\n",
    "\n",
    "# graph = {\n",
    "#   \"A\" : [('B', 4), ('C', 1)],\n",
    "#   \"B\" : [('E', 4)],\n",
    "#   \"C\" : [('B', 2), ('D', 4)],\n",
    "#   \"D\" : [('E', 4)],\n",
    "#   \"E\" : [('C', 4)]\n",
    "# }\n",
    "\n",
    "graph = {\n",
    "    'A': [('B', 1), ('C', 4)],\n",
    "    'B': [('C', -2)],\n",
    "    'C': []\n",
    "}\n",
    "\n",
    "start_node = 'A'\n",
    "distances, previous = dijkstra(graph, start_node)\n",
    "\n",
    "for node in distances:\n",
    "  path = reconstruct_path(previous, node)\n",
    "  path_str = ' → '.join(path)\n",
    "  print(f\"Shortest distance from {start_node} to {node} is {distances[node]} via path: {path_str}\")\n"
   ]
  },
  {
   "cell_type": "markdown",
   "id": "cb394444",
   "metadata": {},
   "source": [
    "<br>\n",
    "<br>\n",
    "<br>\n",
    "\n",
    "#### Topological Sort"
   ]
  },
  {
   "cell_type": "code",
   "execution_count": 21,
   "id": "7f2cd06e",
   "metadata": {},
   "outputs": [
    {
     "name": "stdout",
     "output_type": "stream",
     "text": [
      "['5', '4', '2', '0', '3', '1']\n"
     ]
    }
   ],
   "source": [
    "# BFS / Indegree\n",
    "\n",
    "class Graph:\n",
    "  def __init__(self):\n",
    "    self.graph = {}\n",
    "\n",
    "  \n",
    "  def addedges(self, u, v):\n",
    "    if u not in self.graph:\n",
    "      self.graph[u]= []\n",
    "    if v not in self.graph:\n",
    "      self.graph[v] = []\n",
    "\n",
    "    self.graph[u].append(v)\n",
    "\n",
    "\n",
    "  def get_indegree(self):\n",
    "    indegree = {}\n",
    "    for node in self.graph:\n",
    "      indegree[node] = 0\n",
    "    for x in self.graph:\n",
    "        for y in self.graph[x]:\n",
    "          indegree[y]+=1\n",
    "    return indegree\n",
    "\n",
    "\n",
    "  def topological_sort(self):\n",
    "    indegree = self.get_indegree()\n",
    "\n",
    "    queue = []\n",
    "    visited = []\n",
    "    for i in indegree:\n",
    "      if indegree[i] == 0:\n",
    "        queue.append(i)\n",
    "\n",
    "    while queue:\n",
    "      curr_node = queue.pop(0)\n",
    "      visited.append(curr_node)\n",
    "\n",
    "      for i in self.graph[curr_node]:\n",
    "        indegree[i] -= 1\n",
    "        if indegree[i] == 0:\n",
    "          queue.append(i)\n",
    "\n",
    "    if len(visited) != len(self.graph):\n",
    "      return None\n",
    "    return visited\n",
    "  \n",
    "\n",
    "x = Graph()\n",
    "x.addedges(\"5\", \"0\")\n",
    "x.addedges(\"4\", \"0\")\n",
    "x.addedges(\"5\", \"2\")\n",
    "x.addedges(\"2\", \"3\")\n",
    "x.addedges(\"3\", \"1\")\n",
    "\n",
    "\n",
    "print(x.topological_sort())\n",
    "    \n",
    "\n",
    "\n"
   ]
  },
  {
   "cell_type": "code",
   "execution_count": 27,
   "id": "4259d18d",
   "metadata": {},
   "outputs": [
    {
     "name": "stdout",
     "output_type": "stream",
     "text": [
      "['4', '5', '2', '3', '1', '0']\n"
     ]
    }
   ],
   "source": [
    "# DFS Outdegree\n",
    "\n",
    "class Graph:\n",
    "  def __init__(self):\n",
    "    self.graph = {}\n",
    "\n",
    "  \n",
    "  def addedges(self, u, v):\n",
    "    if u not in self.graph:\n",
    "      self.graph[u]= []\n",
    "    if v not in self.graph:\n",
    "      self.graph[v] = []\n",
    "\n",
    "    self.graph[u].append(v)\n",
    "\n",
    "\n",
    "  def get_outdegree(self):\n",
    "    outdegree = {}\n",
    "    for node in self.graph:\n",
    "      outdegree[node] = len(self.graph[node])\n",
    "      for vi in self.graph[node]:\n",
    "        if vi not in outdegree:\n",
    "          outdegree[vi] = 0\n",
    "    \n",
    "    return outdegree\n",
    "    \n",
    "\n",
    "\n",
    "  def topological_sort(self):\n",
    "    visited = set()\n",
    "    temp_stack = set()\n",
    "    result = []\n",
    "\n",
    "    def dfs(node):\n",
    "        if node in temp_stack:\n",
    "            raise ValueError(\"Cycle detected\")\n",
    "        if node in visited:\n",
    "            return\n",
    "        temp_stack.add(node)\n",
    "        for neighbor in self.graph[node]:\n",
    "            dfs(neighbor)\n",
    "        temp_stack.remove(node)\n",
    "        visited.add(node)\n",
    "        result.append(node)\n",
    "\n",
    "    for node in self.graph:\n",
    "        if node not in visited:\n",
    "            dfs(node)\n",
    "\n",
    "    return result[::-1]\n",
    "  \n",
    "\n",
    "x = Graph()\n",
    "x.addedges(\"5\", \"0\")\n",
    "x.addedges(\"4\", \"0\")\n",
    "x.addedges(\"5\", \"2\")\n",
    "x.addedges(\"2\", \"3\")\n",
    "x.addedges(\"3\", \"1\")\n",
    "\n",
    "\n",
    "print(x.topological_sort())\n",
    "    "
   ]
  },
  {
   "cell_type": "markdown",
   "id": "250dc363",
   "metadata": {},
   "source": [
    "### Trie\n",
    "- Data Retrieval Algorithm\n",
    "- Used for recommending complete words when typing.. Word suggestions\n",
    "- Can have any number of children"
   ]
  },
  {
   "cell_type": "code",
   "execution_count": 35,
   "id": "3467634d",
   "metadata": {},
   "outputs": [
    {
     "name": "stdout",
     "output_type": "stream",
     "text": [
      "True\n",
      "False\n",
      "True\n",
      "False\n"
     ]
    }
   ],
   "source": [
    "class Node:\n",
    "  def __init__(self):\n",
    "    self.ch = {}\n",
    "    self.eow=False #End of word\n",
    "\n",
    "class Trie:\n",
    "  def __init__(self):\n",
    "    self.root = Node()\n",
    "  \n",
    "  def insert(self, word):\n",
    "    r = self.root\n",
    "    for i in word:\n",
    "      if i not in r.ch:\n",
    "        r.ch[i] = Node()\n",
    "      r = r.ch[i]\n",
    "    r.eow = True\n",
    "  \n",
    "  def search(self, word):\n",
    "    r=self.root\n",
    "    for i in word:\n",
    "      if i not in r.ch:\n",
    "        return False\n",
    "      r = r.ch[i]\n",
    "    return r.eow\n",
    "  \n",
    "  def startsWith(self, word):\n",
    "    r=self.root\n",
    "    for i in word:\n",
    "      if i not in r.ch:\n",
    "        return False\n",
    "      r = r.ch[i]\n",
    "    return True\n",
    "\n",
    "\n",
    "t = Trie()\n",
    "t.insert('apply')\n",
    "t.insert('app')\n",
    "t.insert('apple')\n",
    "t.insert('do')\n",
    "print(t.search('app'))\n",
    "print(t.search('done'))\n",
    "print(t.startsWith('ap'))\n",
    "print(t.startsWith('ps'))"
   ]
  },
  {
   "cell_type": "markdown",
   "id": "918e1d59",
   "metadata": {},
   "source": [
    "### Dynamic Programming"
   ]
  },
  {
   "cell_type": "code",
   "execution_count": null,
   "id": "52c0c419",
   "metadata": {},
   "outputs": [
    {
     "name": "stdout",
     "output_type": "stream",
     "text": [
      "5\n"
     ]
    },
    {
     "ename": "KeyboardInterrupt",
     "evalue": "",
     "output_type": "error",
     "traceback": [
      "\u001b[1;31m---------------------------------------------------------------------------\u001b[0m",
      "\u001b[1;31mKeyboardInterrupt\u001b[0m                         Traceback (most recent call last)",
      "Cell \u001b[1;32mIn[36], line 9\u001b[0m\n\u001b[0;32m      6\u001b[0m   \u001b[38;5;28;01mreturn\u001b[39;00m fibo(n\u001b[38;5;241m-\u001b[39m\u001b[38;5;241m1\u001b[39m)\u001b[38;5;241m+\u001b[39mfibo(n\u001b[38;5;241m-\u001b[39m\u001b[38;5;241m2\u001b[39m)\n\u001b[0;32m      8\u001b[0m \u001b[38;5;28mprint\u001b[39m(fibo(\u001b[38;5;241m5\u001b[39m))\n\u001b[1;32m----> 9\u001b[0m \u001b[38;5;28mprint\u001b[39m(\u001b[43mfibo\u001b[49m\u001b[43m(\u001b[49m\u001b[38;5;241;43m55\u001b[39;49m\u001b[43m)\u001b[49m)\n",
      "Cell \u001b[1;32mIn[36], line 6\u001b[0m, in \u001b[0;36mfibo\u001b[1;34m(n)\u001b[0m\n\u001b[0;32m      4\u001b[0m \u001b[38;5;28;01mif\u001b[39;00m n\u001b[38;5;241m<\u001b[39m\u001b[38;5;241m=\u001b[39m\u001b[38;5;241m1\u001b[39m:\n\u001b[0;32m      5\u001b[0m   \u001b[38;5;28;01mreturn\u001b[39;00m n\n\u001b[1;32m----> 6\u001b[0m \u001b[38;5;28;01mreturn\u001b[39;00m \u001b[43mfibo\u001b[49m\u001b[43m(\u001b[49m\u001b[43mn\u001b[49m\u001b[38;5;241;43m-\u001b[39;49m\u001b[38;5;241;43m1\u001b[39;49m\u001b[43m)\u001b[49m\u001b[38;5;241m+\u001b[39mfibo(n\u001b[38;5;241m-\u001b[39m\u001b[38;5;241m2\u001b[39m)\n",
      "Cell \u001b[1;32mIn[36], line 6\u001b[0m, in \u001b[0;36mfibo\u001b[1;34m(n)\u001b[0m\n\u001b[0;32m      4\u001b[0m \u001b[38;5;28;01mif\u001b[39;00m n\u001b[38;5;241m<\u001b[39m\u001b[38;5;241m=\u001b[39m\u001b[38;5;241m1\u001b[39m:\n\u001b[0;32m      5\u001b[0m   \u001b[38;5;28;01mreturn\u001b[39;00m n\n\u001b[1;32m----> 6\u001b[0m \u001b[38;5;28;01mreturn\u001b[39;00m \u001b[43mfibo\u001b[49m\u001b[43m(\u001b[49m\u001b[43mn\u001b[49m\u001b[38;5;241;43m-\u001b[39;49m\u001b[38;5;241;43m1\u001b[39;49m\u001b[43m)\u001b[49m\u001b[38;5;241m+\u001b[39mfibo(n\u001b[38;5;241m-\u001b[39m\u001b[38;5;241m2\u001b[39m)\n",
      "    \u001b[1;31m[... skipping similar frames: fibo at line 6 (33 times)]\u001b[0m\n",
      "Cell \u001b[1;32mIn[36], line 6\u001b[0m, in \u001b[0;36mfibo\u001b[1;34m(n)\u001b[0m\n\u001b[0;32m      4\u001b[0m \u001b[38;5;28;01mif\u001b[39;00m n\u001b[38;5;241m<\u001b[39m\u001b[38;5;241m=\u001b[39m\u001b[38;5;241m1\u001b[39m:\n\u001b[0;32m      5\u001b[0m   \u001b[38;5;28;01mreturn\u001b[39;00m n\n\u001b[1;32m----> 6\u001b[0m \u001b[38;5;28;01mreturn\u001b[39;00m \u001b[43mfibo\u001b[49m\u001b[43m(\u001b[49m\u001b[43mn\u001b[49m\u001b[38;5;241;43m-\u001b[39;49m\u001b[38;5;241;43m1\u001b[39;49m\u001b[43m)\u001b[49m\u001b[38;5;241m+\u001b[39mfibo(n\u001b[38;5;241m-\u001b[39m\u001b[38;5;241m2\u001b[39m)\n",
      "Cell \u001b[1;32mIn[36], line 3\u001b[0m, in \u001b[0;36mfibo\u001b[1;34m(n)\u001b[0m\n\u001b[0;32m      1\u001b[0m \u001b[38;5;66;03m# Fibonacci series using recursion\u001b[39;00m\n\u001b[1;32m----> 3\u001b[0m \u001b[38;5;28;01mdef\u001b[39;00m \u001b[38;5;21mfibo\u001b[39m(n):\n\u001b[0;32m      4\u001b[0m   \u001b[38;5;28;01mif\u001b[39;00m n\u001b[38;5;241m<\u001b[39m\u001b[38;5;241m=\u001b[39m\u001b[38;5;241m1\u001b[39m:\n\u001b[0;32m      5\u001b[0m     \u001b[38;5;28;01mreturn\u001b[39;00m n\n",
      "\u001b[1;31mKeyboardInterrupt\u001b[0m: "
     ]
    }
   ],
   "source": [
    "# Fibonacci series using recursion\n",
    "# Keeping this running for like 23 mins, didnt give the output cause recursion to calculate fibonacci of 55 is insanely large chunk of calculation\n",
    "def fibo(n):\n",
    "  if n<=1:\n",
    "    return n\n",
    "  return fibo(n-1)+fibo(n-2)\n",
    "\n",
    "print(fibo(5))\n",
    "print(fibo(55))"
   ]
  },
  {
   "cell_type": "code",
   "execution_count": 44,
   "id": "4a19b5ba",
   "metadata": {},
   "outputs": [
    {
     "name": "stdout",
     "output_type": "stream",
     "text": [
      "5\n",
      "139583862445\n",
      "5\n",
      "139583862445\n"
     ]
    }
   ],
   "source": [
    "# Fibonacci series using dynamic programming\n",
    "# Holy shit this gave the answer in 0ms\n",
    "\n",
    "\n",
    "\n",
    "def fibo_topDown(n, dp = None):\n",
    "  if dp == None:\n",
    "    dp = [-1]*(n+1)\n",
    "  if n<=1:\n",
    "    dp[n] = n\n",
    "    return n\n",
    "  if dp[n]!= -1:\n",
    "    return dp[n]\n",
    "  ans = fibo(n-1, dp)+fibo(n-2, dp)\n",
    "  dp[n] = ans\n",
    "  return ans\n",
    "\n",
    "\n",
    "def fibo_bottomUp(n):\n",
    "  if n<=1:\n",
    "    return n\n",
    "  dp = [0]*(n+1)\n",
    "  dp[1] = 1\n",
    "\n",
    "  for i in range(2, n+1):\n",
    "    dp[i] = dp[i-1] + dp[i-2]\n",
    "  return dp[n]\n",
    "\n",
    "print(fibo_topDown(5))\n",
    "print(fibo_topDown(55))\n",
    "\n",
    "print(fibo_bottomUp(5))\n",
    "print(fibo_bottomUp(55))"
   ]
  },
  {
   "cell_type": "code",
   "execution_count": null,
   "id": "a4a41e61",
   "metadata": {},
   "outputs": [
    {
     "name": "stdout",
     "output_type": "stream",
     "text": [
      "[1, 2, 3] [1, 2] [1, 3] [1] [2, 3] [2] [3] [] "
     ]
    }
   ],
   "source": [
    "# Substring\n",
    "\n",
    "x=[1,2,3]\n",
    "\n",
    "def soa(ans=None, i=0):\n",
    "  if ans == None:\n",
    "    ans=[]\n",
    "  if i == len(x):\n",
    "    print(ans, end=\" \")\n",
    "    return\n",
    "  soa(ans+[x[i]], i+1)\n",
    "  soa(ans, i+1)\n",
    "\n",
    "soa()\n",
    "\n",
    "# this prints in a particular order\n",
    "# it is based on a certain method"
   ]
  },
  {
   "cell_type": "markdown",
   "id": "1ecd77ef",
   "metadata": {},
   "source": [
    "### Knapsack\n",
    "Types of Knapsack\n",
    "- **01 Knapsack** : No item repeated, no item division, \n",
    "- **Unbounded Knapsack** : Item can be repeated, no item division\n",
    "- **Fractional Knapsack** : Items can be repeated, can be divided\n",
    "\n",
    "<br>\n",
    "<br>\n",
    "Steps: <br>\n",
    "1. Calculate profit. Weight per kg <br>\n",
    "2. Sort(Descending order) <br>\n",
    "3. According to bag capacity push product into bag <br>\n",
    "<br>"
   ]
  },
  {
   "cell_type": "code",
   "execution_count": 56,
   "id": "67213798",
   "metadata": {},
   "outputs": [
    {
     "name": "stdout",
     "output_type": "stream",
     "text": [
      "220\n"
     ]
    }
   ],
   "source": [
    "# 0/1 Knapsack\n",
    "\n",
    "def kp(bag_cap, item_weight, item_price):\n",
    "  if bag_cap == 0 or len(item_weight) == 0:\n",
    "    profit = 0\n",
    "  elif item_weight[0] > bag_cap:\n",
    "    profit = kp(bag_cap, item_weight[1:], item_price[1:])\n",
    "  else:\n",
    "    include = item_price[0]+kp((bag_cap-item_weight[0]), item_weight[1:], item_price[1:])\n",
    "    exclude = kp(bag_cap, item_weight[1:], item_price[1:]) \n",
    "    profit = max(include, exclude)\n",
    "  return profit\n",
    "\n",
    "\n",
    "bag_cap = 50\n",
    "item_weight = [10, 20, 30]\n",
    "item_price = [60, 100, 120]\n",
    "\n",
    "print(kp(bag_cap, item_weight, item_price))\n"
   ]
  },
  {
   "cell_type": "code",
   "execution_count": null,
   "id": "9b9893cd",
   "metadata": {},
   "outputs": [
    {
     "name": "stdout",
     "output_type": "stream",
     "text": [
      "400.0\n"
     ]
    }
   ],
   "source": [
    "# Failed try to do unbounded knapsack\n",
    "\n",
    "def kp(bag_cap, item_weight, item_price):\n",
    "  if bag_cap == 0 or len(item_weight) == 0:\n",
    "    profit = 0\n",
    "  elif item_weight[0] > bag_cap:\n",
    "    # profit = kp(bag_cap, item_weight[1:], item_price[1:])\n",
    "    item_weight[0] -= bag_cap\n",
    "    profit = (item_price[0]/item_weight[0])*bag_cap\n",
    "    bag_cap = 0\n",
    "  else:\n",
    "    include = item_price[0]+kp((bag_cap-item_weight[0]), item_weight[1:], item_price[1:])\n",
    "    exclude = kp(bag_cap, item_weight[1:], item_price[1:]) \n",
    "    profit = max(include, exclude)\n",
    "  return profit\n",
    "\n",
    "\n",
    "bag_cap = 50\n",
    "item_weight = [10, 20, 30]\n",
    "item_price = [60, 100, 120]\n",
    "\n",
    "print(kp(bag_cap, item_weight, item_price))"
   ]
  },
  {
   "cell_type": "markdown",
   "id": "33d7ca89",
   "metadata": {},
   "source": [
    "### Hashing\n",
    "- PLain text is converted to hashed text (encrypted)\n",
    "<br>\n",
    "<br>\n",
    "- Types of Hashing <br>\n",
    "  - Direct Addressing\n",
    "  - Hashing with chaining\n",
    "  - Open Addressing (Linear Probing)\n",
    "  - Double Hashing\n",
    "<br>\n",
    "<br>\n",
    "- **Hash Function** : method by which we perform hashing\n",
    "  - Division Method\n",
    "  - Multiplication Method\n",
    "  - Mid-Square Method\n",
    "  - Folding Method"
   ]
  }
 ],
 "metadata": {
  "kernelspec": {
   "display_name": "Python 3",
   "language": "python",
   "name": "python3"
  },
  "language_info": {
   "codemirror_mode": {
    "name": "ipython",
    "version": 3
   },
   "file_extension": ".py",
   "mimetype": "text/x-python",
   "name": "python",
   "nbconvert_exporter": "python",
   "pygments_lexer": "ipython3",
   "version": "3.12.7"
  }
 },
 "nbformat": 4,
 "nbformat_minor": 5
}
