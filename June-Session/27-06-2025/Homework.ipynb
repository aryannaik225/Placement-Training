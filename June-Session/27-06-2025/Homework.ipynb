{
 "cells": [
  {
   "cell_type": "markdown",
   "id": "064fb1fd",
   "metadata": {},
   "source": [
    "#### Homeworks\n",
    "\n",
    "- Trie operations\n",
    "  - Count words\n",
    "  - Count alphabets\n",
    "  - Autocomplete\n",
    "  - Delete\n",
    "  - Count words with prefix\n",
    "  - Longest prefix match\n",
    "\n",
    "- Do the Substring question using dynamic programming"
   ]
  }
 ],
 "metadata": {
  "language_info": {
   "name": "python"
  }
 },
 "nbformat": 4,
 "nbformat_minor": 5
}
