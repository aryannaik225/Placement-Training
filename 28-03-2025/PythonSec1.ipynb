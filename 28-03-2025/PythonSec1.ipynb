{
 "cells": [
  {
   "cell_type": "code",
   "execution_count": 4,
   "metadata": {},
   "outputs": [
    {
     "name": "stdout",
     "output_type": "stream",
     "text": [
      "Total number of vehicles: \n",
      "Four Wheelers => 70\n",
      "Two Wheelers => 130\n"
     ]
    }
   ],
   "source": [
    "# number of wheels -> 540\n",
    "# number of vehicles -> 200\n",
    "# how many 4 wheelers and 2 wheelers can be made such that all the number of wheels and vehicles be satisfied\n",
    "\n",
    "w = 540\n",
    "v = 200\n",
    "\n",
    "fw = w//4\n",
    "remain = v-fw\n",
    "\n",
    "fw -= remain\n",
    "tw = v-fw\n",
    "\n",
    "print(f\"Total number of vehicles: \\nFour Wheelers => {fw}\\nTwo Wheelers => {tw}\")"
   ]
  },
  {
   "cell_type": "markdown",
   "metadata": {},
   "source": [
    "- Class is nothing but a user defined datatype\n",
    "\n",
    "- Premitive Datatype -> **Variable**\n",
    "- Non-Premitive Datatype -> **Object** \n",
    "\n",
    "- There are two types of datatypes:\n",
    "  - Premitive Datatype (Pre-defined)\n",
    "  - Non-Premitive Datatype (User-defined)\n",
    "\n",
    "---\n",
    "\n",
    "- Premitive Datatype is called a variable. Non-premitive Datatype are called objects.\n",
    "\n",
    "---\n",
    "\n",
    "- Pointer and Reference Variable difference\n",
    "  - Pointer gives the address directly\n",
    "  - Refernce Variable gives the hashcode of the address, basically encrypted format of the address\n",
    "\n",
    "---\n",
    "\n",
    "In Python we dont have the names for the object so that we can do dynamic programming\n",
    "- Dynamic Memory Allocation creates objects on runtime. It doesnt have any names\n",
    "- Static Memory Allocation creates objects on compile time. It has names (C language)\n",
    "\n",
    "---\n",
    "\n",
    "Variables made within a class is called **Member**. Variables made within a function is called **Local**\n",
    "```C\n",
    "class Student {\n",
    "  int x; //member \n",
    "\n",
    "  void func1 {\n",
    "    int y; //local\n",
    "  }\n",
    "}\n",
    "\n",
    "```\n",
    "\n",
    "---\n",
    "\n",
    "```C\n",
    "class Ex {\n",
    "  int x;\n",
    "}\n",
    "```\n",
    "in this code, currently there are no copies created of x as no object have been initialized for Ex.\n",
    "If we create two object, we basically created two copies of x.\n",
    "- For a local variable, the number of copies created is equal to how many times the function is called.\n",
    "\n",
    "This variable `x` is called an **Object Variable**\n",
    "\n",
    "---\n",
    "\n",
    "There are two types of Member Variables\n",
    "- Static\n",
    "- Non-Static\n",
    "\n",
    "- **Non-Static** or **Instance Variable** are variables whose copies are made when the object is created.\n",
    "- **Static** or **Class Variable** are variables that are common variable throughout all the objects of the class.\n",
    "\n",
    "```C\n",
    "class Student {\n",
    "  int roll; // Non-Static Member Variable\n",
    "  String name; // Non-Static Member Variable\n",
    "  static String cName; // Static Member Variable\n",
    "}\n",
    "```\n",
    "\n",
    "- If Question asked \"How many copies are made for Member Variable\", you must ask which type of member variable. Cause for Non-Static Member Varible the number of copies is equal to number of objects created. For Static Member Variable the number of copies is 1.\n",
    "\n",
    "\n",
    "\n",
    "- **If a datatype has first alphabet capital, it is Non-Premitive and a Class.**\n",
    "- For eg. String is Non-premitive.\n",
    "\n",
    "\n",
    "- Whenever you create an object or variable. during compile time, the compiler only gets the idea that they will have to create blocks for them, but during runtime the variables or objects are initialized.\n",
    "- Compile Time -> Memory Allocation\n",
    "- Run Time -> Initialization\n",
    "\n",
    "---\n",
    "\n",
    "- For Dynamic Variable, both memory allocation and initialization are done during **runtime**"
   ]
  },
  {
   "cell_type": "markdown",
   "metadata": {},
   "source": [
    "when you run \n",
    "```python\n",
    "a = 23\n",
    "b = 41\n",
    "a,b = b,a\n",
    "```\n",
    "\n",
    "what happens is `b,a` is converted to a tuple `(41, 23)`\n",
    "and then this is assigned to `a` and `b`."
   ]
  },
  {
   "cell_type": "code",
   "execution_count": 15,
   "metadata": {},
   "outputs": [
    {
     "name": "stdout",
     "output_type": "stream",
     "text": [
      "[14, 18, 23, 25, 41, 54]\n"
     ]
    }
   ],
   "source": [
    "# Bubble Sort Self Try\n",
    "\n",
    "arr = [23, 41, 25, 18, 54, 14]\n",
    "\n",
    "for n in range(len(arr)-1, 0, -1): # till 0 cause if 5 out of 6 numbers are sorted, the last element is automatically sorted\n",
    "  i = 0\n",
    "  while i+1<=n:\n",
    "    if arr[i]>arr[i+1]:\n",
    "      arr[i], arr[i+1] = arr[i+1], arr[i]\n",
    "\n",
    "    i+=1\n",
    "\n",
    "print(arr)    "
   ]
  },
  {
   "cell_type": "code",
   "execution_count": null,
   "metadata": {},
   "outputs": [],
   "source": [
    "# If you have two buckets\n",
    "# bucket 1 => can store 5L water\n",
    "# bucket 2 => can store 3L water\n",
    "# Measure 4L water using this"
   ]
  },
  {
   "cell_type": "code",
   "execution_count": null,
   "metadata": {},
   "outputs": [],
   "source": [
    "# have 3 candles\n",
    "# each candle takes 30 mins to completely burn.\n",
    "# no candle burns uniformly. (cant predict how much it burnt, at what time)\n",
    "# can burn any candle from both sides which takes 15 mins\n",
    "\n",
    "# How will you burn the candles such that you know that its been 52 mins 30 secs\n",
    "\n",
    "\n",
    "\n",
    "\n",
    "# Solution\n",
    "# Burn first candle on one side -> 30 mins\n",
    "# Burn second candle on both sides and third candle on one side -> 15 mins\n",
    "# As soon as the second candle extinguishes, burn the third candle on both sides -> 7 mins 30 secs"
   ]
  },
  {
   "cell_type": "markdown",
   "metadata": {},
   "source": [
    "have 5 caps, 3 black and 2 white\n",
    "there are 3 people; A,B,C\n",
    "\n",
    "standing one behind the other looking in one direction, \n",
    "when asked C doesnt know which cap he is wearing\n",
    "B also doesnt know\n",
    "but A answers correctly whichever cap he is wearing.\n",
    "\n",
    "how does A know the actual answer"
   ]
  },
  {
   "cell_type": "code",
   "execution_count": 4,
   "metadata": {},
   "outputs": [
    {
     "name": "stdout",
     "output_type": "stream",
     "text": [
      "[14, 18, 23, 25, 41, 54]\n"
     ]
    }
   ],
   "source": [
    "# Insertion Sort Self Try\n",
    "\n",
    "arr = [23, 41, 25, 18, 54, 14]\n",
    "\n",
    "for i in range(1, len(arr)):\n",
    "  j = i-1\n",
    "  key = arr[i]\n",
    "\n",
    "  while j>=0 and arr[j]>key:\n",
    "    arr[j+1] = arr[j]\n",
    "    j-=1\n",
    "\n",
    "  arr[j+1] = key\n",
    "\n",
    "print(arr)\n",
    "    "
   ]
  },
  {
   "cell_type": "code",
   "execution_count": null,
   "metadata": {},
   "outputs": [
    {
     "name": "stdout",
     "output_type": "stream",
     "text": [
      "0\n",
      "[14, 18, 23, 25, 41, 54]\n"
     ]
    }
   ],
   "source": [
    "# Selection Sort Self Try\n",
    "\n",
    "arr = [23, 41, 25, 18, 54, 14]\n",
    " \n",
    "for i in range(len(arr)):\n",
    "  min = arr[i]\n",
    "  min_loc = i\n",
    "  \n",
    "  for j in range(i+1, len(arr)):\n",
    "    if min>arr[j]:\n",
    "      min = arr[j]\n",
    "      min_loc = j\n",
    "\n",
    "  arr[i], arr[min_loc] = arr[min_loc], arr[i]\n",
    "\n",
    "print(arr)"
   ]
  },
  {
   "cell_type": "markdown",
   "metadata": {},
   "source": [
    "### Mutable and Immutable\n",
    "\n",
    "- **Mutable** -> Value can be change. For eg. `List`\n",
    "- **Immutable** -> Value cannot be changed. For eg. `int, tuple`\n",
    "\n",
    "- Immutable is used when the data is not to be changed, or when the data is small."
   ]
  },
  {
   "cell_type": "code",
   "execution_count": 10,
   "metadata": {},
   "outputs": [
    {
     "name": "stdout",
     "output_type": "stream",
     "text": [
      "140715069271384\n",
      "140715069271384\n",
      "2559209002176\n",
      "2559209129856\n"
     ]
    }
   ],
   "source": [
    "x = 30\n",
    "y = 30\n",
    "print(id(x))\n",
    "print(id(y))\n",
    "\n",
    "a = [10, 30]\n",
    "b = [10, 30]\n",
    "print(id(a))\n",
    "print(id(b))"
   ]
  },
  {
   "cell_type": "code",
   "execution_count": null,
   "metadata": {},
   "outputs": [
    {
     "data": {
      "text/plain": [
       "2147483647"
      ]
     },
     "execution_count": 14,
     "metadata": {},
     "output_type": "execute_result"
    }
   ],
   "source": [
    "(2**31)-1 #Size of integer\n",
    "# In Python, the range depends on the system configuration."
   ]
  },
  {
   "cell_type": "code",
   "execution_count": null,
   "metadata": {},
   "outputs": [
    {
     "name": "stdout",
     "output_type": "stream",
     "text": [
      "4th smallest element is 25\n"
     ]
    }
   ],
   "source": [
    "# Find the kth smallest element\n",
    "\n",
    "arr = [23, 41, 25, 18, 54, 14]\n",
    "n = int(input(\"Enter which smallest element: \"))\n",
    "\n",
    "for i in range(n):\n",
    "  min = arr[i]\n",
    "  min_loc = i\n",
    "  \n",
    "  for j in range(i+1, len(arr)):\n",
    "    if min>arr[j]:\n",
    "      min = arr[j]\n",
    "      min_loc = j\n",
    "\n",
    "  arr[i], arr[min_loc] = arr[min_loc], arr[i]\n",
    "\n",
    "print(f\"{n}th smallest element is {arr[n-1]}\")\n",
    "\n",
    "\n",
    "\n",
    "# sir said you can first check whether k is bigger than middle or smaller if bigger can do from the other end"
   ]
  }
 ],
 "metadata": {
  "kernelspec": {
   "display_name": "Python 3",
   "language": "python",
   "name": "python3"
  },
  "language_info": {
   "codemirror_mode": {
    "name": "ipython",
    "version": 3
   },
   "file_extension": ".py",
   "mimetype": "text/x-python",
   "name": "python",
   "nbconvert_exporter": "python",
   "pygments_lexer": "ipython3",
   "version": "3.12.7"
  }
 },
 "nbformat": 4,
 "nbformat_minor": 2
}
