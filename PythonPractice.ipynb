{
 "cells": [
  {
   "cell_type": "code",
   "execution_count": null,
   "metadata": {},
   "outputs": [
    {
     "name": "stdout",
     "output_type": "stream",
     "text": [
      "4898716 is equal to 56 days, 16 hours, 45 minutes, 16 seconds\n"
     ]
    }
   ],
   "source": [
    "# Time Conversion\n",
    "# Write a program that takes a time in seconds and converts it into days, hours, minutes, and seconds.\n",
    "\n",
    "sec = int(input(\"Enter time in seconds: \"))\n",
    "s = sec\n",
    "days = sec//(3600*24)\n",
    "sec = sec%(3600*24)\n",
    "hours = sec//3600\n",
    "sec = sec%3600\n",
    "minutes = sec//60\n",
    "sec = sec%60\n",
    "\n",
    "print(\"{0} is equal to {1} days, {2} hours, {3} minutes, {4} seconds\".format(s,days,hours,minutes,sec))"
   ]
  },
  {
   "cell_type": "code",
   "execution_count": 5,
   "metadata": {},
   "outputs": [
    {
     "name": "stdout",
     "output_type": "stream",
     "text": [
      "451\n"
     ]
    }
   ],
   "source": [
    "# Reverse Digits\n",
    "# Take a number as input and print its digits in reverse order without converting it to a string.\n",
    "\n",
    "num = int(input('Enter a number: '))\n",
    "n=num\n",
    "n1 = 0\n",
    "while n!=0:\n",
    "  n1=(n1*10)+(n%10)\n",
    "  n=n//10\n",
    "print(n1)"
   ]
  },
  {
   "cell_type": "code",
   "execution_count": 6,
   "metadata": {},
   "outputs": [
    {
     "name": "stdout",
     "output_type": "stream",
     "text": [
      "2 x 1 = 2\n",
      "2 x 2 = 4\n",
      "2 x 3 = 6\n",
      "2 x 4 = 8\n",
      "2 x 5 = 10\n",
      "2 x 6 = 12\n",
      "2 x 7 = 14\n",
      "2 x 8 = 16\n",
      "2 x 9 = 18\n",
      "2 x 10 = 20\n",
      "2 x 11 = 22\n",
      "2 x 12 = 24\n",
      "2 x 13 = 26\n",
      "2 x 14 = 28\n",
      "2 x 15 = 30\n",
      "2 x 16 = 32\n",
      "2 x 17 = 34\n",
      "2 x 18 = 36\n",
      "2 x 19 = 38\n",
      "2 x 20 = 40\n"
     ]
    }
   ],
   "source": [
    "# Multiplication Table\n",
    "# Generate the multiplication table for a given number up to 20 rows.\n",
    "\n",
    "num = int(input(\"Enter any number: \"))\n",
    "for i in range(1,21):\n",
    "  print(\"{0} x {1} = {2}\".format(num,i,num*i))"
   ]
  },
  {
   "cell_type": "code",
   "execution_count": 13,
   "metadata": {},
   "outputs": [
    {
     "name": "stdout",
     "output_type": "stream",
     "text": [
      "The string \n",
      "'hello mic testing one two three go' \n",
      "has 11 Vowels and 17 Consonent\n"
     ]
    }
   ],
   "source": [
    "# Count Vowels and Consonants\n",
    "# Write a program to count the vowels and consonants in a given string.\n",
    "\n",
    "s1 = input(\"Enter a string: \")\n",
    "\n",
    "s = list(s1.upper())\n",
    "\n",
    "vowel = 0\n",
    "cons = 0\n",
    "\n",
    "for i in s:\n",
    "  if i==\"A\" or i==\"E\" or i==\"I\" or i==\"O\" or i==\"U\":\n",
    "    vowel += 1\n",
    "  elif i!=\" \":\n",
    "    cons += 1\n",
    "\n",
    "print(\"The string \\n'{0}' \\nhas {1} Vowels and {2} Consonent\".format(s1,vowel,cons))"
   ]
  },
  {
   "cell_type": "code",
   "execution_count": 12,
   "metadata": {},
   "outputs": [
    {
     "name": "stdout",
     "output_type": "stream",
     "text": [
      "55\n"
     ]
    }
   ],
   "source": [
    "# Sum of Squares\n",
    "# Find the sum of the squares of all numbers between 1 and n\n",
    "\n",
    "num = int(input(\"Enter a number: \"))\n",
    "sum = 0\n",
    "for i in range(1,num+1):\n",
    "  sum+=i**2\n",
    "print(sum)"
   ]
  },
  {
   "cell_type": "code",
   "execution_count": 8,
   "metadata": {},
   "outputs": [
    {
     "name": "stdout",
     "output_type": "stream",
     "text": [
      "10\n"
     ]
    }
   ],
   "source": [
    "# Amrita Ke Notes XD\n",
    "\n",
    "n=1234\n",
    "count = 0\n",
    "remain=[]\n",
    "sum=0\n",
    "\n",
    "while n!=0:\n",
    "  sum=sum+ n%10\n",
    "  count+=1\n",
    "  n=n//10\n",
    "\n",
    "print(sum)"
   ]
  },
  {
   "cell_type": "code",
   "execution_count": 9,
   "metadata": {},
   "outputs": [
    {
     "name": "stdout",
     "output_type": "stream",
     "text": [
      "List of Armstrong numbers between 1 and 500\n",
      "1\n",
      "2\n",
      "3\n",
      "4\n",
      "5\n",
      "6\n",
      "7\n",
      "8\n",
      "9\n",
      "153\n",
      "370\n",
      "371\n",
      "407\n"
     ]
    }
   ],
   "source": [
    "# Armstrong Numbers in Range\n",
    "# List all Armstrong numbers between two given numbers.\n",
    "\n",
    "n1, n2 = int(input(\"Enter lower numbers: \")), int(input(\"Enter upper number: \"))\n",
    "print(\"List of Armstrong numbers between {0} and {1}\".format(n1,n2))\n",
    "\n",
    "for i in range(n1, n2+1):\n",
    "  n=i\n",
    "  count=0\n",
    "  while n!=0:\n",
    "    n=n//10\n",
    "    count+=1\n",
    "\n",
    "  sum=0\n",
    "  n=i\n",
    "  while n!=0:\n",
    "    sum+=(n%10)**count\n",
    "    n=n//10\n",
    "\n",
    "  if sum == i:\n",
    "    print(i)"
   ]
  },
  {
   "cell_type": "code",
   "execution_count": 10,
   "metadata": {},
   "outputs": [
    {
     "name": "stdout",
     "output_type": "stream",
     "text": [
      "Second largest number in the entered list is 144\n"
     ]
    }
   ],
   "source": [
    "# Find Second Largest\n",
    "# Take n numbers as input and find the second largest number without sorting.\n",
    "\n",
    "n = int(input(\"Enter number of enteries: \"))\n",
    "\n",
    "mylist = []\n",
    "max=0\n",
    "for i in range(n):\n",
    "  num = int(input(\"Enter {0}th element: \".format(i+1)))\n",
    "  mylist.append(num)\n",
    "  if num > max:\n",
    "    max=num\n",
    "\n",
    "max2 = 0\n",
    "for i in range(len(mylist)):\n",
    "  if mylist[i] > max2 and mylist[i]<max:\n",
    "    max2=mylist[i]\n",
    "\n",
    "print(\"Second largest number in the entered list is\",max2)\n"
   ]
  },
  {
   "cell_type": "code",
   "execution_count": 13,
   "metadata": {},
   "outputs": [
    {
     "name": "stdout",
     "output_type": "stream",
     "text": [
      "['H', 'I', 'L', 'O']\n"
     ]
    }
   ],
   "source": [
    "# Palindrome Check\n",
    "# Write a program that checks whether a given string or number is a palindrome.\n",
    "\n",
    "str1 = input(\"Enter to check palindrome: \")\n"
   ]
  }
 ],
 "metadata": {
  "kernelspec": {
   "display_name": "Python 3",
   "language": "python",
   "name": "python3"
  },
  "language_info": {
   "codemirror_mode": {
    "name": "ipython",
    "version": 3
   },
   "file_extension": ".py",
   "mimetype": "text/x-python",
   "name": "python",
   "nbconvert_exporter": "python",
   "pygments_lexer": "ipython3",
   "version": "3.12.7"
  }
 },
 "nbformat": 4,
 "nbformat_minor": 2
}
