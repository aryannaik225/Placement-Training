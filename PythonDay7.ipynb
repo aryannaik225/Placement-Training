{
 "cells": [
  {
   "cell_type": "code",
   "execution_count": 1,
   "metadata": {},
   "outputs": [
    {
     "name": "stdout",
     "output_type": "stream",
     "text": [
      "Learning Python is very easy from Ashish Sir\n",
      "bbbbbbbbbbbbbbbb\n"
     ]
    }
   ],
   "source": [
    "# Replace in string\n",
    "\n",
    "s = \"Learning Python is very difficult from Ashish Sir\"\n",
    "s1=s.replace(\"difficult\", \"easy\")\n",
    "print(s1)\n",
    "\n",
    "s = \"abababababababab\"\n",
    "s1 = s.replace('a', 'b')\n",
    "print(s1)"
   ]
  },
  {
   "cell_type": "markdown",
   "metadata": {},
   "source": [
    "\n",
    "Immutable means no change in the same memory.\n",
    "Mutable means change in the same memory.\n",
    "\n",
    "Strings are immutable.\n",
    "```\n",
    "s = 'Ashish'\n",
    "s = 'Raj'\n",
    "```\n",
    "this works because when `s='Ashish'` s was pointing to the memory 'Ashish' and when `s='Raj'` it changes its pointer to memory 'Raj'\n"
   ]
  },
  {
   "cell_type": "code",
   "execution_count": 2,
   "metadata": {},
   "outputs": [
    {
     "name": "stdout",
     "output_type": "stream",
     "text": [
      "ashish\n",
      "2874425454064\n",
      "raj\n",
      "2874425688112\n"
     ]
    }
   ],
   "source": [
    "s = 'ashish'\n",
    "print(s)\n",
    "print(id(s))\n",
    "\n",
    "s = 'raj'\n",
    "print(s)\n",
    "print(id(s))"
   ]
  },
  {
   "cell_type": "code",
   "execution_count": 4,
   "metadata": {},
   "outputs": [
    {
     "name": "stdout",
     "output_type": "stream",
     "text": [
      "10\n",
      "140720730073816\n",
      "10\n",
      "140720730073816\n"
     ]
    }
   ],
   "source": [
    "a = 10\n",
    "print(a)\n",
    "print(id(a))\n",
    "\n",
    "b = 10\n",
    "print(b)\n",
    "print(id(b))\n"
   ]
  },
  {
   "cell_type": "code",
   "execution_count": 5,
   "metadata": {},
   "outputs": [
    {
     "name": "stdout",
     "output_type": "stream",
     "text": [
      "['22', '2', '2022']\n",
      "22\n",
      "2\n",
      "2022\n"
     ]
    }
   ],
   "source": [
    "# Spliting of string\n",
    "\n",
    "s = '22-2-2022'\n",
    "l = s.split('-')\n",
    "print(l)\n",
    "for x in l:\n",
    "  print(x)"
   ]
  },
  {
   "cell_type": "code",
   "execution_count": 8,
   "metadata": {},
   "outputs": [
    {
     "name": "stdout",
     "output_type": "stream",
     "text": [
      "Nagpur : Pune : Mumbai : Delhi\n"
     ]
    }
   ],
   "source": [
    "# join function\n",
    "l = ['Nagpur', 'Pune', 'Mumbai', 'Delhi']\n",
    "s = ' : '.join(l)\n",
    "print(s)"
   ]
  },
  {
   "cell_type": "code",
   "execution_count": 9,
   "metadata": {},
   "outputs": [
    {
     "name": "stdout",
     "output_type": "stream",
     "text": [
      "True\n",
      "False\n",
      "True\n"
     ]
    }
   ],
   "source": [
    "s = 'learning python blah blah lbha sir'\n",
    "print(s.startswith('learning'))\n",
    "print(s.endswith('learning'))\n",
    "print(s.endswith('sir'))"
   ]
  },
  {
   "cell_type": "code",
   "execution_count": 11,
   "metadata": {},
   "outputs": [
    {
     "name": "stdout",
     "output_type": "stream",
     "text": [
      "kojuhygftdrsewa\n",
      "kojuhygftdrsewa\n"
     ]
    }
   ],
   "source": [
    "# Write a program to reverse a given string\n",
    "str1 = input()\n",
    "print(str1[::-1])\n",
    "\n",
    "\n",
    "print(''.join(reversed(str1)))"
   ]
  },
  {
   "cell_type": "code",
   "execution_count": null,
   "metadata": {},
   "outputs": [
    {
     "name": "stdout",
     "output_type": "stream",
     "text": [
      "olleh\n"
     ]
    }
   ],
   "source": [
    "# Reverse the string without shortcut & without inbuild function.\n",
    "# this uses 1 function that is len()\n",
    "str1 = input()\n",
    "rev = ''\n",
    "for i in range(len(str1)-1, -1, -1):\n",
    "  rev+=str1[i]\n",
    "print(rev)"
   ]
  },
  {
   "cell_type": "code",
   "execution_count": 16,
   "metadata": {},
   "outputs": [
    {
     "name": "stdout",
     "output_type": "stream",
     "text": [
      "olleh\n"
     ]
    }
   ],
   "source": [
    "# this uses 0 functions literally\n",
    "str1 = input()\n",
    "rev = ''\n",
    "for x in s:\n",
    "  rev = x + rev\n",
    "print(rev)\n"
   ]
  },
  {
   "cell_type": "code",
   "execution_count": 18,
   "metadata": {},
   "outputs": [
    {
     "name": "stdout",
     "output_type": "stream",
     "text": [
      "Sir Ashish from Easy very is Python Learning \n"
     ]
    }
   ],
   "source": [
    "# Program to reverse order of words\n",
    "\n",
    "i = 'Learning Python is very Easy from Ashish Sir'\n",
    "mylist = i.split()\n",
    "rev = ''\n",
    "for x in mylist:\n",
    "  rev = x + ' ' + rev\n",
    "print(rev)"
   ]
  },
  {
   "cell_type": "code",
   "execution_count": 20,
   "metadata": {},
   "outputs": [
    {
     "name": "stdout",
     "output_type": "stream",
     "text": [
      "gninraeL nohtyP si yrev ysaE morf hsihsA riS \n"
     ]
    }
   ],
   "source": [
    "i = 'Learning Python is very Easy from Ashish Sir'\n",
    "mylist = i.split()\n",
    "rev = ''\n",
    "for x in mylist:\n",
    "  rev = rev + x[::-1] + ' '\n",
    "print(rev)"
   ]
  },
  {
   "cell_type": "code",
   "execution_count": 23,
   "metadata": {},
   "outputs": [
    {
     "name": "stdout",
     "output_type": "stream",
     "text": [
      "ABCD\n"
     ]
    }
   ],
   "source": [
    "# Write a program to remove duplicate characters from the given input string?\n",
    "\n",
    "i = 'ABCDBABCDBABCDBABCADBCABDCABCABDCADBCABC'\n",
    "output=''\n",
    "for x in i:\n",
    "  if x not in output:\n",
    "    output = output+x\n",
    "print(output)"
   ]
  },
  {
   "cell_type": "code",
   "execution_count": 28,
   "metadata": {},
   "outputs": [
    {
     "name": "stdout",
     "output_type": "stream",
     "text": [
      "Number valid in India\n"
     ]
    }
   ],
   "source": [
    "# Accept mobile number and check that number is 10 digit and digit only. Check number is valid in India or not.\n",
    "\n",
    "num = input()\n",
    "\n",
    "if len(num) == 10:\n",
    "  if num.isdigit():\n",
    "    if num.startswith('9') or num.startswith('8') or num.startswith('7') or num.startswith('6'):\n",
    "      print(\"Number valid in India\")\n",
    "    else:\n",
    "      print(\"Number not valid in India, Contact Mukesh Ambani\")\n",
    "  else:\n",
    "    print(\"Number is not digit\")\n",
    "else:\n",
    "  print(\"Number is not of length 10\")\n"
   ]
  },
  {
   "cell_type": "code",
   "execution_count": 1,
   "metadata": {},
   "outputs": [
    {
     "name": "stdout",
     "output_type": "stream",
     "text": [
      "[] <class 'list'>\n",
      "[] <class 'list'>\n"
     ]
    }
   ],
   "source": [
    "# ways to create empty list\n",
    "l = []\n",
    "print(l, type(l))\n",
    "l1 = list()\n",
    "print(l1, type(l1))"
   ]
  },
  {
   "cell_type": "code",
   "execution_count": 2,
   "metadata": {},
   "outputs": [
    {
     "name": "stdout",
     "output_type": "stream",
     "text": [
      "0\n",
      "1\n",
      "2\n",
      "3\n",
      "4\n",
      "5\n",
      "6\n",
      "7\n",
      "8\n",
      "9\n",
      "0\n",
      "1\n",
      "2\n",
      "3\n",
      "4\n",
      "5\n",
      "6\n",
      "7\n",
      "8\n",
      "9\n",
      "0\n",
      "1\n",
      "2\n",
      "3\n",
      "4\n",
      "5\n",
      "6\n",
      "7\n",
      "8\n",
      "9\n"
     ]
    }
   ],
   "source": [
    "n=[0,1,2,3,4,5,6,7,8,9]\n",
    "i = 0\n",
    "while i<len(n):\n",
    "  print(n[i])\n",
    "  i+=1\n",
    "\n",
    "for i in range(len(n)):\n",
    "  print(n[i])\n",
    "\n",
    "for x in n:\n",
    "  print(x)"
   ]
  },
  {
   "cell_type": "code",
   "execution_count": 62,
   "metadata": {},
   "outputs": [
    {
     "name": "stdout",
     "output_type": "stream",
     "text": [
      "['Chicken', 'Mutton', 'Fish', 'PEPSI', 'COKE', 'DEW']\n",
      "['DEW', 'COKE', 'PEPSI', 'Fish', 'Mutton', 'Chicken']\n",
      "['COKE', 'Chicken', 'DEW', 'Fish', 'Mutton', 'PEPSI']\n",
      "['PEPSI', 'Mutton', 'Fish', 'DEW', 'Chicken', 'COKE']\n"
     ]
    }
   ],
   "source": [
    "# extend, reverse, sort, reverse sort function\n",
    "o1 = [\"Chicken\", \"Mutton\", \"Fish\"]\n",
    "o2 = [\"PEPSI\", \"COKE\", \"DEW\"]\n",
    "o1.extend(o2)\n",
    "print(o1)\n",
    "o1.reverse()\n",
    "print(o1)\n",
    "o1.sort()\n",
    "print(o1)\n",
    "o1.sort(reverse=True)\n",
    "print(o1)"
   ]
  },
  {
   "cell_type": "code",
   "execution_count": 64,
   "metadata": {},
   "outputs": [
    {
     "name": "stdout",
     "output_type": "stream",
     "text": [
      "123\n",
      "[413, 1241, 1413, 413, 41]\n",
      "[231, 343, 4234, 23, 132]\n",
      "4234\n",
      "231\n"
     ]
    }
   ],
   "source": [
    "# Nested List\n",
    "\n",
    "n = [123,123, [413,1241,1413,413,41],141241341,[231,343,4234,23,132], 34234]\n",
    "print(n[0])\n",
    "print(n[2])\n",
    "print(n[4])\n",
    "print(n[4][2])\n",
    "print(n[4][0])"
   ]
  },
  {
   "cell_type": "code",
   "execution_count": 71,
   "metadata": {},
   "outputs": [
    {
     "name": "stdout",
     "output_type": "stream",
     "text": [
      "10 20 30 \n",
      "40 50 60 \n",
      "70 80 90 \n"
     ]
    }
   ],
   "source": [
    "n = [[10,20,30], [40,50,60], [70,80,90]]\n",
    "\n",
    "for i in range(len(n)):\n",
    "  for j in range(len(n[i])):\n",
    "    print(n[i][j], end=' ')\n",
    "  print()"
   ]
  },
  {
   "cell_type": "code",
   "execution_count": null,
   "metadata": {},
   "outputs": [
    {
     "name": "stdout",
     "output_type": "stream",
     "text": [
      "10\n"
     ]
    }
   ],
   "source": [
    "# Find the max element in a list without using any function\n",
    "# [3, 8, 1, 10, 5]\n",
    "\n",
    "a = eval(input())\n",
    "max = a[0] #dont do max=0, otherwise wont work for only negative numbers\n",
    "for i in a:\n",
    "  if i>max:\n",
    "    max = i\n",
    "\n",
    "print(max)"
   ]
  },
  {
   "cell_type": "code",
   "execution_count": 75,
   "metadata": {},
   "outputs": [
    {
     "name": "stdout",
     "output_type": "stream",
     "text": [
      "[1, 2, 3, 4, 5]\n"
     ]
    }
   ],
   "source": [
    "# Remove duplicate from a list\n",
    "# [1, 2, 2, 3, 4, 4, 5]\n",
    "\n",
    "a = eval(input())\n",
    "b = []\n",
    "for x in a:\n",
    "  if x not in b:\n",
    "    b.append(x)\n",
    "print(b)\n"
   ]
  },
  {
   "cell_type": "code",
   "execution_count": 76,
   "metadata": {},
   "outputs": [
    {
     "name": "stdout",
     "output_type": "stream",
     "text": [
      "[5, 4, 3, 2, 1]\n"
     ]
    }
   ],
   "source": [
    "# Reverse a list\n",
    "# [1, 2, 3, 4, 5]\n",
    "\n",
    "a = eval(input())\n",
    "b = []\n",
    "for i in range(len(a)-1, -1, -1):\n",
    "  b.append(a[i])\n",
    "print(b)"
   ]
  },
  {
   "cell_type": "code",
   "execution_count": 79,
   "metadata": {},
   "outputs": [
    {
     "name": "stdout",
     "output_type": "stream",
     "text": [
      "True\n"
     ]
    }
   ],
   "source": [
    "# Check for Palindromic list\n",
    "# [1, 2, 3, 2, 1]\n",
    "\n",
    "a = eval(input())\n",
    "p = True\n",
    "\n",
    "for i in range(len(a)):\n",
    "  if a[i] == a[len(a)-1-i]:\n",
    "    pass\n",
    "  else:\n",
    "    p = False\n",
    "    break\n",
    "\n",
    "print(p)"
   ]
  },
  {
   "cell_type": "code",
   "execution_count": null,
   "metadata": {},
   "outputs": [
    {
     "name": "stdout",
     "output_type": "stream",
     "text": [
      "[3, 4]\n"
     ]
    }
   ],
   "source": [
    "# Find Common Elements in Two Lists\n",
    "# [1, 2, 3, 4] [3, 4, 5, 6]\n",
    "\n",
    "a = eval(input())\n",
    "b = eval(input())\n",
    "c = []\n",
    "for i in a:\n",
    "  if i in b:\n",
    "    c.append(i)\n",
    "\n",
    "print(c)"
   ]
  },
  {
   "cell_type": "code",
   "execution_count": 82,
   "metadata": {},
   "outputs": [
    {
     "name": "stdout",
     "output_type": "stream",
     "text": [
      "[1, 2, 5, 74, 95, 6, 1, 1, 6, 64, 97, 3, 1]\n"
     ]
    }
   ],
   "source": [
    "# map function\n",
    "a = list(map(int, input().split()))\n",
    "print(a)"
   ]
  },
  {
   "cell_type": "code",
   "execution_count": 83,
   "metadata": {},
   "outputs": [
    {
     "name": "stdout",
     "output_type": "stream",
     "text": [
      "55\n"
     ]
    }
   ],
   "source": [
    "# Calculate sum of list elements\n",
    "# 1 2 3 4 5 6 7 8 9 10\n",
    "\n",
    "a = list(map(int, input().split()))\n",
    "sum = 0\n",
    "for i in a:\n",
    "  sum+=i\n",
    "\n",
    "print(sum)"
   ]
  },
  {
   "cell_type": "code",
   "execution_count": null,
   "metadata": {},
   "outputs": [
    {
     "name": "stdout",
     "output_type": "stream",
     "text": [
      "[1, 2, 4, 5]\n"
     ]
    }
   ],
   "source": [
    "# Remove element from a list by value\n",
    "\n",
    "l = eval(input())\n",
    "k = eval(input())\n",
    "res = []\n",
    "\n",
    "for i in l:\n",
    "  if i == k:\n",
    "    pass\n",
    "  else:\n",
    "    res.append(i)\n",
    "\n",
    "\n",
    "print(res)"
   ]
  },
  {
   "cell_type": "code",
   "execution_count": 87,
   "metadata": {},
   "outputs": [
    {
     "name": "stdout",
     "output_type": "stream",
     "text": [
      "[2, 5]\n"
     ]
    }
   ],
   "source": [
    "# find all duplicate elements\n",
    "# [4, 3, 2, 7, 8, 2, 1, 5, 5]\n",
    "\n",
    "l = eval(input())\n",
    "c = []\n",
    "for i in range(len(l)):\n",
    "  for j in range(i+1, len(l)):\n",
    "    if l[i]==l[j]:\n",
    "      if l[i] not in c:\n",
    "        c.append(l[i])\n",
    "\n",
    "print(c)\n",
    "\n"
   ]
  },
  {
   "cell_type": "markdown",
   "metadata": {},
   "source": [
    "**Online Sites for coding for placement companies**\n",
    "\n",
    "- **TCS Launchpad** --> for Third and Final Year, has coding and aptitude\n",
    "- **Codility** --> Weepro's official Coding Platform ( Difficult Questions )\n",
    "- **Infytq** --> Infosis's Coding Platform\n",
    "- **Wheebox** --> Accenture Coding\n",
    "- **Mettl** --> Accenture coding\n",
    "- **Tcsnqt** --> TCS's official job platform and test\n",
    "- **HackerRank** --> There is an Apply button there\n",
    "- **Leetcode** \n",
    "- **Cognitive Class AI** --> Certification for tests and lec videos (IBM)\n",
    "- **IndiaGeeks** --> MCQ for interview\n",
    "- **Interview Bits** --> MCQ for interview\n"
   ]
  },
  {
   "cell_type": "code",
   "execution_count": 6,
   "metadata": {},
   "outputs": [
    {
     "data": {
      "text/plain": [
       "True"
      ]
     },
     "execution_count": 6,
     "metadata": {},
     "output_type": "execute_result"
    }
   ],
   "source": [
    "# Accenture Question\n",
    "# Anagram\n",
    "\n",
    "def anagram(a1, a2):\n",
    "  s1 = list(a1)\n",
    "  s2 = list(a2)\n",
    "  if len(s1)!=len(s2):\n",
    "    return False\n",
    "  else:\n",
    "    for i in range(len(s1)):\n",
    "      for j in range(len(s2)):\n",
    "        if s1[i]==s2[j]:\n",
    "          s2.pop(j)\n",
    "          break\n",
    "\n",
    "    if len(s2) !=0:\n",
    "      return False\n",
    "    else:\n",
    "      return True\n",
    "\n",
    "\n",
    "s1 = input().lower()\n",
    "s2 = input().lower()\n",
    "anagram(s1,s2)\n",
    "\n"
   ]
  },
  {
   "cell_type": "code",
   "execution_count": null,
   "metadata": {},
   "outputs": [
    {
     "name": "stdout",
     "output_type": "stream",
     "text": [
      "[3, 4, 4, -1]\n"
     ]
    }
   ],
   "source": [
    "# Next Larger element\n",
    "# Example:\n",
    "# Input:\n",
    "# N = 4, arr[] = [1, 3, 2, 4]\n",
    "# Output:\n",
    "# 3 4 4 -1\n",
    "\n",
    "# Explaination:\n",
    "# In the array, the next larger element\n",
    "# to 1 is 3, 3 is 4, 2 is 4, and for 4 ?\n",
    "# since it doesnt exist, it is -1\n",
    "\n",
    "n = int(input())\n",
    "l = eval(input())\n",
    "res = []\n",
    "for i in range(len(l)):\n",
    "  large = l[i]\n",
    "  for j in range(i+1, len(l)):\n",
    "    if l[j]>large:\n",
    "      res.append(l[j])\n",
    "      break\n",
    "  if i == len(l)-1:\n",
    "    res.append(-1)\n",
    "  elif l[i] == l[j]:\n",
    "    res.append(l[i])\n",
    "print(res)\n",
    "\n",
    "# Try to do it again"
   ]
  },
  {
   "cell_type": "code",
   "execution_count": 17,
   "metadata": {},
   "outputs": [
    {
     "name": "stdout",
     "output_type": "stream",
     "text": [
      "The string \n",
      "'zesxdrcftvgbhjnmk' \n",
      "has 1 Vowels and 16 Consonent\n"
     ]
    }
   ],
   "source": [
    "# Count Vowels and Consonants\n",
    "\n",
    "s1 = input(\"Enter a string: \")\n",
    "\n",
    "s = list(s1.upper())\n",
    "\n",
    "vowel = 0\n",
    "cons = 0\n",
    "\n",
    "for i in s:\n",
    "  if i==\"A\" or i==\"E\" or i==\"I\" or i==\"O\" or i==\"U\":\n",
    "    vowel += 1\n",
    "  elif i!=\" \":\n",
    "    cons += 1\n",
    "\n",
    "print(\"The string \\n'{0}' \\nhas {1} Vowels and {2} Consonent\".format(s1,vowel,cons))"
   ]
  },
  {
   "cell_type": "code",
   "execution_count": null,
   "metadata": {},
   "outputs": [
    {
     "name": "stdout",
     "output_type": "stream",
     "text": [
      "Pangram\n"
     ]
    }
   ],
   "source": [
    "# Check for Pangram:\n",
    "# The quick brown fox jumps over the lazy dog\n",
    "\n",
    "charc = []\n",
    "for i in range(97, 123):\n",
    "  charc.append(chr(i))\n",
    "\n",
    "s = input().lower()\n",
    "l = list(s)\n",
    "\n",
    "for i in l:\n",
    "  if i in charc:\n",
    "    charc.remove(i)\n",
    "\n",
    "if len(charc)==0:\n",
    "  print(\"Pangram\")\n",
    "else:\n",
    "  print(\"No\")\n"
   ]
  },
  {
   "cell_type": "code",
   "execution_count": 4,
   "metadata": {},
   "outputs": [
    {
     "name": "stdout",
     "output_type": "stream",
     "text": [
      "[1, 2, 3, 4, 5, 6]\n"
     ]
    }
   ],
   "source": [
    "# Question given by sir\n",
    "\n",
    "# Merge two sorted lists\n",
    "# Write a function to merge two sorted lists into a single sorted list.\n",
    "# Logic = Use two pointers to iterate through the lists and merge them.\n",
    "# Sample Input: [1,3,5] and [2,4,6]\n",
    "# Expected Output: [1, 2, 3, 4, 5, 6]\n",
    "\n",
    "# s1 = [1, 3, 5]\n",
    "# s2 = [2, 4, 6]\n",
    "\n",
    "s1 = list(map(int, input().split()))\n",
    "s2 = list(map(int, input().split()))\n",
    "\n",
    "# print(s1)\n",
    "# print(s2)\n",
    "\n",
    "\n",
    "res = []\n",
    "while len(s1) != 0 or len(s2) != 0:\n",
    "  if len(s1) != 0:\n",
    "    ms1 = s1[0]\n",
    "    for i in s1:\n",
    "      if i < ms1:\n",
    "        ms1 = i\n",
    "  else:\n",
    "    ms1 = float('inf')\n",
    "\n",
    "  if len(s2) != 0:\n",
    "    ms2 = s2[0]\n",
    "    for i in s2:\n",
    "      if i < ms2:\n",
    "        ms2 = i\n",
    "  else:\n",
    "    ms2 = float('inf')\n",
    "\n",
    "  # print(ms1, ms2)\n",
    "\n",
    "\n",
    "\n",
    "  if ms1 > ms2 and len(s2) != 0:\n",
    "    res.append(ms2)\n",
    "    s2.remove(ms2)\n",
    "  elif ms1 < ms2 and len(s1) != 0:\n",
    "    res.append(ms1)\n",
    "    s1.remove(ms1)\n",
    "\n",
    "print(res)\n",
    "\n",
    "\n"
   ]
  },
  {
   "cell_type": "code",
   "execution_count": 24,
   "metadata": {},
   "outputs": [
    {
     "name": "stdout",
     "output_type": "stream",
     "text": [
      "helloworld\n"
     ]
    }
   ],
   "source": [
    "# Remove White Spaces\n",
    "\n",
    "s = input()\n",
    "res = ''\n",
    "for i in s:\n",
    "  if i == ' ':\n",
    "    pass\n",
    "  else:\n",
    "    res = res+i\n",
    "\n",
    "print(res)"
   ]
  },
  {
   "cell_type": "code",
   "execution_count": 25,
   "metadata": {},
   "outputs": [
    {
     "name": "stdout",
     "output_type": "stream",
     "text": [
      "4\n"
     ]
    }
   ],
   "source": [
    "# Count words in a string\n",
    "\n",
    "s = input()\n",
    "res = 1\n",
    "for i in s:\n",
    "  if i == ' ':\n",
    "    res+=1\n",
    "print(res)"
   ]
  }
 ],
 "metadata": {
  "kernelspec": {
   "display_name": "Python 3",
   "language": "python",
   "name": "python3"
  },
  "language_info": {
   "codemirror_mode": {
    "name": "ipython",
    "version": 3
   },
   "file_extension": ".py",
   "mimetype": "text/x-python",
   "name": "python",
   "nbconvert_exporter": "python",
   "pygments_lexer": "ipython3",
   "version": "3.12.7"
  }
 },
 "nbformat": 4,
 "nbformat_minor": 2
}
