{
 "cells": [
  {
   "cell_type": "code",
   "execution_count": 8,
   "metadata": {},
   "outputs": [
    {
     "name": "stdout",
     "output_type": "stream",
     "text": [
      "Factorial of 5 is 120\n"
     ]
    }
   ],
   "source": [
    "# Find factorial of any number\n",
    "\n",
    "n = int(input(\"Enter any number: \"))\n",
    "res = 1\n",
    "for i in range(1,n+1):\n",
    "  res*=i\n",
    "\n",
    "print(\"Factorial of {0} is {1}\".format(n,res))"
   ]
  },
  {
   "cell_type": "code",
   "execution_count": 9,
   "metadata": {},
   "outputs": [
    {
     "name": "stdout",
     "output_type": "stream",
     "text": [
      "110\n"
     ]
    }
   ],
   "source": [
    "# Print sum of even numbers from 1 to 20\n",
    "sum=0\n",
    "for i in range(1,21):\n",
    "  if i%2==0:\n",
    "    sum+=i\n",
    "print(sum)"
   ]
  },
  {
   "cell_type": "code",
   "execution_count": 14,
   "metadata": {},
   "outputs": [
    {
     "name": "stdout",
     "output_type": "stream",
     "text": [
      "10\n"
     ]
    }
   ],
   "source": [
    "# Print sum of any numbers\n",
    "mylist=list(map(int,input().split()))\n",
    "sum=0\n",
    "for i in mylist:\n",
    "  sum+=i\n",
    "print(sum)"
   ]
  },
  {
   "cell_type": "code",
   "execution_count": null,
   "metadata": {},
   "outputs": [
    {
     "name": "stdout",
     "output_type": "stream",
     "text": [
      "[0, 1, 1, 2, 3]\n"
     ]
    }
   ],
   "source": [
    "# Print Fibonacci Series\n",
    "\n",
    "n = int(input(\"Enter number: \"))\n",
    "\n",
    "fibo = [0,1]\n",
    "for i in range(2,n):\n",
    "  fibo.append(fibo[i-1]+fibo[i-2])\n",
    "\n",
    "print(fibo)\n"
   ]
  },
  {
   "cell_type": "code",
   "execution_count": 25,
   "metadata": {},
   "outputs": [
    {
     "name": "stdout",
     "output_type": "stream",
     "text": [
      "11\n"
     ]
    }
   ],
   "source": [
    "# Find the sum of the series\n",
    "# sum 1 + x/1 + x^2/2 + x^3/3 + ... + x^n/n\n",
    "\n",
    "n = int(input(\"Range of the series: \"))\n",
    "x = int(input(\"Enter any number: \"))\n",
    "\n",
    "sum=1\n",
    "for i in range(1,n+1):\n",
    "  sum+=(x**i)//i\n",
    "\n",
    "print(sum)"
   ]
  },
  {
   "cell_type": "code",
   "execution_count": 26,
   "metadata": {},
   "outputs": [
    {
     "name": "stdout",
     "output_type": "stream",
     "text": [
      "7.266666666666667\n"
     ]
    }
   ],
   "source": [
    "# Find the sum of the series\n",
    "# sum = 1 + x/1! + x^2/2! + x^3/3! + ... + x^n/n!\n",
    "\n",
    "def fact(n):\n",
    "  res = 1\n",
    "  for i in range(1,n+1):\n",
    "    res*=i\n",
    "  return res\n",
    "\n",
    "n = int(input(\"Range of the series: \"))\n",
    "x = int(input(\"Enter any number: \"))\n",
    "\n",
    "sum=0\n",
    "for i in range(n+1):\n",
    "  sum+=(x**i)/fact(i)\n",
    "\n",
    "print(sum)"
   ]
  },
  {
   "cell_type": "code",
   "execution_count": 28,
   "metadata": {},
   "outputs": [
    {
     "name": "stdout",
     "output_type": "stream",
     "text": [
      "7.266666666666667\n"
     ]
    }
   ],
   "source": [
    "# better way\n",
    "n = int(input(\"Range of the series: \"))\n",
    "x = int(input(\"Enter any number: \"))\n",
    "\n",
    "sum=1\n",
    "fact = 1\n",
    "for i in range(1,n+1):\n",
    "  fact*=i\n",
    "  sum+=(x**i)/fact\n",
    "\n",
    "print(sum)"
   ]
  },
  {
   "cell_type": "code",
   "execution_count": 33,
   "metadata": {},
   "outputs": [
    {
     "name": "stdout",
     "output_type": "stream",
     "text": [
      "21\n",
      "19\n",
      "17\n",
      "15\n",
      "13\n",
      "11\n",
      "9\n",
      "7\n",
      "5\n",
      "3\n",
      "1\n"
     ]
    }
   ],
   "source": [
    "# Print numbers in reverse order with difference two\n",
    "x = int(input(\"Enter any number: \"))\n",
    "\n",
    "for i in range(x,0,-2):\n",
    "  print(i)"
   ]
  },
  {
   "cell_type": "code",
   "execution_count": 27,
   "metadata": {},
   "outputs": [
    {
     "name": "stdout",
     "output_type": "stream",
     "text": [
      "6\n"
     ]
    }
   ],
   "source": [
    "# Multiply 2 positive numbers without using * operator\n",
    "\n",
    "n1, n2 = int(input(\"Enter first number: \")), int(input(\"Enter second number: \"))\n",
    "res = 0\n",
    "for i in range(n2):\n",
    "  res+=n1\n",
    "print(res)"
   ]
  },
  {
   "cell_type": "code",
   "execution_count": 34,
   "metadata": {},
   "outputs": [
    {
     "name": "stdout",
     "output_type": "stream",
     "text": [
      "1\n",
      "2\n",
      "3\n",
      "4\n"
     ]
    }
   ],
   "source": [
    "# break statement\n",
    "\n",
    "for i in range(1,11):\n",
    "  if i == 5:\n",
    "    break\n",
    "  print(i)"
   ]
  },
  {
   "cell_type": "code",
   "execution_count": 35,
   "metadata": {},
   "outputs": [
    {
     "name": "stdout",
     "output_type": "stream",
     "text": [
      "1\n",
      "2\n",
      "3\n",
      "4\n",
      "6\n",
      "7\n",
      "8\n",
      "9\n",
      "10\n"
     ]
    }
   ],
   "source": [
    "# continue statement\n",
    "\n",
    "for i in range(1,11):\n",
    "  if i == 5:\n",
    "    continue\n",
    "  print(i)"
   ]
  },
  {
   "cell_type": "code",
   "execution_count": 39,
   "metadata": {},
   "outputs": [
    {
     "name": "stdout",
     "output_type": "stream",
     "text": [
      "1\t10\n",
      "2\t9\n",
      "4\t7\n",
      "5\t6\n"
     ]
    }
   ],
   "source": [
    "# 1 10\n",
    "# 2 9\n",
    "# 3 8\n",
    "# 4 7\n",
    "# 5 6\n",
    "\n",
    "for i in range(1, 6):\n",
    "  if i==3:\n",
    "    continue\n",
    "  print(\"{0}\\t{1}\".format(i, (11-i)))"
   ]
  },
  {
   "cell_type": "code",
   "execution_count": null,
   "metadata": {},
   "outputs": [
    {
     "name": "stdout",
     "output_type": "stream",
     "text": [
      "1\t10\n",
      "2\t9\n",
      "4\t7\n",
      "5\t6\n"
     ]
    }
   ],
   "source": [
    "# same but user input\n",
    "\n",
    "n = int(input(\"Enter any number: \"))\n",
    "\n",
    "for i in range(1,((n+1)//2)+1):\n",
    "  if i == 3:\n",
    "    continue\n",
    "  print(\"{0}\\t{1}\".format(i,n+1-i))"
   ]
  },
  {
   "cell_type": "code",
   "execution_count": 50,
   "metadata": {},
   "outputs": [
    {
     "name": "stdout",
     "output_type": "stream",
     "text": [
      "1 1 1 1 \n",
      "2 2 2 2 \n",
      "3 3 3 3 \n",
      "4 4 4 4 \n"
     ]
    }
   ],
   "source": [
    "# nested for loop\n",
    "# 1 1 1 1\n",
    "# 2 2 2 2\n",
    "# 3 3 3 3\n",
    "# 4 4 4 4\n",
    "\n",
    "\n",
    "for i in range(1,5):\n",
    "  for j in range(1,5):\n",
    "    print(i,end=\" \")\n",
    "  print()"
   ]
  },
  {
   "cell_type": "code",
   "execution_count": 51,
   "metadata": {},
   "outputs": [
    {
     "name": "stdout",
     "output_type": "stream",
     "text": [
      "1 2 3 4 \n",
      "5 6 7 8 \n",
      "9 10 11 12 \n",
      "13 14 15 16 \n"
     ]
    }
   ],
   "source": [
    "# 1 2 3 4 \n",
    "# 5 6 7 8 \n",
    "# 9 10 11 12 \n",
    "# 13 14 15 16\n",
    "\n",
    "n=1\n",
    "for i in range(1,5):\n",
    "  for j in range(1,5):\n",
    "    print(n,end=\" \")\n",
    "    n+=1\n",
    "  print()"
   ]
  },
  {
   "cell_type": "code",
   "execution_count": 58,
   "metadata": {},
   "outputs": [
    {
     "name": "stdout",
     "output_type": "stream",
     "text": [
      "A B C D \n",
      "E F G H \n",
      "I J K L \n",
      "M N O P \n"
     ]
    }
   ],
   "source": [
    "# A B C D \n",
    "# E F G H \n",
    "# I J K L \n",
    "# M N O P\n",
    "\n",
    "n='A'\n",
    "\n",
    "for i in range(1,5):\n",
    "  for j in range(1,5):\n",
    "    print(n,end=\" \")\n",
    "    a = ord(n)+1\n",
    "    n = chr(a)\n",
    "  print()"
   ]
  },
  {
   "cell_type": "code",
   "execution_count": 60,
   "metadata": {},
   "outputs": [
    {
     "name": "stdout",
     "output_type": "stream",
     "text": [
      "1 \n",
      "1 2 \n",
      "1 2 3 \n",
      "1 2 3 4 \n"
     ]
    }
   ],
   "source": [
    "# 1 \n",
    "# 1 2 \n",
    "# 1 2 3 \n",
    "# 1 2 3 4\n",
    "\n",
    "for i in range(1,5):\n",
    "  n=1\n",
    "  for j in range(1,i+1):\n",
    "    print(n,end=\" \")\n",
    "    n+=1\n",
    "  print()\n"
   ]
  },
  {
   "cell_type": "code",
   "execution_count": 63,
   "metadata": {},
   "outputs": [
    {
     "name": "stdout",
     "output_type": "stream",
     "text": [
      "1 \n",
      "2 2 \n",
      "3 3 3 \n",
      "4 4 4 4 \n"
     ]
    }
   ],
   "source": [
    "# 1 \n",
    "# 2 2 \n",
    "# 3 3 3 \n",
    "# 4 4 4 4\n",
    "\n",
    "n=1\n",
    "for i in range(1,5):\n",
    "  for j in range(1,i+1):\n",
    "    print(n,end=\" \")\n",
    "  n+=1\n",
    "  print()"
   ]
  },
  {
   "cell_type": "code",
   "execution_count": 69,
   "metadata": {},
   "outputs": [
    {
     "name": "stdout",
     "output_type": "stream",
     "text": [
      "*\n",
      "**\n",
      "***\n",
      "****\n"
     ]
    }
   ],
   "source": [
    "# *\n",
    "# **\n",
    "# ***\n",
    "# ****\n",
    "\n",
    "for i in range(1,5):\n",
    "  for j in range(1,i+1):\n",
    "    print(\"*\",end=\"\")\n",
    "  print()"
   ]
  },
  {
   "cell_type": "code",
   "execution_count": 70,
   "metadata": {},
   "outputs": [
    {
     "name": "stdout",
     "output_type": "stream",
     "text": [
      "****\n",
      "***\n",
      "**\n",
      "*\n"
     ]
    }
   ],
   "source": [
    "# ****\n",
    "# ***\n",
    "# **\n",
    "# *\n",
    "\n",
    "for i in range(4,0,-1):\n",
    "  for j in range(1,i+1):\n",
    "    print(\"*\",end=\"\")\n",
    "  print()"
   ]
  },
  {
   "cell_type": "code",
   "execution_count": 74,
   "metadata": {},
   "outputs": [
    {
     "name": "stdout",
     "output_type": "stream",
     "text": [
      "****\n",
      " ***\n",
      "  **\n",
      "   *\n"
     ]
    }
   ],
   "source": [
    "# ****\n",
    "#  ***\n",
    "#   **\n",
    "#    *\n",
    "\n",
    "for i in range(4,0,-1):\n",
    "  print(\" \"*(4-i),end=\"\")\n",
    "  for j in range(1,i+1):\n",
    "    print(\"*\",end=\"\")\n",
    "  print()"
   ]
  },
  {
   "cell_type": "code",
   "execution_count": 76,
   "metadata": {},
   "outputs": [
    {
     "name": "stdout",
     "output_type": "stream",
     "text": [
      "    *\n",
      "   **\n",
      "  ***\n",
      " ****\n"
     ]
    }
   ],
   "source": [
    "#     *\n",
    "#    **\n",
    "#   ***\n",
    "#  ****\n",
    "\n",
    "for i in range(1,5):\n",
    "  print(\" \"*(5-i),end=\"\")\n",
    "  for j in range(1,i+1):\n",
    "    print(\"*\",end=\"\")\n",
    "  print()"
   ]
  },
  {
   "cell_type": "code",
   "execution_count": 89,
   "metadata": {},
   "outputs": [
    {
     "name": "stdout",
     "output_type": "stream",
     "text": [
      "    *\n",
      "   ***\n",
      "  *****\n",
      " *******\n"
     ]
    }
   ],
   "source": [
    "#     *\n",
    "#    ***\n",
    "#   *****\n",
    "#  *******\n",
    "\n",
    "for i in range(1,5):\n",
    "  print(\" \"*(5-i),end=\"\")\n",
    "  for j in range(1,i):\n",
    "    print(\"*\",end=\"*\")\n",
    "  print(\"*\")"
   ]
  },
  {
   "cell_type": "code",
   "execution_count": 90,
   "metadata": {},
   "outputs": [
    {
     "name": "stdout",
     "output_type": "stream",
     "text": [
      "         ۞\n",
      "        *꙰*\n",
      "       *꙰*꙰*\n",
      "      *꙰*꙰*꙰*\n",
      "     *꙰*꙰*꙰*꙰*\n",
      "    *꙰*꙰*꙰*꙰*꙰*\n",
      "   *꙰*꙰*꙰*꙰*꙰*꙰*\n",
      "  *꙰*꙰*꙰*꙰*꙰*꙰*꙰*\n",
      " *꙰*꙰*꙰*꙰*꙰*꙰*꙰*꙰*\n"
     ]
    }
   ],
   "source": [
    "# Christmas Tree for Timepass\n",
    "\n",
    "for r in range(1,10):\n",
    "    print(\" \"*(10-r), end=\"\")\n",
    "    if r==1:\n",
    "        print(\"۞\",end=\"\")\n",
    "        print()\n",
    "    else:\n",
    "        for c in range(1,r):\n",
    "            print(\"*\", end=\"꙰\")\n",
    "        print(\"*\")"
   ]
  },
  {
   "cell_type": "code",
   "execution_count": 1,
   "metadata": {},
   "outputs": [
    {
     "name": "stdout",
     "output_type": "stream",
     "text": [
      "9\n",
      "-1\n",
      "3\n",
      "43\n"
     ]
    }
   ],
   "source": [
    "# string functions\n",
    "\n",
    "s=\"Learning Python is very easy from Ashish Sir\"\n",
    "print(s.find(\"Python\"))\n",
    "print(s.find(\"Java\"))\n",
    "print(s.find(\"r\"))\n",
    "print(s.rfind(\"r\"))"
   ]
  },
  {
   "cell_type": "code",
   "execution_count": 3,
   "metadata": {},
   "outputs": [
    {
     "data": {
      "text/plain": [
       "2"
      ]
     },
     "execution_count": 3,
     "metadata": {},
     "output_type": "execute_result"
    }
   ],
   "source": [
    "# string count\n",
    "\n",
    "s=\"Learning Python is very easy from Ashish Sir\"\n",
    "s.count(\"r\")\n",
    "s.count('r', 5,40)"
   ]
  }
 ],
 "metadata": {
  "kernelspec": {
   "display_name": "Python 3",
   "language": "python",
   "name": "python3"
  },
  "language_info": {
   "codemirror_mode": {
    "name": "ipython",
    "version": 3
   },
   "file_extension": ".py",
   "mimetype": "text/x-python",
   "name": "python",
   "nbconvert_exporter": "python",
   "pygments_lexer": "ipython3",
   "version": "3.12.7"
  }
 },
 "nbformat": 4,
 "nbformat_minor": 2
}
