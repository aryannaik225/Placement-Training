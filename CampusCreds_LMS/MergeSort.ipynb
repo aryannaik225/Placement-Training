{
 "cells": [
  {
   "cell_type": "code",
   "execution_count": 3,
   "metadata": {},
   "outputs": [
    {
     "name": "stdout",
     "output_type": "stream",
     "text": [
      "[38, 27]\n",
      "[43, 10]\n"
     ]
    }
   ],
   "source": [
    "arr = [38, 27, 43, 10]\n",
    "\n",
    "mid = len(arr) // 2\n",
    "left_half = arr[:mid]\n",
    "right_half = arr[mid:]\n",
    "print(left_half)  \n",
    "print(right_half)"
   ]
  },
  {
   "cell_type": "code",
   "execution_count": 4,
   "metadata": {},
   "outputs": [
    {
     "name": "stdout",
     "output_type": "stream",
     "text": [
      "[10, 27, 38, 43]\n"
     ]
    }
   ],
   "source": [
    "def merge_sort(arr) :\n",
    "    if len(arr) <= 1:\n",
    "        return arr\n",
    "    \n",
    "    mid = len(arr) // 2\n",
    "    left_arr = merge_sort(arr[:mid])\n",
    "    right_arr = merge_sort(arr[mid:])\n",
    "    \n",
    "    return merge(left_arr, right_arr)\n",
    "    \n",
    "    \n",
    "def merge(left_arr, right_arr):\n",
    "    i = 0\n",
    "    j = 0\n",
    "    sorted_arr = []\n",
    "    \n",
    "    \n",
    "    while i<len(left_arr) and j<len(right_arr):\n",
    "        if left_arr[i]<=right_arr[j]:\n",
    "            sorted_arr.append(left_arr[i])\n",
    "            i+=1\n",
    "        else:\n",
    "            sorted_arr.append(right_arr[j])\n",
    "            j+=1\n",
    "        \n",
    "    sorted_arr.extend(left_arr[i:])\n",
    "    sorted_arr.extend(right_arr[j:])\n",
    "    \n",
    "    return sorted_arr\n",
    "        \n",
    "\n",
    "    \n",
    "arr = [38, 27, 43, 10]\n",
    "print(merge_sort(arr))"
   ]
  }
 ],
 "metadata": {
  "kernelspec": {
   "display_name": "Python 3",
   "language": "python",
   "name": "python3"
  },
  "language_info": {
   "codemirror_mode": {
    "name": "ipython",
    "version": 3
   },
   "file_extension": ".py",
   "mimetype": "text/x-python",
   "name": "python",
   "nbconvert_exporter": "python",
   "pygments_lexer": "ipython3",
   "version": "3.12.7"
  }
 },
 "nbformat": 4,
 "nbformat_minor": 2
}
