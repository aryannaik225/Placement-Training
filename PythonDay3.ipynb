{
 "cells": [
  {
   "cell_type": "code",
   "execution_count": 1,
   "metadata": {},
   "outputs": [
    {
     "name": "stdout",
     "output_type": "stream",
     "text": [
      "The last digit of 123 is: 3\n"
     ]
    }
   ],
   "source": [
    "# Find the last digit of any number\n",
    "numb = int(input(\"Enter a number: \"))\n",
    "res = numb%10\n",
    "print(\"The last digit of\",numb,\"is:\",res)"
   ]
  },
  {
   "cell_type": "code",
   "execution_count": 4,
   "metadata": {},
   "outputs": [
    {
     "name": "stdout",
     "output_type": "stream",
     "text": [
      "Sum of the two digits is:  10\n"
     ]
    }
   ],
   "source": [
    "# sum of two digit of number\n",
    "num1 = int(input(\"Enter a number: \"))\n",
    "print(\"Sum of the two digits is: \",((num1%10)+(num1//10)))"
   ]
  },
  {
   "cell_type": "code",
   "execution_count": 9,
   "metadata": {},
   "outputs": [
    {
     "name": "stdout",
     "output_type": "stream",
     "text": [
      "Sum of the digits in 234 is: 9\n"
     ]
    }
   ],
   "source": [
    "# sum of multiple digits\n",
    "num = int(input(\"Enter a number: \"))\n",
    "n=num\n",
    "remain= []\n",
    "while num!=0:\n",
    "  remain.append(num%10)\n",
    "  num = num//10\n",
    "sum=0\n",
    "for i in range(len(remain)):\n",
    "  sum+=remain[i]\n",
    "print(\"Sum of the digits in\",n,\"is:\",sum)"
   ]
  },
  {
   "cell_type": "code",
   "execution_count": 11,
   "metadata": {},
   "outputs": [
    {
     "name": "stdout",
     "output_type": "stream",
     "text": [
      "Sum of the digits in 234 is: 9\n"
     ]
    }
   ],
   "source": [
    "# the above code better way\n",
    "num = int(input(\"Enter a number: \"))\n",
    "n = num\n",
    "sum = 0\n",
    "while num!=0:\n",
    "  sum+=num%10\n",
    "  num = num//10\n",
    "print(\"Sum of the digits in\",n,\"is:\",sum)"
   ]
  },
  {
   "cell_type": "code",
   "execution_count": 46,
   "metadata": {},
   "outputs": [
    {
     "name": "stdout",
     "output_type": "stream",
     "text": [
      "Reverse of 1597 is 7951\n"
     ]
    }
   ],
   "source": [
    "# reverse of the digits\n",
    "num = int(input(\"Enter a number: \"))\n",
    "n = num\n",
    "remain = []\n",
    "while num!=0:\n",
    "  remain.append(num%10)\n",
    "  num = num//10\n",
    "\n",
    "res = 0\n",
    "for i in range(len(remain)):\n",
    "  res += remain[len(remain)-i-1]*(10**i)\n",
    "\n",
    "print(\"Reverse of {0} is {1}\".format(n,res))"
   ]
  },
  {
   "cell_type": "code",
   "execution_count": 45,
   "metadata": {},
   "outputs": [
    {
     "name": "stdout",
     "output_type": "stream",
     "text": [
      "Reverse of 234 is 432\n"
     ]
    }
   ],
   "source": [
    "# reverse of the digit, better method\n",
    "num = int(input(\"Enter a number: \"))\n",
    "n=num\n",
    "rev = 0\n",
    "while num > 0:\n",
    "  rem = num % 10\n",
    "  rev = (rev*10)+rem\n",
    "  num = num//10\n",
    "print(\"Reverse of {0} is {1}\".format(n,rev))"
   ]
  },
  {
   "cell_type": "code",
   "execution_count": 23,
   "metadata": {},
   "outputs": [
    {
     "name": "stdout",
     "output_type": "stream",
     "text": [
      "Sum of first digit and last digit of 123456 is 7\n"
     ]
    }
   ],
   "source": [
    "# find sum of first and last digit of a 6 digit number in three steps\n",
    "num = int(input(\"Enter a number: \"))\n",
    "n1 = num%10\n",
    "n2 = num//100000\n",
    "print(\"Sum of first digit and last digit of\",num,\"is\",(n1+n2))"
   ]
  },
  {
   "cell_type": "code",
   "execution_count": 24,
   "metadata": {},
   "outputs": [
    {
     "name": "stdout",
     "output_type": "stream",
     "text": [
      "before swapping a= 10 b= 20\n",
      "after swapping a= 20 b= 10\n"
     ]
    }
   ],
   "source": [
    "# swapping \n",
    "a=10\n",
    "b=20\n",
    "print(\"before swapping a=\",a,\"b=\",b)\n",
    "a,b = b,a\n",
    "print(\"after swapping a=\",a,\"b=\",b)"
   ]
  },
  {
   "cell_type": "code",
   "execution_count": 2,
   "metadata": {},
   "outputs": [
    {
     "name": "stdout",
     "output_type": "stream",
     "text": [
      "(7+5j)\n",
      "(3+4j)\n",
      "(2+3j)\n",
      "(22+3.5j)\n",
      "(1+1j)\n",
      "(1+0j)\n",
      "1j\n",
      "0j\n"
     ]
    }
   ],
   "source": [
    "# complex datatype\n",
    "a=3+2j\n",
    "b=4+3j\n",
    "res=a+b\n",
    "print(res)\n",
    "c=3\n",
    "d=4\n",
    "e1=complex(c,d)\n",
    "print(e1)\n",
    "print(complex(2,3))\n",
    "print(complex(22,3.5))\n",
    "print(complex(True, True))\n",
    "print(complex(True, False))\n",
    "print(complex(False, True))\n",
    "print(complex(False, False))"
   ]
  },
  {
   "cell_type": "code",
   "execution_count": 3,
   "metadata": {},
   "outputs": [
    {
     "name": "stdout",
     "output_type": "stream",
     "text": [
      "True\n",
      "False\n",
      "False\n"
     ]
    }
   ],
   "source": [
    "# Identity Operator\n",
    "\n",
    "a = 10\n",
    "b = 10\n",
    "print(a is b)\n",
    "print(a is not b)\n",
    "x = True\n",
    "y = True\n",
    "print(x is not y)"
   ]
  },
  {
   "cell_type": "code",
   "execution_count": 7,
   "metadata": {},
   "outputs": [
    {
     "name": "stdout",
     "output_type": "stream",
     "text": [
      "True\n",
      "False\n",
      "True\n",
      "True\n"
     ]
    }
   ],
   "source": [
    "# Membership Operator\n",
    "\n",
    "x = 'hello learning in Python is very easy!'\n",
    "print('h' in x)\n",
    "print('java' in x)\n",
    "print(\"Python\" in  x)\n",
    "print(\"d\" not in x)"
   ]
  },
  {
   "cell_type": "code",
   "execution_count": 9,
   "metadata": {},
   "outputs": [
    {
     "name": "stdout",
     "output_type": "stream",
     "text": [
      "26\n"
     ]
    }
   ],
   "source": [
    "# eval()\n",
    "\n",
    "res=eval(input(\"Enter an equation: \"))\n",
    "print(res)"
   ]
  },
  {
   "cell_type": "code",
   "execution_count": 11,
   "metadata": {},
   "outputs": [
    {
     "name": "stdout",
     "output_type": "stream",
     "text": [
      "hello world\n",
      "hello\n",
      "world\n",
      "hello\tworld\n",
      "hahahahahahahahahahahahahahahahahahahahahahahahahahahahahahahahahahahahahahahahahahahahahahahahahaha\n"
     ]
    }
   ],
   "source": [
    "# string printing\n",
    "print(\"hello\"+\" world\")\n",
    "print(\"hello\\nworld\")\n",
    "print('hello\\tworld')\n",
    "print('ha'*50)\n"
   ]
  },
  {
   "cell_type": "code",
   "execution_count": 14,
   "metadata": {},
   "outputs": [
    {
     "name": "stdout",
     "output_type": "stream",
     "text": [
      "10,20,30\n",
      "10:20:30\n",
      "102030\n"
     ]
    }
   ],
   "source": [
    "# seperation\n",
    "\n",
    "a=10\n",
    "b=20\n",
    "c=30\n",
    "print(a,b,c,sep=',')\n",
    "print(a,b,c,sep=':')\n",
    "print(a,b,c,sep='')"
   ]
  },
  {
   "cell_type": "code",
   "execution_count": 16,
   "metadata": {},
   "outputs": [
    {
     "name": "stdout",
     "output_type": "stream",
     "text": [
      "Hello\n",
      "World\n",
      "Hello World\n",
      "Hello, World\n"
     ]
    }
   ],
   "source": [
    "# end operator\n",
    "print(\"Hello\")\n",
    "print(\"World\")\n",
    "print(\"Hello\", end=\" \")\n",
    "print(\"World\")\n",
    "print(\"Hello\", end=', ')\n",
    "print(\"World\")\n"
   ]
  },
  {
   "cell_type": "code",
   "execution_count": 19,
   "metadata": {},
   "outputs": [
    {
     "name": "stdout",
     "output_type": "stream",
     "text": [
      "Value of a= 10\n",
      "Value of a=10\n",
      "Hello Ashish ...The list of items are [10, 20, 30, 40]\n"
     ]
    }
   ],
   "source": [
    "# string formatting\n",
    "a = 10\n",
    "b = 20\n",
    "c = 30\n",
    "print(\"Value of a=\",a)\n",
    "#there is a space after a in the output\n",
    "print(\"Value of a=%d\" %a)\n",
    "\n",
    "s=\"Ashish\"\n",
    "list=[10,20,30,40]\n",
    "print(\"Hello %s ...The list of items are %s\" %(s,list))"
   ]
  },
  {
   "cell_type": "code",
   "execution_count": 22,
   "metadata": {},
   "outputs": [
    {
     "name": "stdout",
     "output_type": "stream",
     "text": [
      "Hello Vijay your salary is 30000 and Company TCS\n",
      "Hello Vijay your salary is 30000 and Company TCS\n"
     ]
    }
   ],
   "source": [
    "# replacement operator\n",
    "name=\"Vijay\"\n",
    "salary=30000\n",
    "company='TCS'\n",
    "print(\"Hello {0} your salary is {1} and Company {2}\".format(name, salary, company))\n",
    "print(\"Hello {x} your salary is {y} and Company {z}\".format(y=salary, x=name, z=company))"
   ]
  },
  {
   "cell_type": "code",
   "execution_count": 30,
   "metadata": {},
   "outputs": [
    {
     "name": "stdout",
     "output_type": "stream",
     "text": [
      "30\n"
     ]
    }
   ],
   "source": [
    "# simple if\n",
    "# Accept 5 numbers and find max number using\n",
    "\n",
    "n1,n2,n3,n4,n5 = int(input(\"Enter 5 numbers: \")), int(input()), int(input()), int(input()), int(input())\n",
    "\n",
    "max = 0\n",
    "if n1>max:\n",
    "  max = n1\n",
    "if n2>max:\n",
    "  max = n2\n",
    "if n3>max:\n",
    "  max = n3\n",
    "if n4>max:\n",
    "  max = n4\n",
    "if n5>max:\n",
    "  max = n5\n",
    "\n",
    "print(max)"
   ]
  },
  {
   "cell_type": "code",
   "execution_count": null,
   "metadata": {},
   "outputs": [
    {
     "name": "stdout",
     "output_type": "stream",
     "text": [
      "Total Marks achieved = 472\n",
      "Percentage = 94.4%\n",
      "You are eligible for admission\n"
     ]
    }
   ],
   "source": [
    "# Accept 5 paper marks, find total & percentage\n",
    "# Accept gender (f/m)\n",
    "# if perc>=82 and gender is female then she can take admission\n",
    "# if perc>=62 and gender is male then he can take admission\n",
    "# else admission not alloted\n",
    "\n",
    "a,b,c,d,e = int(input(\"Enter marks of 1st subject: \")), int(input(\"Enter marks of 2nd subject: \")), int(input(\"Enter marks of 3rd subject: \")), int(input(\"Enter marks of 4th subject: \")), int(input(\"Enter marks of 5th subject: \"))\n",
    "gen = input(\"Enter your gender(f/m): \")\n",
    "\n",
    "total = a+b+c+d+e\n",
    "print(\"Total Marks achieved =\",total)\n",
    "perc = total/5\n",
    "print(\"Percentage = {0}%\".format(perc))\n",
    "\n",
    "if gen == 'f' and perc>=82:\n",
    "  print(\"You are eligible for admission\")\n",
    "elif gen == 'm' and perc>=62:\n",
    "  print(\"You are eligible for admission\")\n",
    "else:\n",
    "  print(\"You are not eligible for admission\")"
   ]
  },
  {
   "cell_type": "code",
   "execution_count": 36,
   "metadata": {},
   "outputs": [
    {
     "name": "stdout",
     "output_type": "stream",
     "text": [
      "@ is special character\n"
     ]
    }
   ],
   "source": [
    "# ASCII value\n",
    "# Convert character to Ascii we use ord() function\n",
    "# To convert Ascii to character we use chr() function\n",
    "\n",
    "# write a program to check character is uppercase, lowercase, digit or special symbol\n",
    "ch = input(\"Enter any character: \")\n",
    "ch = ord(ch)\n",
    "if ch>=97 and ch<=122:\n",
    "  print(\"{0} is lowercase\".format(chr(ch)))\n",
    "elif ch>=65 and ch<=90:\n",
    "  print(\"{0} is uppercase\".format(chr(ch)))\n",
    "elif ch<=57 and ch>=48:\n",
    "  print(\"{0} is a digit\".format(chr(ch)))\n",
    "else:\n",
    "  print(\"{0} is special character\".format(chr(ch)))\n"
   ]
  },
  {
   "cell_type": "code",
   "execution_count": 40,
   "metadata": {},
   "outputs": [
    {
     "name": "stdout",
     "output_type": "stream",
     "text": [
      "2024 is a non-century leap year\n"
     ]
    }
   ],
   "source": [
    "# WAP to check yaar is leap year or not\n",
    "# century leap year, non-century leap year, non-leap year\n",
    "# century leap year =>  divisible by 400\n",
    "# non-century leap year => divisible by 4\n",
    "\n",
    "year = int(input(\"Enter the year: \"))\n",
    "\n",
    "if year%400==0:\n",
    "  print(\"{0} is a century leap year\".format(year))\n",
    "elif year%4==0:\n",
    "  print(\"{0} is a non-century leap year\".format(year))\n",
    "else:\n",
    "  print(\"{0} is not a leap year\".format(year))\n",
    "\n",
    "\n"
   ]
  },
  {
   "cell_type": "code",
   "execution_count": 43,
   "metadata": {},
   "outputs": [
    {
     "name": "stdout",
     "output_type": "stream",
     "text": [
      "Cost Price => 95000\n",
      "Discount Received => 9500.0\n",
      "Net Price => 85500.0\n"
     ]
    }
   ],
   "source": [
    "# WAP to accept Cost Price from user and ask whether the user is a student or not.\n",
    "# If the user is student and cost price is greater than 500, give discount of 10% ELSE discount will be given 5%\n",
    "# If user is not student and cost price is greater than 500, give discount of 8% ELSE discount will be given 2%.\n",
    "# (Take all inputs from user) \n",
    "# net price = cost price - discount\n",
    "\n",
    "cp = int(input('Enter the cost price: '))\n",
    "stud = input(\"Are you a student? y or n: \")\n",
    "\n",
    "if stud == 'y':\n",
    "  if cp>500:\n",
    "    disc = (10/100)*cp\n",
    "  else:\n",
    "    disc = (5/100)*cp\n",
    "elif stud == 'n':\n",
    "  if cp>500:\n",
    "    disc = (8/100)*cp\n",
    "  else:\n",
    "    disc = (2/100)*cp\n",
    "else:\n",
    "  print(\"Invalid response to student\")\n",
    "\n",
    "print(\"Cost Price =>\",cp)\n",
    "print(\"Discount Received =>\",disc)\n",
    "print(\"Net Price =>\",(cp-disc))\n"
   ]
  },
  {
   "cell_type": "code",
   "execution_count": 49,
   "metadata": {},
   "outputs": [
    {
     "name": "stdout",
     "output_type": "stream",
     "text": [
      "Entered number => 124\n",
      "Count of digits => 3\n",
      "Sum of digits => 7\n",
      "Multiplication of digit => 8\n"
     ]
    }
   ],
   "source": [
    "# count the number of digits, sum of digits, multiplication of digits\n",
    "\n",
    "num = int(input('Enter any number: '))\n",
    "print(\"Entered number =>\", num)\n",
    "\n",
    "sum=0\n",
    "mul=1\n",
    "count=0\n",
    "\n",
    "while num!=0:\n",
    "  sum+=num%10\n",
    "  mul*=num%10\n",
    "  num = num//10\n",
    "  count+=1\n",
    "print(\"Count of digits =>\", count)\n",
    "print(\"Sum of digits =>\", sum)\n",
    "print(\"Multiplication of digit =>\", mul)"
   ]
  },
  {
   "cell_type": "code",
   "execution_count": 54,
   "metadata": {},
   "outputs": [
    {
     "name": "stdout",
     "output_type": "stream",
     "text": [
      "Factorial of 5 is 120\n"
     ]
    }
   ],
   "source": [
    "# find factorial of a number\n",
    "num = int(input(\"Enter a number: \"))\n",
    "n = num\n",
    "fact = 1\n",
    "while num!=0:\n",
    "  fact*=num\n",
    "  num-=1\n",
    "print(\"Factorial of {0} is {1}\".format(n,fact))"
   ]
  },
  {
   "cell_type": "code",
   "execution_count": 59,
   "metadata": {},
   "outputs": [
    {
     "name": "stdout",
     "output_type": "stream",
     "text": [
      "153 is an armstrong number\n"
     ]
    }
   ],
   "source": [
    "# check if the number is amrstrong or not\n",
    "num = int(input('Enter any number: '))\n",
    "n = num\n",
    "\n",
    "sum=0\n",
    "remain = []\n",
    "count=0\n",
    "\n",
    "while num!=0:\n",
    "  remain.append(num%10)\n",
    "  num=num//10\n",
    "  count+=1\n",
    "\n",
    "for i in range(count):\n",
    "  sum+=remain[i]**count\n",
    "\n",
    "if n == sum:\n",
    "  print(\"{0} is an armstrong number\".format(n))\n",
    "else:\n",
    "  print(\"{0} is not an armstrong number\".format(n))"
   ]
  },
  {
   "cell_type": "code",
   "execution_count": 62,
   "metadata": {},
   "outputs": [
    {
     "name": "stdout",
     "output_type": "stream",
     "text": [
      "1\n",
      "2\n",
      "3\n",
      "4\n",
      "5\n",
      "6\n",
      "7\n",
      "8\n",
      "9\n",
      "153\n",
      "370\n",
      "371\n",
      "407\n",
      "1634\n",
      "8208\n",
      "9474\n",
      "54748\n",
      "92727\n",
      "93084\n"
     ]
    }
   ],
   "source": [
    "# check if the number is amrstrong \n",
    "\n",
    "def armstrong(num):\n",
    "  n = num\n",
    "\n",
    "  sum=0\n",
    "  remain = []\n",
    "  count=0\n",
    "\n",
    "  while num!=0:\n",
    "    remain.append(num%10)\n",
    "    num=num//10\n",
    "    count+=1\n",
    "\n",
    "  for i in range(count):\n",
    "    sum+=remain[i]**count\n",
    "\n",
    "  if n == sum:\n",
    "    print(n)\n",
    "    return\n",
    "  else:\n",
    "    return\n",
    "\n",
    "\n",
    "for i in range(1, 100000):\n",
    "  armstrong(i)"
   ]
  },
  {
   "cell_type": "code",
   "execution_count": 68,
   "metadata": {},
   "outputs": [
    {
     "name": "stdout",
     "output_type": "stream",
     "text": [
      "6006 is a palindrome\n"
     ]
    }
   ],
   "source": [
    "# check if the number is palindrome\n",
    "num = int(input(\"Enter a number: \"))\n",
    "n=num\n",
    "rev = 0\n",
    "while num > 0:\n",
    "  rem = num % 10\n",
    "  rev = (rev*10)+rem\n",
    "  num = num//10\n",
    "\n",
    "if n == rev:\n",
    "  print(n,\"is a palindrome\")\n",
    "else:\n",
    "  print(n,\"is not a palindrome\")\n"
   ]
  },
  {
   "cell_type": "code",
   "execution_count": 76,
   "metadata": {},
   "outputs": [
    {
     "name": "stdout",
     "output_type": "stream",
     "text": [
      "145 is a peterson number\n"
     ]
    }
   ],
   "source": [
    "# check if the number is peterson number\n",
    "# a number is said to be peterson if the sum of factorials of each digit is equal to the sum of the number itself\n",
    "# suppose we have to check the number 145.\n",
    "# 145 = 1!+4!+5!\n",
    "#     = 1+24+120\n",
    "# 145 = 145\n",
    "\n",
    "num = int(input('Enter any number: '))\n",
    "n = num\n",
    "\n",
    "sum=0\n",
    "\n",
    "while num!=0:\n",
    "  rem = num%10\n",
    "  fact=1\n",
    "  for i in range(1,rem+1):\n",
    "    fact*=i\n",
    "  sum+=fact\n",
    "  num=num//10\n",
    "  \n",
    "\n",
    "if n == sum:\n",
    "  print(\"{0} is a peterson number\".format(n))\n",
    "else:\n",
    "  print(\"{0} is not an peterson number\".format(n))\n"
   ]
  },
  {
   "cell_type": "code",
   "execution_count": 77,
   "metadata": {},
   "outputs": [
    {
     "name": "stdout",
     "output_type": "stream",
     "text": [
      "1\n",
      "2\n",
      "145\n",
      "40585\n"
     ]
    }
   ],
   "source": [
    "# peterson number till whatever limit\n",
    "\n",
    "for num in range(1,10000000):\n",
    "  n = num\n",
    "\n",
    "  sum=0\n",
    "\n",
    "  while num!=0:\n",
    "    rem = num%10\n",
    "    fact=1\n",
    "    for i in range(1,rem+1):\n",
    "      fact*=i\n",
    "    sum+=fact\n",
    "    num=num//10\n",
    "    \n",
    "\n",
    "  if n == sum:\n",
    "    print(n)"
   ]
  },
  {
   "cell_type": "code",
   "execution_count": 95,
   "metadata": {},
   "outputs": [
    {
     "name": "stdout",
     "output_type": "stream",
     "text": [
      "76 is an automorphic number\n",
      "Square of 76 => 5776\n"
     ]
    }
   ],
   "source": [
    "# automorphic number\n",
    "# a number is called an automorphic number if and only if the square of the given number ends with the same number itself.\n",
    "\n",
    "# for example, 25, 76 are automorphic numbers because their square is 625 and 5776.\n",
    "# respectively and the last two digits of the square represent the number itself.\n",
    "# Some other automorphic numbers are 5, 6, 890625, etc.\n",
    "\n",
    "\n",
    "num = int(input(\"Enter a number: \"))\n",
    "n = num\n",
    "count = 0\n",
    "\n",
    "while num!=0:\n",
    "  num=num//10\n",
    "  count+=1\n",
    "\n",
    "sqr = n**2\n",
    "if sqr%(10**count) == n:\n",
    "  print(n,\"is an automorphic number\\nSquare of\",n,\"=>\",sqr)\n",
    "else:\n",
    "  print(n,\"is not an automorphic number\")"
   ]
  },
  {
   "cell_type": "code",
   "execution_count": 9,
   "metadata": {},
   "outputs": [
    {
     "name": "stdout",
     "output_type": "stream",
     "text": [
      "Dividing 2025 into two numbers we get 20 and 25\n",
      "Sum of the two numbers => 45\n",
      "Square of sum => 2025\n",
      "2025 is a Tech Number\n"
     ]
    }
   ],
   "source": [
    "# Tech Number\n",
    "# A number is called a tech number if the given number has an even number of digits and \n",
    "# the number can be divided exactly into two parts from the middle.\n",
    "# After equally dividing the number, sum up the numbers and find the square of the sum.\n",
    "# if we get the number itself as square, the given number is a tech number,\n",
    "# else, not a tech number.\n",
    "\n",
    "# for example, 2025 is a tech number.\n",
    "# 2025= 20  25\n",
    "# 20+25=45\n",
    "# 45*45=2025\n",
    "\n",
    "num = int(input(\"Enter a number: \"))\n",
    "n = num\n",
    "count=0\n",
    "while n!=0:\n",
    "  n=n//10\n",
    "  count+=1\n",
    "if count%2==0:\n",
    "  n1=num//(10**(count/2))\n",
    "  n2=num%(10**(count/2))\n",
    "  print(\"Dividing {0} into two numbers we get {1} and {2}\".format(num,int(n1),int(n2)))\n",
    "  print(\"Sum of the two numbers => {0}\\nSquare of sum => {1}\".format(int((n1+n2)),int(((n1+n2)**2))))\n",
    "\n",
    "  if num == int((n1+n2)**2):\n",
    "    print(\"{0} is a Tech Number\".format(int(num)))\n",
    "  else:\n",
    "    print(\"{0} is not a Tech Number\".format(int(num)))\n",
    "else:\n",
    "  print(\"{0} is not a Tech Number\".format(int(num)))"
   ]
  }
 ],
 "metadata": {
  "kernelspec": {
   "display_name": "Python 3",
   "language": "python",
   "name": "python3"
  },
  "language_info": {
   "codemirror_mode": {
    "name": "ipython",
    "version": 3
   },
   "file_extension": ".py",
   "mimetype": "text/x-python",
   "name": "python",
   "nbconvert_exporter": "python",
   "pygments_lexer": "ipython3",
   "version": "3.12.7"
  }
 },
 "nbformat": 4,
 "nbformat_minor": 2
}
