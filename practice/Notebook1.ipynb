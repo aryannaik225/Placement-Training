{
 "cells": [
  {
   "cell_type": "markdown",
   "metadata": {},
   "source": [
    "# PDF - DSA Lec Questions"
   ]
  },
  {
   "cell_type": "code",
   "execution_count": 4,
   "metadata": {},
   "outputs": [
    {
     "name": "stdout",
     "output_type": "stream",
     "text": [
      "Circumference of the circle with radius 4 units is 25.12 units\n"
     ]
    }
   ],
   "source": [
    "# WAP to calculate the circumference of a circle.\n",
    "\n",
    "r = int(input(\"Enter the radius: \"))\n",
    "circumference = 2*3.14*r\n",
    "print(\"Circumference of the circle with radius {0} units is {1} units\".format(r, circumference))"
   ]
  },
  {
   "cell_type": "code",
   "execution_count": 6,
   "metadata": {},
   "outputs": [
    {
     "name": "stdout",
     "output_type": "stream",
     "text": [
      "Reverse of 123 is 321\n"
     ]
    }
   ],
   "source": [
    "# WAP to reverse three digit number.\n",
    "\n",
    "numb = int(input(\"Enter a three digit number: \"))\n",
    "n = numb\n",
    "res = 0\n",
    "\n",
    "for _ in range(3):\n",
    "  res = (res*10)+numb%10\n",
    "  numb = numb//10\n",
    "\n",
    "print(\"Reverse of {0} is {1}\".format(n, res))"
   ]
  },
  {
   "cell_type": "code",
   "execution_count": 7,
   "metadata": {},
   "outputs": [
    {
     "name": "stdout",
     "output_type": "stream",
     "text": [
      "a = 22, b = 11\n"
     ]
    }
   ],
   "source": [
    "# Swapping of two numbers using third variable\n",
    "a,b = int(input(\"Enter a = \")), int(input(\"Enter b = \"))\n",
    "temp = a\n",
    "a = b\n",
    "b = temp\n",
    "print(\"a = {0}, b = {1}\".format(a,b))"
   ]
  },
  {
   "cell_type": "code",
   "execution_count": 8,
   "metadata": {},
   "outputs": [
    {
     "name": "stdout",
     "output_type": "stream",
     "text": [
      "Found 2 at position 3\n"
     ]
    }
   ],
   "source": [
    "# Linear Search\n",
    "# 1. Mylist = [4,7,5,2,8,1,9]   \n",
    "# target value = 2\n",
    "\n",
    "mylist = [4,7,5,2,8,1,9]\n",
    "target_value = 2\n",
    "\n",
    "for i in range(len(mylist)):\n",
    "  if mylist[i]==target_value:\n",
    "    print(\"Found {0} at position {1}\".format(target_value, i))\n",
    "    break\n",
    "else:\n",
    "  print(\"{0} was not found in the list\".format(target_value))"
   ]
  },
  {
   "cell_type": "code",
   "execution_count": 10,
   "metadata": {},
   "outputs": [
    {
     "name": "stdout",
     "output_type": "stream",
     "text": [
      "Please login\n",
      "Username =  pritam@321\n",
      "Password =  12345678\n",
      "User already exists\n"
     ]
    }
   ],
   "source": [
    "# 2. **Check if the username already exists using linear search. Add to the list if it does not exist.**\n",
    "# username = [’ashish123’, ‘123ashish’, ‘pritam@321’, ‘sonu#123’, ‘amit’]  \n",
    "# password = []\n",
    "\n",
    "print(\"Please login\")\n",
    "user = input(\"Username: \")\n",
    "print(\"Username = \", user)\n",
    "passwd = input(\"Password: \")\n",
    "print(\"Password = \", passwd)\n",
    "\n",
    "username = ['ashish123', '123ashish', 'pritam@321', 'sonu#123', 'amit'] \n",
    "password = []\n",
    "\n",
    "if user in username:\n",
    "  print(\"User already exists\")\n",
    "else:\n",
    "  username.append(user)\n",
    "  password.append(passwd)\n",
    "  print(\"Successfully logged in\")"
   ]
  },
  {
   "cell_type": "code",
   "execution_count": 16,
   "metadata": {},
   "outputs": [
    {
     "name": "stdout",
     "output_type": "stream",
     "text": [
      "On page 40 we found the Chapter 5\n"
     ]
    }
   ],
   "source": [
    "# WAP to search a lesson from Book by page number using binary search.\n",
    "\n",
    "book = {1 : \"Chapter 1\", 10 : 'Chapter 2', 20 : 'Chapter 3', 30 : 'Chapter 4', 40 : 'Chapter 5'}\n",
    "\n",
    "target = int(input(\"Page number of the target chapter: \"))\n",
    "low = list(book.keys())[0]\n",
    "high = list(book.keys())[-1]\n",
    "\n",
    "while low <= high:\n",
    "  mid = (low+high) // 2\n",
    "\n",
    "  if mid < target:\n",
    "    low = mid + 1\n",
    "  elif mid > target:\n",
    "    high = mid - 1\n",
    "  else:\n",
    "    print(\"On page {0} we found the {1}\".format(target, book[mid]))\n",
    "    break\n",
    "else:\n",
    "  print(\"No chapter found on page {0}\".format(target))\n"
   ]
  },
  {
   "cell_type": "code",
   "execution_count": 19,
   "metadata": {},
   "outputs": [
    {
     "name": "stdout",
     "output_type": "stream",
     "text": [
      "[5, 6, 7, 11, 12, 13]\n"
     ]
    }
   ],
   "source": [
    "# Merge Sort\n",
    "\n",
    "# 1. **Apply merge sort on the following.**  \n",
    "# Input Array : [12, 11, 13, 5, 6, 7]\n",
    "\n",
    "def divide(array):\n",
    "  if len(array) <= 1:\n",
    "    return array\n",
    "  \n",
    "  mid = len(array) // 2\n",
    "  left_half = divide(array[:mid])\n",
    "  right_half = divide(array[mid:])\n",
    "\n",
    "  return merge(left_half, right_half)\n",
    "\n",
    "\n",
    "def merge(left, right):\n",
    "  sorted_arr = []\n",
    "  i = j = 0\n",
    "  while i<len(left) and j<len(right):\n",
    "    if left[i] < right[j]:\n",
    "      sorted_arr.append(left[i])\n",
    "      i+=1\n",
    "    else:\n",
    "      sorted_arr.append(right[j])\n",
    "      j+=1\n",
    "\n",
    "  sorted_arr.extend(left[i:])\n",
    "  sorted_arr.extend(right[j:])\n",
    "\n",
    "  return sorted_arr\n",
    "\n",
    "arr = [12, 11, 13, 5, 6, 7]\n",
    "sorted_arr = divide(arr)\n",
    "print(sorted_arr)\n",
    "\n",
    "    "
   ]
  }
 ],
 "metadata": {
  "kernelspec": {
   "display_name": "Python 3",
   "language": "python",
   "name": "python3"
  },
  "language_info": {
   "codemirror_mode": {
    "name": "ipython",
    "version": 3
   },
   "file_extension": ".py",
   "mimetype": "text/x-python",
   "name": "python",
   "nbconvert_exporter": "python",
   "pygments_lexer": "ipython3",
   "version": "3.12.7"
  }
 },
 "nbformat": 4,
 "nbformat_minor": 2
}
